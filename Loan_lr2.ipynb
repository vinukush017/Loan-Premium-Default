{
 "cells": [
  {
   "cell_type": "markdown",
   "id": "preceding-white",
   "metadata": {},
   "source": [
    " # Predicting whether a person will default on their Premium"
   ]
  },
  {
   "cell_type": "markdown",
   "id": "sustained-delay",
   "metadata": {},
   "source": [
    "## Problem"
   ]
  },
  {
   "cell_type": "markdown",
   "id": "continued-finger",
   "metadata": {},
   "source": [
    "Client is an Insurance company and they need help in building a model to predict whether the policyholder (customer) will pay next premium on time or not."
   ]
  },
  {
   "cell_type": "code",
   "execution_count": 553,
   "id": "accurate-ranch",
   "metadata": {},
   "outputs": [],
   "source": [
    "# Importing Library\n",
    "import numpy as np\n",
    "import pandas as pd\n",
    "import matplotlib.pyplot as plt\n",
    "import seaborn as sns\n",
    "%matplotlib inline"
   ]
  },
  {
   "cell_type": "code",
   "execution_count": 554,
   "id": "geological-minimum",
   "metadata": {},
   "outputs": [],
   "source": [
    "#Read data into dataframes\n",
    "df = pd.read_csv('train.csv')"
   ]
  },
  {
   "cell_type": "markdown",
   "id": "sitting-initial",
   "metadata": {},
   "source": [
    "# Exploratory Data Analysis (EDA)"
   ]
  },
  {
   "cell_type": "markdown",
   "id": "revolutionary-strip",
   "metadata": {},
   "source": [
    "Let's first have a look at the dataset and understand the size, attribute names etc."
   ]
  },
  {
   "cell_type": "code",
   "execution_count": 555,
   "id": "judicial-sustainability",
   "metadata": {},
   "outputs": [
    {
     "data": {
      "text/html": [
       "<div>\n",
       "<style scoped>\n",
       "    .dataframe tbody tr th:only-of-type {\n",
       "        vertical-align: middle;\n",
       "    }\n",
       "\n",
       "    .dataframe tbody tr th {\n",
       "        vertical-align: top;\n",
       "    }\n",
       "\n",
       "    .dataframe thead th {\n",
       "        text-align: right;\n",
       "    }\n",
       "</style>\n",
       "<table border=\"1\" class=\"dataframe\">\n",
       "  <thead>\n",
       "    <tr style=\"text-align: right;\">\n",
       "      <th></th>\n",
       "      <th>id</th>\n",
       "      <th>perc_premium_paid_by_cash_credit</th>\n",
       "      <th>age_in_days</th>\n",
       "      <th>Income</th>\n",
       "      <th>Count_3-6_months_late</th>\n",
       "      <th>Count_6-12_months_late</th>\n",
       "      <th>Count_more_than_12_months_late</th>\n",
       "      <th>application_underwriting_score</th>\n",
       "      <th>no_of_premiums_paid</th>\n",
       "      <th>sourcing_channel</th>\n",
       "      <th>residence_area_type</th>\n",
       "      <th>target</th>\n",
       "    </tr>\n",
       "  </thead>\n",
       "  <tbody>\n",
       "    <tr>\n",
       "      <th>0</th>\n",
       "      <td>110936</td>\n",
       "      <td>0.42900</td>\n",
       "      <td>12058</td>\n",
       "      <td>355060</td>\n",
       "      <td>0.00000</td>\n",
       "      <td>0.00000</td>\n",
       "      <td>0.00000</td>\n",
       "      <td>99.02000</td>\n",
       "      <td>13</td>\n",
       "      <td>C</td>\n",
       "      <td>Urban</td>\n",
       "      <td>1</td>\n",
       "    </tr>\n",
       "    <tr>\n",
       "      <th>1</th>\n",
       "      <td>41492</td>\n",
       "      <td>0.01000</td>\n",
       "      <td>21546</td>\n",
       "      <td>315150</td>\n",
       "      <td>0.00000</td>\n",
       "      <td>0.00000</td>\n",
       "      <td>0.00000</td>\n",
       "      <td>99.89000</td>\n",
       "      <td>21</td>\n",
       "      <td>A</td>\n",
       "      <td>Urban</td>\n",
       "      <td>1</td>\n",
       "    </tr>\n",
       "    <tr>\n",
       "      <th>2</th>\n",
       "      <td>31300</td>\n",
       "      <td>0.91700</td>\n",
       "      <td>17531</td>\n",
       "      <td>84140</td>\n",
       "      <td>2.00000</td>\n",
       "      <td>3.00000</td>\n",
       "      <td>1.00000</td>\n",
       "      <td>98.69000</td>\n",
       "      <td>7</td>\n",
       "      <td>C</td>\n",
       "      <td>Rural</td>\n",
       "      <td>0</td>\n",
       "    </tr>\n",
       "    <tr>\n",
       "      <th>3</th>\n",
       "      <td>19415</td>\n",
       "      <td>0.04900</td>\n",
       "      <td>15341</td>\n",
       "      <td>250510</td>\n",
       "      <td>0.00000</td>\n",
       "      <td>0.00000</td>\n",
       "      <td>0.00000</td>\n",
       "      <td>99.57000</td>\n",
       "      <td>9</td>\n",
       "      <td>A</td>\n",
       "      <td>Urban</td>\n",
       "      <td>1</td>\n",
       "    </tr>\n",
       "    <tr>\n",
       "      <th>4</th>\n",
       "      <td>99379</td>\n",
       "      <td>0.05200</td>\n",
       "      <td>31400</td>\n",
       "      <td>198680</td>\n",
       "      <td>0.00000</td>\n",
       "      <td>0.00000</td>\n",
       "      <td>0.00000</td>\n",
       "      <td>99.87000</td>\n",
       "      <td>12</td>\n",
       "      <td>B</td>\n",
       "      <td>Urban</td>\n",
       "      <td>1</td>\n",
       "    </tr>\n",
       "  </tbody>\n",
       "</table>\n",
       "</div>"
      ],
      "text/plain": [
       "       id  perc_premium_paid_by_cash_credit  age_in_days  Income  \\\n",
       "0  110936                           0.42900        12058  355060   \n",
       "1   41492                           0.01000        21546  315150   \n",
       "2   31300                           0.91700        17531   84140   \n",
       "3   19415                           0.04900        15341  250510   \n",
       "4   99379                           0.05200        31400  198680   \n",
       "\n",
       "   Count_3-6_months_late  Count_6-12_months_late  \\\n",
       "0                0.00000                 0.00000   \n",
       "1                0.00000                 0.00000   \n",
       "2                2.00000                 3.00000   \n",
       "3                0.00000                 0.00000   \n",
       "4                0.00000                 0.00000   \n",
       "\n",
       "   Count_more_than_12_months_late  application_underwriting_score  \\\n",
       "0                         0.00000                        99.02000   \n",
       "1                         0.00000                        99.89000   \n",
       "2                         1.00000                        98.69000   \n",
       "3                         0.00000                        99.57000   \n",
       "4                         0.00000                        99.87000   \n",
       "\n",
       "   no_of_premiums_paid sourcing_channel residence_area_type  target  \n",
       "0                   13                C               Urban       1  \n",
       "1                   21                A               Urban       1  \n",
       "2                    7                C               Rural       0  \n",
       "3                    9                A               Urban       1  \n",
       "4                   12                B               Urban       1  "
      ]
     },
     "execution_count": 555,
     "metadata": {},
     "output_type": "execute_result"
    }
   ],
   "source": [
    "# take a look at the top 5 rows of the train set, notice the column \"target \"\n",
    "df.head()"
   ]
  },
  {
   "cell_type": "code",
   "execution_count": 556,
   "id": "novel-baghdad",
   "metadata": {},
   "outputs": [
    {
     "data": {
      "text/html": [
       "<div>\n",
       "<style scoped>\n",
       "    .dataframe tbody tr th:only-of-type {\n",
       "        vertical-align: middle;\n",
       "    }\n",
       "\n",
       "    .dataframe tbody tr th {\n",
       "        vertical-align: top;\n",
       "    }\n",
       "\n",
       "    .dataframe thead th {\n",
       "        text-align: right;\n",
       "    }\n",
       "</style>\n",
       "<table border=\"1\" class=\"dataframe\">\n",
       "  <thead>\n",
       "    <tr style=\"text-align: right;\">\n",
       "      <th></th>\n",
       "      <th>id</th>\n",
       "      <th>perc_premium_paid_by_cash_credit</th>\n",
       "      <th>age_in_days</th>\n",
       "      <th>Income</th>\n",
       "      <th>Count_3-6_months_late</th>\n",
       "      <th>Count_6-12_months_late</th>\n",
       "      <th>Count_more_than_12_months_late</th>\n",
       "      <th>application_underwriting_score</th>\n",
       "      <th>no_of_premiums_paid</th>\n",
       "      <th>target</th>\n",
       "    </tr>\n",
       "  </thead>\n",
       "  <tbody>\n",
       "    <tr>\n",
       "      <th>count</th>\n",
       "      <td>79853.00000</td>\n",
       "      <td>79853.00000</td>\n",
       "      <td>79853.00000</td>\n",
       "      <td>79853.00000</td>\n",
       "      <td>79756.00000</td>\n",
       "      <td>79756.00000</td>\n",
       "      <td>79756.00000</td>\n",
       "      <td>76879.00000</td>\n",
       "      <td>79853.00000</td>\n",
       "      <td>79853.00000</td>\n",
       "    </tr>\n",
       "    <tr>\n",
       "      <th>mean</th>\n",
       "      <td>57167.16637</td>\n",
       "      <td>0.31429</td>\n",
       "      <td>18846.69691</td>\n",
       "      <td>208847.17118</td>\n",
       "      <td>0.24867</td>\n",
       "      <td>0.07819</td>\n",
       "      <td>0.06001</td>\n",
       "      <td>99.06729</td>\n",
       "      <td>10.86389</td>\n",
       "      <td>0.93741</td>\n",
       "    </tr>\n",
       "    <tr>\n",
       "      <th>std</th>\n",
       "      <td>32928.97016</td>\n",
       "      <td>0.33491</td>\n",
       "      <td>5208.71914</td>\n",
       "      <td>496582.59726</td>\n",
       "      <td>0.69147</td>\n",
       "      <td>0.43651</td>\n",
       "      <td>0.31202</td>\n",
       "      <td>0.73980</td>\n",
       "      <td>5.17069</td>\n",
       "      <td>0.24223</td>\n",
       "    </tr>\n",
       "    <tr>\n",
       "      <th>min</th>\n",
       "      <td>2.00000</td>\n",
       "      <td>0.00000</td>\n",
       "      <td>7670.00000</td>\n",
       "      <td>24030.00000</td>\n",
       "      <td>0.00000</td>\n",
       "      <td>0.00000</td>\n",
       "      <td>0.00000</td>\n",
       "      <td>91.90000</td>\n",
       "      <td>2.00000</td>\n",
       "      <td>0.00000</td>\n",
       "    </tr>\n",
       "    <tr>\n",
       "      <th>25%</th>\n",
       "      <td>28640.00000</td>\n",
       "      <td>0.03400</td>\n",
       "      <td>14974.00000</td>\n",
       "      <td>108010.00000</td>\n",
       "      <td>0.00000</td>\n",
       "      <td>0.00000</td>\n",
       "      <td>0.00000</td>\n",
       "      <td>98.81000</td>\n",
       "      <td>7.00000</td>\n",
       "      <td>1.00000</td>\n",
       "    </tr>\n",
       "    <tr>\n",
       "      <th>50%</th>\n",
       "      <td>57262.00000</td>\n",
       "      <td>0.16700</td>\n",
       "      <td>18625.00000</td>\n",
       "      <td>166560.00000</td>\n",
       "      <td>0.00000</td>\n",
       "      <td>0.00000</td>\n",
       "      <td>0.00000</td>\n",
       "      <td>99.21000</td>\n",
       "      <td>10.00000</td>\n",
       "      <td>1.00000</td>\n",
       "    </tr>\n",
       "    <tr>\n",
       "      <th>75%</th>\n",
       "      <td>85632.00000</td>\n",
       "      <td>0.53800</td>\n",
       "      <td>22636.00000</td>\n",
       "      <td>252090.00000</td>\n",
       "      <td>0.00000</td>\n",
       "      <td>0.00000</td>\n",
       "      <td>0.00000</td>\n",
       "      <td>99.54000</td>\n",
       "      <td>14.00000</td>\n",
       "      <td>1.00000</td>\n",
       "    </tr>\n",
       "    <tr>\n",
       "      <th>max</th>\n",
       "      <td>114076.00000</td>\n",
       "      <td>1.00000</td>\n",
       "      <td>37602.00000</td>\n",
       "      <td>90262600.00000</td>\n",
       "      <td>13.00000</td>\n",
       "      <td>17.00000</td>\n",
       "      <td>11.00000</td>\n",
       "      <td>99.89000</td>\n",
       "      <td>60.00000</td>\n",
       "      <td>1.00000</td>\n",
       "    </tr>\n",
       "  </tbody>\n",
       "</table>\n",
       "</div>"
      ],
      "text/plain": [
       "                id  perc_premium_paid_by_cash_credit  age_in_days  \\\n",
       "count  79853.00000                       79853.00000  79853.00000   \n",
       "mean   57167.16637                           0.31429  18846.69691   \n",
       "std    32928.97016                           0.33491   5208.71914   \n",
       "min        2.00000                           0.00000   7670.00000   \n",
       "25%    28640.00000                           0.03400  14974.00000   \n",
       "50%    57262.00000                           0.16700  18625.00000   \n",
       "75%    85632.00000                           0.53800  22636.00000   \n",
       "max   114076.00000                           1.00000  37602.00000   \n",
       "\n",
       "              Income  Count_3-6_months_late  Count_6-12_months_late  \\\n",
       "count    79853.00000            79756.00000             79756.00000   \n",
       "mean    208847.17118                0.24867                 0.07819   \n",
       "std     496582.59726                0.69147                 0.43651   \n",
       "min      24030.00000                0.00000                 0.00000   \n",
       "25%     108010.00000                0.00000                 0.00000   \n",
       "50%     166560.00000                0.00000                 0.00000   \n",
       "75%     252090.00000                0.00000                 0.00000   \n",
       "max   90262600.00000               13.00000                17.00000   \n",
       "\n",
       "       Count_more_than_12_months_late  application_underwriting_score  \\\n",
       "count                     79756.00000                     76879.00000   \n",
       "mean                          0.06001                        99.06729   \n",
       "std                           0.31202                         0.73980   \n",
       "min                           0.00000                        91.90000   \n",
       "25%                           0.00000                        98.81000   \n",
       "50%                           0.00000                        99.21000   \n",
       "75%                           0.00000                        99.54000   \n",
       "max                          11.00000                        99.89000   \n",
       "\n",
       "       no_of_premiums_paid      target  \n",
       "count          79853.00000 79853.00000  \n",
       "mean              10.86389     0.93741  \n",
       "std                5.17069     0.24223  \n",
       "min                2.00000     0.00000  \n",
       "25%                7.00000     1.00000  \n",
       "50%               10.00000     1.00000  \n",
       "75%               14.00000     1.00000  \n",
       "max               60.00000     1.00000  "
      ]
     },
     "execution_count": 556,
     "metadata": {},
     "output_type": "execute_result"
    }
   ],
   "source": [
    "df.describe()"
   ]
  },
  {
   "cell_type": "code",
   "execution_count": 557,
   "id": "nutritional-experience",
   "metadata": {},
   "outputs": [
    {
     "data": {
      "text/plain": [
       "(79853, 12)"
      ]
     },
     "execution_count": 557,
     "metadata": {},
     "output_type": "execute_result"
    }
   ],
   "source": [
    "# show the shape of the dataset i.e. no of rows, no of columns\n",
    "df.shape"
   ]
  },
  {
   "cell_type": "code",
   "execution_count": 558,
   "id": "bearing-circulation",
   "metadata": {},
   "outputs": [
    {
     "data": {
      "text/plain": [
       "Index(['id', 'perc_premium_paid_by_cash_credit', 'age_in_days', 'Income',\n",
       "       'Count_3-6_months_late', 'Count_6-12_months_late',\n",
       "       'Count_more_than_12_months_late', 'application_underwriting_score',\n",
       "       'no_of_premiums_paid', 'sourcing_channel', 'residence_area_type',\n",
       "       'target'],\n",
       "      dtype='object')"
      ]
     },
     "execution_count": 558,
     "metadata": {},
     "output_type": "execute_result"
    }
   ],
   "source": [
    "# take a look at the features (i.e. independent variables) in the dataset\n",
    "df.columns"
   ]
  },
  {
   "cell_type": "code",
   "execution_count": 559,
   "id": "incredible-flood",
   "metadata": {},
   "outputs": [
    {
     "data": {
      "text/plain": [
       "id                                    int64\n",
       "perc_premium_paid_by_cash_credit    float64\n",
       "age_in_days                           int64\n",
       "Income                                int64\n",
       "Count_3-6_months_late               float64\n",
       "Count_6-12_months_late              float64\n",
       "Count_more_than_12_months_late      float64\n",
       "application_underwriting_score      float64\n",
       "no_of_premiums_paid                   int64\n",
       "sourcing_channel                     object\n",
       "residence_area_type                  object\n",
       "target                                int64\n",
       "dtype: object"
      ]
     },
     "execution_count": 559,
     "metadata": {},
     "output_type": "execute_result"
    }
   ],
   "source": [
    "# show the data types for each column of the train set\n",
    "df.dtypes"
   ]
  },
  {
   "cell_type": "code",
   "execution_count": 560,
   "id": "western-annex",
   "metadata": {
    "scrolled": true
   },
   "outputs": [
    {
     "name": "stdout",
     "output_type": "stream",
     "text": [
      "<class 'pandas.core.frame.DataFrame'>\n",
      "RangeIndex: 79853 entries, 0 to 79852\n",
      "Data columns (total 12 columns):\n",
      " #   Column                            Non-Null Count  Dtype  \n",
      "---  ------                            --------------  -----  \n",
      " 0   id                                79853 non-null  int64  \n",
      " 1   perc_premium_paid_by_cash_credit  79853 non-null  float64\n",
      " 2   age_in_days                       79853 non-null  int64  \n",
      " 3   Income                            79853 non-null  int64  \n",
      " 4   Count_3-6_months_late             79756 non-null  float64\n",
      " 5   Count_6-12_months_late            79756 non-null  float64\n",
      " 6   Count_more_than_12_months_late    79756 non-null  float64\n",
      " 7   application_underwriting_score    76879 non-null  float64\n",
      " 8   no_of_premiums_paid               79853 non-null  int64  \n",
      " 9   sourcing_channel                  79853 non-null  object \n",
      " 10  residence_area_type               79853 non-null  object \n",
      " 11  target                            79853 non-null  int64  \n",
      "dtypes: float64(5), int64(5), object(2)\n",
      "memory usage: 7.3+ MB\n"
     ]
    }
   ],
   "source": [
    "# concise summary of the dataset, info about index dtype, column dtypes, non-null values and memory usage\n",
    "df.info()"
   ]
  },
  {
   "cell_type": "markdown",
   "id": "greatest-split",
   "metadata": {},
   "source": [
    "##### Note: There are 12 columns of features and 79853 rows of records in the train set"
   ]
  },
  {
   "cell_type": "code",
   "execution_count": 561,
   "id": "heavy-benchmark",
   "metadata": {},
   "outputs": [],
   "source": [
    "#Droping the id Value because it is unique \n",
    "df.drop('id',axis=1,inplace=True)"
   ]
  },
  {
   "cell_type": "code",
   "execution_count": 562,
   "id": "efficient-honolulu",
   "metadata": {},
   "outputs": [],
   "source": [
    "df.rename(columns={'perc_premium_paid_by_cash_credit':'perc_premium'},inplace=True)"
   ]
  },
  {
   "cell_type": "code",
   "execution_count": 563,
   "id": "worth-damages",
   "metadata": {},
   "outputs": [
    {
     "data": {
      "text/plain": [
       "<AxesSubplot:>"
      ]
     },
     "execution_count": 563,
     "metadata": {},
     "output_type": "execute_result"
    },
    {
     "data": {
      "image/png": "[encoded data removed]",
      "text/plain": [
       "<Figure size 864x432 with 2 Axes>"
      ]
     },
     "metadata": {
      "needs_background": "light"
     },
     "output_type": "display_data"
    }
   ],
   "source": [
    "plt.figure(figsize=(12,6))\n",
    "sns.heatmap(df.corr(),annot=True)"
   ]
  },
  {
   "cell_type": "markdown",
   "id": "julian-collins",
   "metadata": {},
   "source": [
    "# Univariate analysis"
   ]
  },
  {
   "cell_type": "markdown",
   "id": "engaged-potential",
   "metadata": {},
   "source": [
    "We will first look at the target variable. As it is a Binary variable, let us look at its frequency table, percentage distribution and bar plot."
   ]
  },
  {
   "cell_type": "code",
   "execution_count": 564,
   "id": "realistic-joseph",
   "metadata": {},
   "outputs": [
    {
     "data": {
      "text/plain": [
       "1    74855\n",
       "0     4998\n",
       "Name: target, dtype: int64"
      ]
     },
     "execution_count": 564,
     "metadata": {},
     "output_type": "execute_result"
    }
   ],
   "source": [
    "# frequency table of a variable will give us the count of each category in that variable\n",
    "df['target'].value_counts()"
   ]
  },
  {
   "cell_type": "code",
   "execution_count": 565,
   "id": "nervous-genome",
   "metadata": {},
   "outputs": [
    {
     "data": {
      "text/plain": [
       "1   0.93741\n",
       "0   0.06259\n",
       "Name: target, dtype: float64"
      ]
     },
     "execution_count": 565,
     "metadata": {},
     "output_type": "execute_result"
    }
   ],
   "source": [
    "# percentage distribution can be calculated by setting the normalize=True to show proportions instead of number \n",
    "df['target'].value_counts(normalize=True)"
   ]
  },
  {
   "cell_type": "code",
   "execution_count": 566,
   "id": "lesser-warehouse",
   "metadata": {},
   "outputs": [
    {
     "data": {
      "text/plain": [
       "<AxesSubplot:>"
      ]
     },
     "execution_count": 566,
     "metadata": {},
     "output_type": "execute_result"
    },
    {
     "data": {
      "image/png": "[encoded data removed]",
      "text/plain": [
       "<Figure size 432x288 with 1 Axes>"
      ]
     },
     "metadata": {
      "needs_background": "light"
     },
     "output_type": "display_data"
    }
   ],
   "source": [
    "# bar plot to visualize the frequency\n",
    "df['target'].value_counts().plot.bar()"
   ]
  },
  {
   "cell_type": "markdown",
   "id": "competitive-damages",
   "metadata": {},
   "source": [
    "Note: The premium paid by 74855 (around 93%) people out of 79853 was paid. There is imbalanced classes issue in this dataset, thus accuracy as an evaluation metric should not be appropriate. So, there are imbalanced or skewed classes, then we need to use precision and recall as evaluation metrics."
   ]
  },
  {
   "cell_type": "markdown",
   "id": "clear-spectacular",
   "metadata": {},
   "source": [
    "### Independent Variable (Categorical)\n",
    "\n",
    "There are 2 features that are Categorical (sourcing_channel, residence_area_type)"
   ]
  },
  {
   "cell_type": "code",
   "execution_count": 567,
   "id": "introductory-boards",
   "metadata": {},
   "outputs": [
    {
     "data": {
      "image/png": "[encoded data removed]",
      "text/plain": [
       "<Figure size 1440x720 with 2 Axes>"
      ]
     },
     "metadata": {
      "needs_background": "light"
     },
     "output_type": "display_data"
    }
   ],
   "source": [
    "# Visualizing categorical features\n",
    "# plt.figure(1)\n",
    "plt.subplot(231)\n",
    "df['sourcing_channel'].value_counts(normalize=True).plot.bar(figsize=(20,10), title= 'sourcing_channel')\n",
    "\n",
    "plt.subplot(232)\n",
    "df['residence_area_type'].value_counts(normalize=True).plot.bar(title= 'residence_area_type')\n",
    "plt.show()"
   ]
  },
  {
   "cell_type": "markdown",
   "id": "appreciated-heart",
   "metadata": {},
   "source": [
    "## Independent Variable (Numerical)"
   ]
  },
  {
   "cell_type": "markdown",
   "id": "executive-valentine",
   "metadata": {},
   "source": [
    "There are 8 features that are Numerical: These features have numerical values ( age_in_days,Income,Count_3-6_months_late,Count_6-12_months_late,Count_more_than_12_months_late,application_underwriting_score, no_of_premiums_paid)\n",
    "\n",
    "Firstly, let’s look at the perc_premium distribution:"
   ]
  },
  {
   "cell_type": "code",
   "execution_count": 568,
   "id": "olive-power",
   "metadata": {},
   "outputs": [
    {
     "data": {
      "text/plain": [
       "<AxesSubplot:xlabel='perc_premium', ylabel='Density'>"
      ]
     },
     "execution_count": 568,
     "metadata": {},
     "output_type": "execute_result"
    },
    {
     "data": {
      "image/png": "[encoded data removed]",
      "text/plain": [
       "<Figure size 432x288 with 1 Axes>"
      ]
     },
     "metadata": {
      "needs_background": "light"
     },
     "output_type": "display_data"
    }
   ],
   "source": [
    "sns.kdeplot(data=df, x=\"perc_premium\",hue='target')"
   ]
  },
  {
   "cell_type": "code",
   "execution_count": 569,
   "id": "lined-trust",
   "metadata": {},
   "outputs": [
    {
     "data": {
      "text/plain": [
       "<AxesSubplot:xlabel='perc_premium', ylabel='Count'>"
      ]
     },
     "execution_count": 569,
     "metadata": {},
     "output_type": "execute_result"
    },
    {
     "data": {
      "image/png": "[encoded data removed]",
      "text/plain": [
       "<Figure size 504x360 with 1 Axes>"
      ]
     },
     "metadata": {
      "needs_background": "light"
     },
     "output_type": "display_data"
    }
   ],
   "source": [
    "plt.figure(figsize=(7,5))\n",
    "sns.histplot(data=df, x=\"perc_premium\", hue=\"target\",multiple='stack',bins=50)"
   ]
  },
  {
   "cell_type": "code",
   "execution_count": 570,
   "id": "serious-series",
   "metadata": {},
   "outputs": [
    {
     "data": {
      "text/plain": [
       "<AxesSubplot:xlabel='target', ylabel='perc_premium'>"
      ]
     },
     "execution_count": 570,
     "metadata": {},
     "output_type": "execute_result"
    },
    {
     "data": {
      "image/png": "[encoded data removed]",
      "text/plain": [
       "<Figure size 432x288 with 1 Axes>"
      ]
     },
     "metadata": {
      "needs_background": "light"
     },
     "output_type": "display_data"
    }
   ],
   "source": [
    "sns.boxplot(x = 'target', y = 'perc_premium', data = df)"
   ]
  },
  {
   "cell_type": "code",
   "execution_count": 571,
   "id": "creative-taylor",
   "metadata": {},
   "outputs": [
    {
     "data": {
      "text/plain": [
       "<seaborn.axisgrid.FacetGrid at 0x1e645700688>"
      ]
     },
     "execution_count": 571,
     "metadata": {},
     "output_type": "execute_result"
    },
    {
     "data": {
      "image/png": "[encoded data removed]",
      "text/plain": [
       "<Figure size 360x360 with 1 Axes>"
      ]
     },
     "metadata": {
      "needs_background": "light"
     },
     "output_type": "display_data"
    }
   ],
   "source": [
    "sns.displot(df['perc_premium'])"
   ]
  },
  {
   "cell_type": "code",
   "execution_count": 572,
   "id": "italian-petersburg",
   "metadata": {},
   "outputs": [
    {
     "data": {
      "text/plain": [
       "<AxesSubplot:xlabel='no_of_premiums_paid', ylabel='Count'>"
      ]
     },
     "execution_count": 572,
     "metadata": {},
     "output_type": "execute_result"
    },
    {
     "data": {
      "image/png": "[encoded data removed]",
      "text/plain": [
       "<Figure size 576x504 with 1 Axes>"
      ]
     },
     "metadata": {
      "needs_background": "light"
     },
     "output_type": "display_data"
    }
   ],
   "source": [
    "plt.figure(figsize=(8,7))\n",
    "sns.histplot(data=df, x=\"no_of_premiums_paid\", hue=\"target\",multiple='stack',bins=50)"
   ]
  },
  {
   "cell_type": "code",
   "execution_count": 573,
   "id": "monthly-legislation",
   "metadata": {},
   "outputs": [
    {
     "name": "stderr",
     "output_type": "stream",
     "text": [
      "C:\\Users\\ASUS\\anaconda3\\envs\\loan\\lib\\site-packages\\seaborn\\distributions.py:2557: FutureWarning: `distplot` is a deprecated function and will be removed in a future version. Please adapt your code to use either `displot` (a figure-level function with similar flexibility) or `histplot` (an axes-level function for histograms).\n",
      "  warnings.warn(msg, FutureWarning)\n"
     ]
    },
    {
     "data": {
      "text/plain": [
       "<AxesSubplot:xlabel='no_of_premiums_paid', ylabel='Density'>"
      ]
     },
     "execution_count": 573,
     "metadata": {},
     "output_type": "execute_result"
    },
    {
     "data": {
      "image/png": "[encoded data removed]",
      "text/plain": [
       "<Figure size 432x288 with 1 Axes>"
      ]
     },
     "metadata": {
      "needs_background": "light"
     },
     "output_type": "display_data"
    }
   ],
   "source": [
    "sns.distplot(df.no_of_premiums_paid,bins=40)"
   ]
  },
  {
   "cell_type": "code",
   "execution_count": 574,
   "id": "excess-moldova",
   "metadata": {},
   "outputs": [
    {
     "data": {
      "text/plain": [
       "<AxesSubplot:ylabel='Income'>"
      ]
     },
     "execution_count": 574,
     "metadata": {},
     "output_type": "execute_result"
    },
    {
     "data": {
      "image/png": "[encoded data removed]",
      "text/plain": [
       "<Figure size 432x288 with 1 Axes>"
      ]
     },
     "metadata": {
      "needs_background": "light"
     },
     "output_type": "display_data"
    }
   ],
   "source": [
    "sns.boxplot(y=df.Income)"
   ]
  },
  {
   "cell_type": "code",
   "execution_count": 578,
   "id": "affecting-slovenia",
   "metadata": {},
   "outputs": [
    {
     "data": {
      "image/png": "[encoded data removed]",
      "text/plain": [
       "<Figure size 576x432 with 1 Axes>"
      ]
     },
     "metadata": {
      "needs_background": "light"
     },
     "output_type": "display_data"
    }
   ],
   "source": [
    "plt.figure(figsize=(8, 6))\n",
    "\n",
    "plt.scatter(df['Income'], df['age_in_days'], color='blue', alpha=0.25)\n",
    "plt.xlabel('Income')\n",
    "plt.ylabel('Target')\n",
    "\n",
    "# prevents scientific notation on axis\n",
    "plt.ticklabel_format(useOffset=False, style='plain')\n",
    "\n",
    "plt.show()"
   ]
  },
  {
   "cell_type": "code",
   "execution_count": 576,
   "id": "micro-controversy",
   "metadata": {},
   "outputs": [
    {
     "data": {
      "text/plain": [
       "<AxesSubplot:>"
      ]
     },
     "execution_count": 576,
     "metadata": {},
     "output_type": "execute_result"
    },
    {
     "data": {
      "image/png": "[encoded data removed]",
      "text/plain": [
       "<Figure size 432x288 with 1 Axes>"
      ]
     },
     "metadata": {
      "needs_background": "light"
     },
     "output_type": "display_data"
    }
   ],
   "source": [
    "df['Income_log'] = np.log(df['Income']) #log function to reduce the extreme effect in income (which we saw in the previous barplot)\n",
    "df['Income_log'].hist(bins=20)"
   ]
  },
  {
   "cell_type": "code",
   "execution_count": 477,
   "id": "composite-growth",
   "metadata": {},
   "outputs": [
    {
     "data": {
      "text/plain": [
       "(array([2.1852e+04, 3.7769e+04, 1.5232e+04, 3.8790e+03, 7.8900e+02,\n",
       "        2.4700e+02, 4.6000e+01, 1.8000e+01, 1.3000e+01, 8.0000e+00]),\n",
       " array([ 2. ,  7.8, 13.6, 19.4, 25.2, 31. , 36.8, 42.6, 48.4, 54.2, 60. ]),\n",
       " <BarContainer object of 10 artists>)"
      ]
     },
     "execution_count": 477,
     "metadata": {},
     "output_type": "execute_result"
    },
    {
     "data": {
      "image/png": "[encoded data removed]",
      "text/plain": [
       "<Figure size 432x288 with 1 Axes>"
      ]
     },
     "metadata": {
      "needs_background": "light"
     },
     "output_type": "display_data"
    }
   ],
   "source": [
    "plt.hist(x='no_of_premiums_paid',data=df)"
   ]
  },
  {
   "cell_type": "code",
   "execution_count": 478,
   "id": "bacterial-maldives",
   "metadata": {},
   "outputs": [
    {
     "data": {
      "text/plain": [
       "<AxesSubplot:ylabel='no_of_premiums_paid'>"
      ]
     },
     "execution_count": 478,
     "metadata": {},
     "output_type": "execute_result"
    },
    {
     "data": {
      "image/png": "[encoded data removed]",
      "text/plain": [
       "<Figure size 432x288 with 1 Axes>"
      ]
     },
     "metadata": {
      "needs_background": "light"
     },
     "output_type": "display_data"
    }
   ],
   "source": [
    "sns.boxplot(y=df.no_of_premiums_paid)"
   ]
  },
  {
   "cell_type": "markdown",
   "id": "cooked-monkey",
   "metadata": {},
   "source": [
    "# Understanding The Age column "
   ]
  },
  {
   "cell_type": "code",
   "execution_count": 479,
   "id": "unlikely-leather",
   "metadata": {},
   "outputs": [
    {
     "data": {
      "text/plain": [
       "(array([ 4361.,  9953., 13973., 16612., 14881., 11892.,  5266.,  2265.,\n",
       "          619.,    31.]),\n",
       " array([ 7670. , 10663.2, 13656.4, 16649.6, 19642.8, 22636. , 25629.2,\n",
       "        28622.4, 31615.6, 34608.8, 37602. ]),\n",
       " <BarContainer object of 10 artists>)"
      ]
     },
     "execution_count": 479,
     "metadata": {},
     "output_type": "execute_result"
    },
    {
     "data": {
      "image/png": "[encoded data removed]",
      "text/plain": [
       "<Figure size 432x288 with 1 Axes>"
      ]
     },
     "metadata": {
      "needs_background": "light"
     },
     "output_type": "display_data"
    }
   ],
   "source": [
    "plt.hist(x='age_in_days',data=df)"
   ]
  },
  {
   "cell_type": "code",
   "execution_count": 480,
   "id": "vital-favorite",
   "metadata": {},
   "outputs": [
    {
     "data": {
      "text/plain": [
       "<AxesSubplot:ylabel='age_in_days'>"
      ]
     },
     "execution_count": 480,
     "metadata": {},
     "output_type": "execute_result"
    },
    {
     "data": {
      "image/png": "[encoded data removed]",
      "text/plain": [
       "<Figure size 432x288 with 1 Axes>"
      ]
     },
     "metadata": {
      "needs_background": "light"
     },
     "output_type": "display_data"
    }
   ],
   "source": [
    "sns.boxplot(y=df.age_in_days,)"
   ]
  },
  {
   "cell_type": "markdown",
   "id": "automotive-european",
   "metadata": {},
   "source": [
    "There are some outlier in age Column"
   ]
  },
  {
   "cell_type": "markdown",
   "id": "occupied-bangladesh",
   "metadata": {},
   "source": [
    "# Data Pre-processing"
   ]
  },
  {
   "cell_type": "markdown",
   "id": "balanced-diameter",
   "metadata": {},
   "source": [
    "Data pre-processing is a data mining technique that involves transforming raw data into an understandable format. Real-world data is often incomplete, inconsistent, and/or lacking in certain behaviors or trends, and is likely to contain many errors. Data pre-processing is a method of resolving such issues."
   ]
  },
  {
   "cell_type": "markdown",
   "id": "right-sunday",
   "metadata": {},
   "source": [
    "### Missing value and outlier treatment"
   ]
  },
  {
   "cell_type": "markdown",
   "id": "efficient-sword",
   "metadata": {},
   "source": [
    "After exploring all the variables in our data, we can now impute the missing values and treat the outliers because missing data and outliers can have adverse effect on the model performance."
   ]
  },
  {
   "cell_type": "markdown",
   "id": "imperial-powell",
   "metadata": {},
   "source": [
    "# Outlier Treatment"
   ]
  },
  {
   "cell_type": "markdown",
   "id": "broken-classroom",
   "metadata": {},
   "source": [
    "check For outlier in Income Column"
   ]
  },
  {
   "cell_type": "code",
   "execution_count": 481,
   "id": "assumed-pipeline",
   "metadata": {},
   "outputs": [],
   "source": [
    "pd.set_option('display.float_format', lambda x: '%.5f' % x)"
   ]
  },
  {
   "cell_type": "code",
   "execution_count": 482,
   "id": "ready-hamilton",
   "metadata": {},
   "outputs": [
    {
     "data": {
      "text/plain": [
       "count      79853.00000\n",
       "mean      208847.17118\n",
       "std       496582.59726\n",
       "min        24030.00000\n",
       "50%       166560.00000\n",
       "70%       231150.00000\n",
       "95%       450050.00000\n",
       "99%       771078.00000\n",
       "max     90262600.00000\n",
       "Name: Income, dtype: float64"
      ]
     },
     "execution_count": 482,
     "metadata": {},
     "output_type": "execute_result"
    }
   ],
   "source": [
    "df['Income'].describe(percentiles=[.99,.95,.7])"
   ]
  },
  {
   "cell_type": "code",
   "execution_count": 483,
   "id": "lyric-steam",
   "metadata": {},
   "outputs": [
    {
     "name": "stdout",
     "output_type": "stream",
     "text": [
      "0.10000    71200.00000\n",
      "0.99000   771078.00000\n",
      "Name: Income, dtype: float64\n"
     ]
    }
   ],
   "source": [
    "upper_bound = 0.99\n",
    "lower_bound = 0.1\n",
    "res = df['Income'].quantile([lower_bound, upper_bound])\n",
    "print(res)"
   ]
  },
  {
   "cell_type": "code",
   "execution_count": 484,
   "id": "reported-military",
   "metadata": {},
   "outputs": [
    {
     "data": {
      "text/plain": [
       "0        True\n",
       "1        True\n",
       "2        True\n",
       "3        True\n",
       "4        True\n",
       "         ... \n",
       "79848    True\n",
       "79849    True\n",
       "79850    True\n",
       "79851    True\n",
       "79852    True\n",
       "Name: Income, Length: 79853, dtype: bool"
      ]
     },
     "execution_count": 484,
     "metadata": {},
     "output_type": "execute_result"
    }
   ],
   "source": [
    "true_index = (df['Income'] < res.loc[upper_bound])\n",
    "true_index"
   ]
  },
  {
   "cell_type": "code",
   "execution_count": 485,
   "id": "functional-lounge",
   "metadata": {},
   "outputs": [],
   "source": [
    "false_index = ~true_index"
   ]
  },
  {
   "cell_type": "code",
   "execution_count": 486,
   "id": "bound-strategy",
   "metadata": {},
   "outputs": [],
   "source": [
    "df.loc[false_index, 'Income'] = 450050.00000"
   ]
  },
  {
   "cell_type": "markdown",
   "id": "several-state",
   "metadata": {},
   "source": [
    "### Let's make groups for the new income range"
   ]
  },
  {
   "cell_type": "code",
   "execution_count": 487,
   "id": "duplicate-comfort",
   "metadata": {},
   "outputs": [
    {
     "data": {
      "text/html": [
       "<div>\n",
       "<style scoped>\n",
       "    .dataframe tbody tr th:only-of-type {\n",
       "        vertical-align: middle;\n",
       "    }\n",
       "\n",
       "    .dataframe tbody tr th {\n",
       "        vertical-align: top;\n",
       "    }\n",
       "\n",
       "    .dataframe thead th {\n",
       "        text-align: right;\n",
       "    }\n",
       "</style>\n",
       "<table border=\"1\" class=\"dataframe\">\n",
       "  <thead>\n",
       "    <tr style=\"text-align: right;\">\n",
       "      <th></th>\n",
       "      <th>Income</th>\n",
       "      <th>target</th>\n",
       "    </tr>\n",
       "  </thead>\n",
       "  <tbody>\n",
       "    <tr>\n",
       "      <th>0</th>\n",
       "      <td>0</td>\n",
       "      <td>16564</td>\n",
       "    </tr>\n",
       "    <tr>\n",
       "      <th>1</th>\n",
       "      <td>1</td>\n",
       "      <td>24924</td>\n",
       "    </tr>\n",
       "    <tr>\n",
       "      <th>2</th>\n",
       "      <td>2</td>\n",
       "      <td>17500</td>\n",
       "    </tr>\n",
       "    <tr>\n",
       "      <th>3</th>\n",
       "      <td>3</td>\n",
       "      <td>10436</td>\n",
       "    </tr>\n",
       "    <tr>\n",
       "      <th>4</th>\n",
       "      <td>4</td>\n",
       "      <td>4854</td>\n",
       "    </tr>\n",
       "    <tr>\n",
       "      <th>5</th>\n",
       "      <td>5</td>\n",
       "      <td>2985</td>\n",
       "    </tr>\n",
       "    <tr>\n",
       "      <th>6</th>\n",
       "      <td>6</td>\n",
       "      <td>1328</td>\n",
       "    </tr>\n",
       "    <tr>\n",
       "      <th>7</th>\n",
       "      <td>7</td>\n",
       "      <td>667</td>\n",
       "    </tr>\n",
       "    <tr>\n",
       "      <th>8</th>\n",
       "      <td>8</td>\n",
       "      <td>348</td>\n",
       "    </tr>\n",
       "    <tr>\n",
       "      <th>9</th>\n",
       "      <td>9</td>\n",
       "      <td>247</td>\n",
       "    </tr>\n",
       "  </tbody>\n",
       "</table>\n",
       "</div>"
      ],
      "text/plain": [
       "  Income  target\n",
       "0      0   16564\n",
       "1      1   24924\n",
       "2      2   17500\n",
       "3      3   10436\n",
       "4      4    4854\n",
       "5      5    2985\n",
       "6      6    1328\n",
       "7      7     667\n",
       "8      8     348\n",
       "9      9     247"
      ]
     },
     "execution_count": 487,
     "metadata": {},
     "output_type": "execute_result"
    }
   ],
   "source": [
    "df['Income'] = pd.cut(df['Income'], bins = 10,labels=range(10))\n",
    "# df['Income'] = df['Income'].astype(int)\n",
    "df[['Income', 'target']].groupby('Income', as_index = False).count()\n"
   ]
  },
  {
   "cell_type": "markdown",
   "id": "familiar-russia",
   "metadata": {},
   "source": [
    "#### Let's also make groups for Age"
   ]
  },
  {
   "cell_type": "code",
   "execution_count": 488,
   "id": "social-value",
   "metadata": {},
   "outputs": [
    {
     "data": {
      "text/html": [
       "<div>\n",
       "<style scoped>\n",
       "    .dataframe tbody tr th:only-of-type {\n",
       "        vertical-align: middle;\n",
       "    }\n",
       "\n",
       "    .dataframe tbody tr th {\n",
       "        vertical-align: top;\n",
       "    }\n",
       "\n",
       "    .dataframe thead th {\n",
       "        text-align: right;\n",
       "    }\n",
       "</style>\n",
       "<table border=\"1\" class=\"dataframe\">\n",
       "  <thead>\n",
       "    <tr style=\"text-align: right;\">\n",
       "      <th></th>\n",
       "      <th>age_in_days</th>\n",
       "      <th>target</th>\n",
       "    </tr>\n",
       "  </thead>\n",
       "  <tbody>\n",
       "    <tr>\n",
       "      <th>0</th>\n",
       "      <td>0</td>\n",
       "      <td>4361</td>\n",
       "    </tr>\n",
       "    <tr>\n",
       "      <th>1</th>\n",
       "      <td>1</td>\n",
       "      <td>9953</td>\n",
       "    </tr>\n",
       "    <tr>\n",
       "      <th>2</th>\n",
       "      <td>2</td>\n",
       "      <td>13973</td>\n",
       "    </tr>\n",
       "    <tr>\n",
       "      <th>3</th>\n",
       "      <td>3</td>\n",
       "      <td>16612</td>\n",
       "    </tr>\n",
       "    <tr>\n",
       "      <th>4</th>\n",
       "      <td>4</td>\n",
       "      <td>15068</td>\n",
       "    </tr>\n",
       "    <tr>\n",
       "      <th>5</th>\n",
       "      <td>5</td>\n",
       "      <td>11705</td>\n",
       "    </tr>\n",
       "    <tr>\n",
       "      <th>6</th>\n",
       "      <td>6</td>\n",
       "      <td>5266</td>\n",
       "    </tr>\n",
       "    <tr>\n",
       "      <th>7</th>\n",
       "      <td>7</td>\n",
       "      <td>2265</td>\n",
       "    </tr>\n",
       "    <tr>\n",
       "      <th>8</th>\n",
       "      <td>8</td>\n",
       "      <td>619</td>\n",
       "    </tr>\n",
       "    <tr>\n",
       "      <th>9</th>\n",
       "      <td>9</td>\n",
       "      <td>31</td>\n",
       "    </tr>\n",
       "  </tbody>\n",
       "</table>\n",
       "</div>"
      ],
      "text/plain": [
       "  age_in_days  target\n",
       "0           0    4361\n",
       "1           1    9953\n",
       "2           2   13973\n",
       "3           3   16612\n",
       "4           4   15068\n",
       "5           5   11705\n",
       "6           6    5266\n",
       "7           7    2265\n",
       "8           8     619\n",
       "9           9      31"
      ]
     },
     "execution_count": 488,
     "metadata": {},
     "output_type": "execute_result"
    }
   ],
   "source": [
    "df['age_in_days'] = pd.cut(df['age_in_days'],bins = 10,labels=range(10))\n",
    "# df['age_in_days'] = df['age_in_days'].astype(int)\n",
    "df[['age_in_days', 'target']].groupby('age_in_days', as_index = False).count()\n"
   ]
  },
  {
   "cell_type": "markdown",
   "id": "rocky-module",
   "metadata": {},
   "source": [
    "### Missing value imputation"
   ]
  },
  {
   "cell_type": "markdown",
   "id": "incorrect-edgar",
   "metadata": {},
   "source": [
    "Let’s list out feature-wise count of missing values."
   ]
  },
  {
   "cell_type": "code",
   "execution_count": 489,
   "id": "tamil-banana",
   "metadata": {},
   "outputs": [
    {
     "data": {
      "text/plain": [
       "perc_premium                         0\n",
       "age_in_days                          0\n",
       "Income                               0\n",
       "Count_3-6_months_late               97\n",
       "Count_6-12_months_late              97\n",
       "Count_more_than_12_months_late      97\n",
       "application_underwriting_score    2974\n",
       "no_of_premiums_paid                  0\n",
       "sourcing_channel                     0\n",
       "residence_area_type                  0\n",
       "target                               0\n",
       "Income_log                           0\n",
       "dtype: int64"
      ]
     },
     "execution_count": 489,
     "metadata": {},
     "output_type": "execute_result"
    }
   ],
   "source": [
    "# check for missing values\n",
    "df.isnull().sum()"
   ]
  },
  {
   "cell_type": "markdown",
   "id": "opening-shuttle",
   "metadata": {},
   "source": [
    "There are missing values in Count_3-6_months_late, Count_6-12_months_late, Count_more_than_12_months_late, application_underwriting_score features. We will treat the missing values in all the features one by one."
   ]
  },
  {
   "cell_type": "markdown",
   "id": "frozen-institute",
   "metadata": {},
   "source": [
    "We can set the missing values of underwriting score on the basis of the Random Sample"
   ]
  },
  {
   "cell_type": "code",
   "execution_count": 490,
   "id": "polar-cleanup",
   "metadata": {},
   "outputs": [],
   "source": [
    "def impute_nan(df,variable,median):\n",
    "    df[variable+\"_median\"]=df[variable].fillna(median)\n",
    "    df[variable+\"_random\"]=df[variable]\n",
    "    ##It will have the random sample to fill the na\n",
    "    random_sample=df[variable].dropna().sample(df[variable].isnull().sum(),random_state=0)\n",
    "    ##pandas need to have same index in order to merge the dataset\n",
    "    random_sample.index=df[df[variable].isnull()].index\n",
    "    df.loc[df[variable].isnull(),variable+'_random']=random_sample"
   ]
  },
  {
   "cell_type": "code",
   "execution_count": 491,
   "id": "authorized-dallas",
   "metadata": {},
   "outputs": [],
   "source": [
    "median=df.application_underwriting_score.median()"
   ]
  },
  {
   "cell_type": "code",
   "execution_count": 492,
   "id": "persistent-content",
   "metadata": {},
   "outputs": [],
   "source": [
    "impute_nan(df,\"application_underwriting_score\",median)"
   ]
  },
  {
   "cell_type": "code",
   "execution_count": 493,
   "id": "ongoing-worse",
   "metadata": {},
   "outputs": [],
   "source": [
    "df.drop(['application_underwriting_score', 'application_underwriting_score_median','Income_log'], axis = 1, inplace = True)"
   ]
  },
  {
   "cell_type": "markdown",
   "id": "successful-tackle",
   "metadata": {},
   "source": [
    "Add a new variable 'late premium' for late premiums"
   ]
  },
  {
   "cell_type": "code",
   "execution_count": 494,
   "id": "dressed-compact",
   "metadata": {},
   "outputs": [],
   "source": [
    "for data in [df]:\n",
    "    data.loc[(data['Count_3-6_months_late'].isnull()),  'late_premium'] = np.NaN\n",
    "    data.loc[(data['Count_3-6_months_late'].notnull()), 'late_premium'] = data['Count_3-6_months_late'] + data['Count_6-12_months_late'] + data['Count_more_than_12_months_late']\n",
    "        "
   ]
  },
  {
   "cell_type": "markdown",
   "id": "lovely-ladder",
   "metadata": {},
   "source": [
    "If it's more than 7 then the loan is never sanctioned. So, let's set those values first."
   ]
  },
  {
   "cell_type": "code",
   "execution_count": 495,
   "id": "norwegian-municipality",
   "metadata": {},
   "outputs": [],
   "source": [
    "df.loc[(df['target'] == 0) & (df['late_premium'].isnull()),'late_premium'] = 7\n",
    "df.loc[(df['target'] == 1) & (df['late_premium'].isnull()),'late_premium'] = 2"
   ]
  },
  {
   "cell_type": "code",
   "execution_count": 496,
   "id": "following-letters",
   "metadata": {},
   "outputs": [],
   "source": [
    "df.drop(['Count_3-6_months_late', 'Count_6-12_months_late', 'Count_more_than_12_months_late'], axis = 1, inplace = True)"
   ]
  },
  {
   "cell_type": "code",
   "execution_count": 497,
   "id": "placed-legislature",
   "metadata": {},
   "outputs": [
    {
     "data": {
      "text/plain": [
       "perc_premium                             0\n",
       "age_in_days                              0\n",
       "Income                                   0\n",
       "no_of_premiums_paid                      0\n",
       "sourcing_channel                         0\n",
       "residence_area_type                      0\n",
       "target                                   0\n",
       "application_underwriting_score_random    0\n",
       "late_premium                             0\n",
       "dtype: int64"
      ]
     },
     "execution_count": 497,
     "metadata": {},
     "output_type": "execute_result"
    }
   ],
   "source": [
    "# check whether all the missing values are filled in the Train dataset\n",
    "df.isnull().sum()"
   ]
  },
  {
   "cell_type": "code",
   "execution_count": 498,
   "id": "supported-length",
   "metadata": {},
   "outputs": [],
   "source": [
    "df.rename(columns={'application_underwriting_score_random':'application_underwriting_score'},inplace=True)"
   ]
  },
  {
   "cell_type": "code",
   "execution_count": 499,
   "id": "requested-skating",
   "metadata": {
    "scrolled": false
   },
   "outputs": [
    {
     "name": "stdout",
     "output_type": "stream",
     "text": [
      "<class 'pandas.core.frame.DataFrame'>\n",
      "RangeIndex: 79853 entries, 0 to 79852\n",
      "Data columns (total 9 columns):\n",
      " #   Column                          Non-Null Count  Dtype   \n",
      "---  ------                          --------------  -----   \n",
      " 0   perc_premium                    79853 non-null  float64 \n",
      " 1   age_in_days                     79853 non-null  category\n",
      " 2   Income                          79853 non-null  category\n",
      " 3   no_of_premiums_paid             79853 non-null  int64   \n",
      " 4   sourcing_channel                79853 non-null  object  \n",
      " 5   residence_area_type             79853 non-null  object  \n",
      " 6   target                          79853 non-null  int64   \n",
      " 7   application_underwriting_score  79853 non-null  float64 \n",
      " 8   late_premium                    79853 non-null  float64 \n",
      "dtypes: category(2), float64(3), int64(2), object(2)\n",
      "memory usage: 4.4+ MB\n"
     ]
    }
   ],
   "source": [
    "df.info()"
   ]
  },
  {
   "cell_type": "markdown",
   "id": "disciplinary-anthropology",
   "metadata": {},
   "source": [
    "## Conversion to numerical data"
   ]
  },
  {
   "cell_type": "code",
   "execution_count": 500,
   "id": "australian-jewel",
   "metadata": {},
   "outputs": [],
   "source": [
    "# Converting Area Type and sourcing channel to Ordinal Variables\n",
    "df['residence_area_type'] = df['residence_area_type'].map( {'Urban' : 1, 'Rural' : 0} )\n",
    "df['sourcing_channel'] = df['sourcing_channel'].map( {'A' : 0, 'B' : 1, 'C' : 2, 'D' : 3, 'E' : 4} )"
   ]
  },
  {
   "cell_type": "code",
   "execution_count": 501,
   "id": "developmental-nepal",
   "metadata": {},
   "outputs": [
    {
     "data": {
      "text/plain": [
       "Index(['perc_premium', 'age_in_days', 'Income', 'no_of_premiums_paid',\n",
       "       'sourcing_channel', 'residence_area_type', 'target',\n",
       "       'application_underwriting_score', 'late_premium'],\n",
       "      dtype='object')"
      ]
     },
     "execution_count": 501,
     "metadata": {},
     "output_type": "execute_result"
    }
   ],
   "source": [
    "df.columns"
   ]
  },
  {
   "cell_type": "code",
   "execution_count": null,
   "id": "excess-louisville",
   "metadata": {},
   "outputs": [],
   "source": []
  },
  {
   "cell_type": "markdown",
   "id": "drawn-quantum",
   "metadata": {},
   "source": [
    "# Model Building : Part I"
   ]
  },
  {
   "cell_type": "markdown",
   "id": "associate-pendant",
   "metadata": {},
   "source": [
    "Let us make our first model to predict the target variable. We will start with Logistic Regression which is used for predicting binary outcome.\n",
    "\n",
    "Logistic Regression is a classification algorithm. It is used to predict a binary outcome (1 / 0, Yes / No, True / False) given a set of independent variables.\n",
    "Logistic regression is an estimation of Logit function. Logit function is simply a log of odds in favor of the event.\n",
    "This function creates a s-shaped curve with the probability estimate, which is very similar to the required step wise function"
   ]
  },
  {
   "cell_type": "markdown",
   "id": "early-ready",
   "metadata": {},
   "source": [
    "We will use scikit-learn (sklearn) for making different models which is an open source library for Python. It is one of the most efficient tool which contains many inbuilt functions that can be used for modeling in Python."
   ]
  },
  {
   "cell_type": "markdown",
   "id": "roman-button",
   "metadata": {},
   "source": [
    "Sklearn requires the target variable in a separate dataset. So, we will drop our target variable from the train dataset and save it in another dataset."
   ]
  },
  {
   "cell_type": "code",
   "execution_count": 502,
   "id": "distinguished-typing",
   "metadata": {},
   "outputs": [],
   "source": [
    "# drop \"target\" and assign it to target variable\n",
    "x=df.drop(['target'],axis=1)\n",
    "y= df['target']"
   ]
  },
  {
   "cell_type": "code",
   "execution_count": 503,
   "id": "eleven-prerequisite",
   "metadata": {},
   "outputs": [],
   "source": [
    "# adding dummies to the dataset\n",
    "x=pd.get_dummies(x,drop_first=True)"
   ]
  },
  {
   "cell_type": "code",
   "execution_count": 504,
   "id": "economic-present",
   "metadata": {},
   "outputs": [
    {
     "data": {
      "text/plain": [
       "(79853, 24)"
      ]
     },
     "execution_count": 504,
     "metadata": {},
     "output_type": "execute_result"
    }
   ],
   "source": [
    "x.shape"
   ]
  },
  {
   "cell_type": "code",
   "execution_count": 505,
   "id": "jewish-desert",
   "metadata": {},
   "outputs": [
    {
     "data": {
      "text/html": [
       "<div>\n",
       "<style scoped>\n",
       "    .dataframe tbody tr th:only-of-type {\n",
       "        vertical-align: middle;\n",
       "    }\n",
       "\n",
       "    .dataframe tbody tr th {\n",
       "        vertical-align: top;\n",
       "    }\n",
       "\n",
       "    .dataframe thead th {\n",
       "        text-align: right;\n",
       "    }\n",
       "</style>\n",
       "<table border=\"1\" class=\"dataframe\">\n",
       "  <thead>\n",
       "    <tr style=\"text-align: right;\">\n",
       "      <th></th>\n",
       "      <th>perc_premium</th>\n",
       "      <th>no_of_premiums_paid</th>\n",
       "      <th>sourcing_channel</th>\n",
       "      <th>residence_area_type</th>\n",
       "      <th>application_underwriting_score</th>\n",
       "      <th>late_premium</th>\n",
       "      <th>age_in_days_1</th>\n",
       "      <th>age_in_days_2</th>\n",
       "      <th>age_in_days_3</th>\n",
       "      <th>age_in_days_4</th>\n",
       "      <th>...</th>\n",
       "      <th>age_in_days_9</th>\n",
       "      <th>Income_1</th>\n",
       "      <th>Income_2</th>\n",
       "      <th>Income_3</th>\n",
       "      <th>Income_4</th>\n",
       "      <th>Income_5</th>\n",
       "      <th>Income_6</th>\n",
       "      <th>Income_7</th>\n",
       "      <th>Income_8</th>\n",
       "      <th>Income_9</th>\n",
       "    </tr>\n",
       "  </thead>\n",
       "  <tbody>\n",
       "    <tr>\n",
       "      <th>0</th>\n",
       "      <td>0.42900</td>\n",
       "      <td>13</td>\n",
       "      <td>2</td>\n",
       "      <td>1</td>\n",
       "      <td>99.02000</td>\n",
       "      <td>0.00000</td>\n",
       "      <td>1</td>\n",
       "      <td>0</td>\n",
       "      <td>0</td>\n",
       "      <td>0</td>\n",
       "      <td>...</td>\n",
       "      <td>0</td>\n",
       "      <td>0</td>\n",
       "      <td>0</td>\n",
       "      <td>0</td>\n",
       "      <td>1</td>\n",
       "      <td>0</td>\n",
       "      <td>0</td>\n",
       "      <td>0</td>\n",
       "      <td>0</td>\n",
       "      <td>0</td>\n",
       "    </tr>\n",
       "    <tr>\n",
       "      <th>1</th>\n",
       "      <td>0.01000</td>\n",
       "      <td>21</td>\n",
       "      <td>0</td>\n",
       "      <td>1</td>\n",
       "      <td>99.89000</td>\n",
       "      <td>0.00000</td>\n",
       "      <td>0</td>\n",
       "      <td>0</td>\n",
       "      <td>0</td>\n",
       "      <td>1</td>\n",
       "      <td>...</td>\n",
       "      <td>0</td>\n",
       "      <td>0</td>\n",
       "      <td>0</td>\n",
       "      <td>1</td>\n",
       "      <td>0</td>\n",
       "      <td>0</td>\n",
       "      <td>0</td>\n",
       "      <td>0</td>\n",
       "      <td>0</td>\n",
       "      <td>0</td>\n",
       "    </tr>\n",
       "    <tr>\n",
       "      <th>2</th>\n",
       "      <td>0.91700</td>\n",
       "      <td>7</td>\n",
       "      <td>2</td>\n",
       "      <td>0</td>\n",
       "      <td>98.69000</td>\n",
       "      <td>6.00000</td>\n",
       "      <td>0</td>\n",
       "      <td>0</td>\n",
       "      <td>1</td>\n",
       "      <td>0</td>\n",
       "      <td>...</td>\n",
       "      <td>0</td>\n",
       "      <td>0</td>\n",
       "      <td>0</td>\n",
       "      <td>0</td>\n",
       "      <td>0</td>\n",
       "      <td>0</td>\n",
       "      <td>0</td>\n",
       "      <td>0</td>\n",
       "      <td>0</td>\n",
       "      <td>0</td>\n",
       "    </tr>\n",
       "    <tr>\n",
       "      <th>3</th>\n",
       "      <td>0.04900</td>\n",
       "      <td>9</td>\n",
       "      <td>0</td>\n",
       "      <td>1</td>\n",
       "      <td>99.57000</td>\n",
       "      <td>0.00000</td>\n",
       "      <td>0</td>\n",
       "      <td>1</td>\n",
       "      <td>0</td>\n",
       "      <td>0</td>\n",
       "      <td>...</td>\n",
       "      <td>0</td>\n",
       "      <td>0</td>\n",
       "      <td>0</td>\n",
       "      <td>1</td>\n",
       "      <td>0</td>\n",
       "      <td>0</td>\n",
       "      <td>0</td>\n",
       "      <td>0</td>\n",
       "      <td>0</td>\n",
       "      <td>0</td>\n",
       "    </tr>\n",
       "    <tr>\n",
       "      <th>4</th>\n",
       "      <td>0.05200</td>\n",
       "      <td>12</td>\n",
       "      <td>1</td>\n",
       "      <td>1</td>\n",
       "      <td>99.87000</td>\n",
       "      <td>0.00000</td>\n",
       "      <td>0</td>\n",
       "      <td>0</td>\n",
       "      <td>0</td>\n",
       "      <td>0</td>\n",
       "      <td>...</td>\n",
       "      <td>0</td>\n",
       "      <td>0</td>\n",
       "      <td>1</td>\n",
       "      <td>0</td>\n",
       "      <td>0</td>\n",
       "      <td>0</td>\n",
       "      <td>0</td>\n",
       "      <td>0</td>\n",
       "      <td>0</td>\n",
       "      <td>0</td>\n",
       "    </tr>\n",
       "  </tbody>\n",
       "</table>\n",
       "<p>5 rows × 24 columns</p>\n",
       "</div>"
      ],
      "text/plain": [
       "   perc_premium  no_of_premiums_paid  sourcing_channel  residence_area_type  \\\n",
       "0       0.42900                   13                 2                    1   \n",
       "1       0.01000                   21                 0                    1   \n",
       "2       0.91700                    7                 2                    0   \n",
       "3       0.04900                    9                 0                    1   \n",
       "4       0.05200                   12                 1                    1   \n",
       "\n",
       "   application_underwriting_score  late_premium  age_in_days_1  age_in_days_2  \\\n",
       "0                        99.02000       0.00000              1              0   \n",
       "1                        99.89000       0.00000              0              0   \n",
       "2                        98.69000       6.00000              0              0   \n",
       "3                        99.57000       0.00000              0              1   \n",
       "4                        99.87000       0.00000              0              0   \n",
       "\n",
       "   age_in_days_3  age_in_days_4  ...  age_in_days_9  Income_1  Income_2  \\\n",
       "0              0              0  ...              0         0         0   \n",
       "1              0              1  ...              0         0         0   \n",
       "2              1              0  ...              0         0         0   \n",
       "3              0              0  ...              0         0         0   \n",
       "4              0              0  ...              0         0         1   \n",
       "\n",
       "   Income_3  Income_4  Income_5  Income_6  Income_7  Income_8  Income_9  \n",
       "0         0         1         0         0         0         0         0  \n",
       "1         1         0         0         0         0         0         0  \n",
       "2         0         0         0         0         0         0         0  \n",
       "3         1         0         0         0         0         0         0  \n",
       "4         0         0         0         0         0         0         0  \n",
       "\n",
       "[5 rows x 24 columns]"
      ]
     },
     "execution_count": 505,
     "metadata": {},
     "output_type": "execute_result"
    }
   ],
   "source": [
    "x.head()"
   ]
  },
  {
   "cell_type": "markdown",
   "id": "thrown-purple",
   "metadata": {},
   "source": [
    "# Data is imbalanced"
   ]
  },
  {
   "cell_type": "markdown",
   "id": "working-anthony",
   "metadata": {},
   "source": [
    "As we early see in the EDA that Dataset is Imbalanced"
   ]
  },
  {
   "cell_type": "markdown",
   "id": "spanish-substance",
   "metadata": {},
   "source": [
    "### Balancing The DataSet"
   ]
  },
  {
   "cell_type": "code",
   "execution_count": 506,
   "id": "radical-conclusion",
   "metadata": {},
   "outputs": [
    {
     "name": "stdout",
     "output_type": "stream",
     "text": [
      "Number of positive and negative reviews:\n",
      " 1    74855\n",
      "0     4998\n",
      "Name: target, dtype: int64\n",
      "Shape after oversampling\n",
      " (149710, 24)\n",
      "Equal 1s and 0s \n",
      " [74855 74855]\n"
     ]
    }
   ],
   "source": [
    "from imblearn.over_sampling import SMOTE\n",
    "print('Number of positive and negative reviews:\\n',y.value_counts())\n",
    "sm = SMOTE(random_state=2)#,ratio=1.0)\n",
    "X_train_res , y_train_res = sm.fit_resample(x,y)\n",
    "print('Shape after oversampling\\n',X_train_res.shape) \n",
    "print('Equal 1s and 0s \\n', np.bincount(y_train_res))"
   ]
  },
  {
   "cell_type": "markdown",
   "id": "recovered-campbell",
   "metadata": {},
   "source": [
    "# Spliting the data  Train and test"
   ]
  },
  {
   "cell_type": "markdown",
   "id": "canadian-house",
   "metadata": {},
   "source": [
    "We will use the train_test_split function from sklearn to divide our train dataset. So, first let us import train_test_split."
   ]
  },
  {
   "cell_type": "code",
   "execution_count": 507,
   "id": "processed-briefing",
   "metadata": {},
   "outputs": [],
   "source": [
    "# import library\n",
    "from sklearn.model_selection import train_test_split"
   ]
  },
  {
   "cell_type": "code",
   "execution_count": 508,
   "id": "tough-lying",
   "metadata": {},
   "outputs": [],
   "source": [
    "# split the data into train and cross validation set\n",
    "X_train, X_test, y_train, y_test = train_test_split(X_train_res, y_train_res, test_size=0.3, random_state=0)"
   ]
  },
  {
   "cell_type": "code",
   "execution_count": 509,
   "id": "broad-environment",
   "metadata": {},
   "outputs": [
    {
     "data": {
      "text/plain": [
       "((104797, 24), (44913, 24), (104797,), (44913,))"
      ]
     },
     "execution_count": 509,
     "metadata": {},
     "output_type": "execute_result"
    }
   ],
   "source": [
    "# take a look at the dimension of the data\n",
    "X_train.shape, X_test.shape, y_train.shape, y_test.shape"
   ]
  },
  {
   "cell_type": "markdown",
   "id": "governmental-stranger",
   "metadata": {},
   "source": [
    "# Logistic Regression"
   ]
  },
  {
   "cell_type": "markdown",
   "id": "varying-mechanism",
   "metadata": {},
   "source": [
    "The dataset has been divided into training and validation part. Let us import LogisticRegression, confusion matrix and classification Report from sklearn and fit the logistic regression model."
   ]
  },
  {
   "cell_type": "code",
   "execution_count": 510,
   "id": "mobile-thailand",
   "metadata": {},
   "outputs": [],
   "source": [
    "# import libraries\n",
    "from sklearn.linear_model import LogisticRegression\n",
    "from sklearn.metrics import accuracy_score\n",
    "from sklearn.metrics import confusion_matrix\n",
    "from sklearn.metrics import classification_report"
   ]
  },
  {
   "cell_type": "code",
   "execution_count": 511,
   "id": "recovered-offering",
   "metadata": {},
   "outputs": [
    {
     "name": "stderr",
     "output_type": "stream",
     "text": [
      "C:\\Users\\ASUS\\anaconda3\\envs\\loan\\lib\\site-packages\\sklearn\\linear_model\\_logistic.py:765: ConvergenceWarning: lbfgs failed to converge (status=1):\n",
      "STOP: TOTAL NO. of ITERATIONS REACHED LIMIT.\n",
      "\n",
      "Increase the number of iterations (max_iter) or scale the data as shown in:\n",
      "    https://scikit-learn.org/stable/modules/preprocessing.html\n",
      "Please also refer to the documentation for alternative solver options:\n",
      "    https://scikit-learn.org/stable/modules/linear_model.html#logistic-regression\n",
      "  extra_warning_msg=_LOGISTIC_SOLVER_CONVERGENCE_MSG)\n"
     ]
    },
    {
     "data": {
      "text/plain": [
       "LogisticRegression()"
      ]
     },
     "execution_count": 511,
     "metadata": {},
     "output_type": "execute_result"
    }
   ],
   "source": [
    "# fit the model\n",
    "lr = LogisticRegression()\n",
    "lr.fit(X_train,y_train)"
   ]
  },
  {
   "cell_type": "code",
   "execution_count": 512,
   "id": "adequate-ottawa",
   "metadata": {},
   "outputs": [],
   "source": [
    "# make prediction\n",
    "y_pred = lr.predict(X_test)"
   ]
  },
  {
   "cell_type": "code",
   "execution_count": 513,
   "id": "understood-biology",
   "metadata": {},
   "outputs": [
    {
     "data": {
      "text/plain": [
       "0.7917529445817469"
      ]
     },
     "execution_count": 513,
     "metadata": {},
     "output_type": "execute_result"
    }
   ],
   "source": [
    "# calculate accuracy score\n",
    "accuracy_score(y_test,y_pred)"
   ]
  },
  {
   "cell_type": "markdown",
   "id": "sexual-sociology",
   "metadata": {},
   "source": [
    "So our predictions are over 79% accurate, i.e. we have identified 79% of the loan status correctly."
   ]
  },
  {
   "cell_type": "markdown",
   "id": "accepted-confidence",
   "metadata": {},
   "source": [
    "Let’s evaluate our model with the confusion matrix."
   ]
  },
  {
   "cell_type": "code",
   "execution_count": 514,
   "id": "robust-palmer",
   "metadata": {},
   "outputs": [
    {
     "name": "stdout",
     "output_type": "stream",
     "text": [
      "[[17450  5181]\n",
      " [ 4172 18110]]\n"
     ]
    },
    {
     "data": {
      "text/plain": [
       "Text(33.0, 0.5, 'True')"
      ]
     },
     "execution_count": 514,
     "metadata": {},
     "output_type": "execute_result"
    },
    {
     "data": {
      "image/png": "[encoded data removed]",
      "text/plain": [
       "<Figure size 432x288 with 2 Axes>"
      ]
     },
     "metadata": {
      "needs_background": "light"
     },
     "output_type": "display_data"
    }
   ],
   "source": [
    "cm = confusion_matrix(y_test,y_pred)\n",
    "print(cm)\n",
    "\n",
    "sns.heatmap(cm, annot=True, fmt=\"d\")\n",
    "plt.title('Confusion matrix of the classifier')\n",
    "plt.xlabel('Predicted')\n",
    "plt.ylabel('True')"
   ]
  },
  {
   "cell_type": "markdown",
   "id": "double-haiti",
   "metadata": {},
   "source": [
    "Let's build a text report showing the main classification metrics."
   ]
  },
  {
   "cell_type": "code",
   "execution_count": 515,
   "id": "fresh-induction",
   "metadata": {},
   "outputs": [
    {
     "name": "stdout",
     "output_type": "stream",
     "text": [
      "              precision    recall  f1-score   support\n",
      "\n",
      "           0       0.81      0.77      0.79     22631\n",
      "           1       0.78      0.81      0.79     22282\n",
      "\n",
      "    accuracy                           0.79     44913\n",
      "   macro avg       0.79      0.79      0.79     44913\n",
      "weighted avg       0.79      0.79      0.79     44913\n",
      "\n"
     ]
    }
   ],
   "source": [
    "print(classification_report(y_test,y_pred))"
   ]
  },
  {
   "cell_type": "markdown",
   "id": "divided-trainer",
   "metadata": {},
   "source": [
    "The performance of our model seems encouraging, with accuracy of 79%, precision of 79% and recall of 79%."
   ]
  },
  {
   "cell_type": "markdown",
   "id": "concerned-tourism",
   "metadata": {},
   "source": [
    "# Import the Test Dataset "
   ]
  },
  {
   "cell_type": "markdown",
   "id": "compliant-draft",
   "metadata": {},
   "source": [
    "Importing the test dataset and repeating the all steps of data pe processing "
   ]
  },
  {
   "cell_type": "code",
   "execution_count": 516,
   "id": "clinical-thanksgiving",
   "metadata": {},
   "outputs": [],
   "source": [
    "df1 = pd.read_csv('test.csv')"
   ]
  },
  {
   "cell_type": "code",
   "execution_count": 517,
   "id": "blank-program",
   "metadata": {},
   "outputs": [
    {
     "data": {
      "text/plain": [
       "(34224, 11)"
      ]
     },
     "execution_count": 517,
     "metadata": {},
     "output_type": "execute_result"
    }
   ],
   "source": [
    "df1.shape"
   ]
  },
  {
   "cell_type": "code",
   "execution_count": 518,
   "id": "careful-error",
   "metadata": {
    "scrolled": true
   },
   "outputs": [
    {
     "data": {
      "text/html": [
       "<div>\n",
       "<style scoped>\n",
       "    .dataframe tbody tr th:only-of-type {\n",
       "        vertical-align: middle;\n",
       "    }\n",
       "\n",
       "    .dataframe tbody tr th {\n",
       "        vertical-align: top;\n",
       "    }\n",
       "\n",
       "    .dataframe thead th {\n",
       "        text-align: right;\n",
       "    }\n",
       "</style>\n",
       "<table border=\"1\" class=\"dataframe\">\n",
       "  <thead>\n",
       "    <tr style=\"text-align: right;\">\n",
       "      <th></th>\n",
       "      <th>id</th>\n",
       "      <th>perc_premium_paid_by_cash_credit</th>\n",
       "      <th>age_in_days</th>\n",
       "      <th>Income</th>\n",
       "      <th>Count_3-6_months_late</th>\n",
       "      <th>Count_6-12_months_late</th>\n",
       "      <th>Count_more_than_12_months_late</th>\n",
       "      <th>application_underwriting_score</th>\n",
       "      <th>no_of_premiums_paid</th>\n",
       "      <th>sourcing_channel</th>\n",
       "      <th>residence_area_type</th>\n",
       "    </tr>\n",
       "  </thead>\n",
       "  <tbody>\n",
       "    <tr>\n",
       "      <th>0</th>\n",
       "      <td>649</td>\n",
       "      <td>0.00100</td>\n",
       "      <td>27384</td>\n",
       "      <td>51150</td>\n",
       "      <td>0.00000</td>\n",
       "      <td>0.00000</td>\n",
       "      <td>0.00000</td>\n",
       "      <td>99.89000</td>\n",
       "      <td>7</td>\n",
       "      <td>A</td>\n",
       "      <td>Rural</td>\n",
       "    </tr>\n",
       "    <tr>\n",
       "      <th>1</th>\n",
       "      <td>81136</td>\n",
       "      <td>0.12400</td>\n",
       "      <td>23735</td>\n",
       "      <td>285140</td>\n",
       "      <td>0.00000</td>\n",
       "      <td>0.00000</td>\n",
       "      <td>0.00000</td>\n",
       "      <td>98.93000</td>\n",
       "      <td>19</td>\n",
       "      <td>A</td>\n",
       "      <td>Urban</td>\n",
       "    </tr>\n",
       "    <tr>\n",
       "      <th>2</th>\n",
       "      <td>70762</td>\n",
       "      <td>1.00000</td>\n",
       "      <td>17170</td>\n",
       "      <td>186030</td>\n",
       "      <td>0.00000</td>\n",
       "      <td>0.00000</td>\n",
       "      <td>0.00000</td>\n",
       "      <td>NaN</td>\n",
       "      <td>2</td>\n",
       "      <td>B</td>\n",
       "      <td>Urban</td>\n",
       "    </tr>\n",
       "    <tr>\n",
       "      <th>3</th>\n",
       "      <td>53935</td>\n",
       "      <td>0.19800</td>\n",
       "      <td>16068</td>\n",
       "      <td>123540</td>\n",
       "      <td>0.00000</td>\n",
       "      <td>0.00000</td>\n",
       "      <td>0.00000</td>\n",
       "      <td>99.00000</td>\n",
       "      <td>11</td>\n",
       "      <td>B</td>\n",
       "      <td>Rural</td>\n",
       "    </tr>\n",
       "    <tr>\n",
       "      <th>4</th>\n",
       "      <td>15476</td>\n",
       "      <td>0.04100</td>\n",
       "      <td>10591</td>\n",
       "      <td>200020</td>\n",
       "      <td>1.00000</td>\n",
       "      <td>0.00000</td>\n",
       "      <td>0.00000</td>\n",
       "      <td>99.17000</td>\n",
       "      <td>14</td>\n",
       "      <td>A</td>\n",
       "      <td>Rural</td>\n",
       "    </tr>\n",
       "  </tbody>\n",
       "</table>\n",
       "</div>"
      ],
      "text/plain": [
       "      id  perc_premium_paid_by_cash_credit  age_in_days  Income  \\\n",
       "0    649                           0.00100        27384   51150   \n",
       "1  81136                           0.12400        23735  285140   \n",
       "2  70762                           1.00000        17170  186030   \n",
       "3  53935                           0.19800        16068  123540   \n",
       "4  15476                           0.04100        10591  200020   \n",
       "\n",
       "   Count_3-6_months_late  Count_6-12_months_late  \\\n",
       "0                0.00000                 0.00000   \n",
       "1                0.00000                 0.00000   \n",
       "2                0.00000                 0.00000   \n",
       "3                0.00000                 0.00000   \n",
       "4                1.00000                 0.00000   \n",
       "\n",
       "   Count_more_than_12_months_late  application_underwriting_score  \\\n",
       "0                         0.00000                        99.89000   \n",
       "1                         0.00000                        98.93000   \n",
       "2                         0.00000                             NaN   \n",
       "3                         0.00000                        99.00000   \n",
       "4                         0.00000                        99.17000   \n",
       "\n",
       "   no_of_premiums_paid sourcing_channel residence_area_type  \n",
       "0                    7                A               Rural  \n",
       "1                   19                A               Urban  \n",
       "2                    2                B               Urban  \n",
       "3                   11                B               Rural  \n",
       "4                   14                A               Rural  "
      ]
     },
     "execution_count": 518,
     "metadata": {},
     "output_type": "execute_result"
    }
   ],
   "source": [
    "# take a look at the top 5 rows of the test set, notice the absense of \"target\" that we will predict\n",
    "df1.head()"
   ]
  },
  {
   "cell_type": "code",
   "execution_count": 519,
   "id": "widespread-instrumentation",
   "metadata": {},
   "outputs": [],
   "source": [
    "test_id=df1['id'].copy()"
   ]
  },
  {
   "cell_type": "code",
   "execution_count": 520,
   "id": "signal-samba",
   "metadata": {},
   "outputs": [],
   "source": [
    "df1.drop('id',axis=1,inplace=True)"
   ]
  },
  {
   "cell_type": "code",
   "execution_count": 521,
   "id": "informed-replacement",
   "metadata": {},
   "outputs": [],
   "source": [
    "df1.rename(columns={'perc_premium_paid_by_cash_credit':'perc_premium'},inplace=True)"
   ]
  },
  {
   "cell_type": "code",
   "execution_count": 522,
   "id": "ruled-washer",
   "metadata": {},
   "outputs": [
    {
     "data": {
      "text/plain": [
       "count      34224.00000\n",
       "mean      202820.12710\n",
       "std       270253.60800\n",
       "min        24030.00000\n",
       "25%       106397.50000\n",
       "50%       165070.00000\n",
       "75%       250020.00000\n",
       "max     21914550.00000\n",
       "Name: Income, dtype: float64"
      ]
     },
     "execution_count": 522,
     "metadata": {},
     "output_type": "execute_result"
    }
   ],
   "source": [
    "df1.Income.describe()"
   ]
  },
  {
   "cell_type": "code",
   "execution_count": 523,
   "id": "confidential-rwanda",
   "metadata": {},
   "outputs": [
    {
     "name": "stdout",
     "output_type": "stream",
     "text": [
      "0.10000    71573.00000\n",
      "0.99000   750080.00000\n",
      "Name: Income, dtype: float64\n"
     ]
    }
   ],
   "source": [
    "upper_bound = 0.99\n",
    "lower_bound = 0.1\n",
    "res = df1['Income'].quantile([lower_bound, upper_bound])\n",
    "print(res)"
   ]
  },
  {
   "cell_type": "code",
   "execution_count": 524,
   "id": "animal-edinburgh",
   "metadata": {},
   "outputs": [
    {
     "data": {
      "text/plain": [
       "0        True\n",
       "1        True\n",
       "2        True\n",
       "3        True\n",
       "4        True\n",
       "         ... \n",
       "34219    True\n",
       "34220    True\n",
       "34221    True\n",
       "34222    True\n",
       "34223    True\n",
       "Name: Income, Length: 34224, dtype: bool"
      ]
     },
     "execution_count": 524,
     "metadata": {},
     "output_type": "execute_result"
    }
   ],
   "source": [
    "true_index = (df1['Income'] < res.loc[upper_bound])\n",
    "true_index"
   ]
  },
  {
   "cell_type": "code",
   "execution_count": 525,
   "id": "hollywood-elephant",
   "metadata": {},
   "outputs": [],
   "source": [
    "false_index = ~true_index"
   ]
  },
  {
   "cell_type": "code",
   "execution_count": 526,
   "id": "musical-engine",
   "metadata": {},
   "outputs": [],
   "source": [
    "df1.loc[false_index, 'Income'] = 450050.00000"
   ]
  },
  {
   "cell_type": "code",
   "execution_count": 527,
   "id": "junior-racing",
   "metadata": {},
   "outputs": [],
   "source": [
    "df1['age_in_days'] = pd.cut(df1['age_in_days'],bins= 10,labels=range(10))\n",
    "# df1['age_in_days']=df1['age_in_days'].astype(int)"
   ]
  },
  {
   "cell_type": "code",
   "execution_count": 528,
   "id": "pleased-tanzania",
   "metadata": {},
   "outputs": [
    {
     "data": {
      "text/plain": [
       "4    6425\n",
       "3    6193\n",
       "2    5878\n",
       "5    5295\n",
       "1    4081\n",
       "6    2554\n",
       "7    1646\n",
       "0    1519\n",
       "8     558\n",
       "9      75\n",
       "Name: age_in_days, dtype: int64"
      ]
     },
     "execution_count": 528,
     "metadata": {},
     "output_type": "execute_result"
    }
   ],
   "source": [
    "df1.age_in_days.value_counts()"
   ]
  },
  {
   "cell_type": "code",
   "execution_count": 529,
   "id": "several-conversion",
   "metadata": {},
   "outputs": [],
   "source": [
    "df1['Income'] = pd.cut(df1['Income'], bins=10,labels=range(10))\n",
    "# df1['Income']=df1['Income'].astype(int)"
   ]
  },
  {
   "cell_type": "code",
   "execution_count": 530,
   "id": "complete-agent",
   "metadata": {},
   "outputs": [
    {
     "data": {
      "text/plain": [
       "1    10546\n",
       "2     7529\n",
       "0     7095\n",
       "3     4211\n",
       "4     2328\n",
       "5     1471\n",
       "6      504\n",
       "7      297\n",
       "8      148\n",
       "9       95\n",
       "Name: Income, dtype: int64"
      ]
     },
     "execution_count": 530,
     "metadata": {},
     "output_type": "execute_result"
    }
   ],
   "source": [
    "df1.Income.value_counts()"
   ]
  },
  {
   "cell_type": "code",
   "execution_count": 531,
   "id": "thorough-probability",
   "metadata": {},
   "outputs": [
    {
     "data": {
      "text/plain": [
       "perc_premium                         0\n",
       "age_in_days                          0\n",
       "Income                               0\n",
       "Count_3-6_months_late               31\n",
       "Count_6-12_months_late              31\n",
       "Count_more_than_12_months_late      31\n",
       "application_underwriting_score    1323\n",
       "no_of_premiums_paid                  0\n",
       "sourcing_channel                     0\n",
       "residence_area_type                  0\n",
       "dtype: int64"
      ]
     },
     "execution_count": 531,
     "metadata": {},
     "output_type": "execute_result"
    }
   ],
   "source": [
    "df1.isnull().sum()"
   ]
  },
  {
   "cell_type": "code",
   "execution_count": 532,
   "id": "major-testing",
   "metadata": {},
   "outputs": [],
   "source": [
    "def impute_nan(df,variable,median):\n",
    "    df[variable+\"_median\"]=df[variable].fillna(median)\n",
    "    df[variable+\"_random\"]=df[variable]\n",
    "    ##It will have the random sample to fill the na\n",
    "    random_sample=df[variable].dropna().sample(df[variable].isnull().sum(),random_state=0)\n",
    "    ##pandas need to have same index in order to merge the dataset\n",
    "    random_sample.index=df[df[variable].isnull()].index\n",
    "    df.loc[df[variable].isnull(),variable+'_random']=random_sample"
   ]
  },
  {
   "cell_type": "code",
   "execution_count": 533,
   "id": "charitable-field",
   "metadata": {},
   "outputs": [],
   "source": [
    "median=df1.application_underwriting_score.median()"
   ]
  },
  {
   "cell_type": "code",
   "execution_count": 534,
   "id": "atomic-sitting",
   "metadata": {},
   "outputs": [],
   "source": [
    "impute_nan(df1,\"application_underwriting_score\",median)"
   ]
  },
  {
   "cell_type": "code",
   "execution_count": 535,
   "id": "silver-wrong",
   "metadata": {},
   "outputs": [],
   "source": [
    "for data in [df1]:\n",
    "    data.loc[(data['Count_3-6_months_late'].isnull()),  'late_premium'] = np.NaN\n",
    "    data.loc[(data['Count_3-6_months_late'].notnull()), 'late_premium'] = data['Count_3-6_months_late'] + data['Count_6-12_months_late'] + data['Count_more_than_12_months_late']\n",
    "        "
   ]
  },
  {
   "cell_type": "code",
   "execution_count": 536,
   "id": "designing-prime",
   "metadata": {},
   "outputs": [],
   "source": [
    "df1.loc[(df1['late_premium'].isnull() )& (df1['application_underwriting_score_random']>=98.83306),'late_premium']=2\n",
    "df1.loc[(df1['late_premium'].isnull() )& (df1['application_underwriting_score_random']<=98.83306),'late_premium']=7\n",
    "\n",
    "        "
   ]
  },
  {
   "cell_type": "code",
   "execution_count": 537,
   "id": "experienced-florist",
   "metadata": {},
   "outputs": [],
   "source": [
    "df1.drop(['Count_3-6_months_late', 'Count_6-12_months_late', 'Count_more_than_12_months_late'], axis = 1, inplace = True)"
   ]
  },
  {
   "cell_type": "code",
   "execution_count": 538,
   "id": "prescription-kingdom",
   "metadata": {},
   "outputs": [],
   "source": [
    "df1.drop(['application_underwriting_score', 'application_underwriting_score_median'], axis = 1, inplace = True)"
   ]
  },
  {
   "cell_type": "code",
   "execution_count": 539,
   "id": "saved-chess",
   "metadata": {},
   "outputs": [],
   "source": [
    "df1.rename(columns={'application_underwriting_score_random':'application_underwriting_score'},inplace=True)"
   ]
  },
  {
   "cell_type": "code",
   "execution_count": 540,
   "id": "convinced-chess",
   "metadata": {},
   "outputs": [
    {
     "data": {
      "text/plain": [
       "perc_premium                      0\n",
       "age_in_days                       0\n",
       "Income                            0\n",
       "no_of_premiums_paid               0\n",
       "sourcing_channel                  0\n",
       "residence_area_type               0\n",
       "application_underwriting_score    0\n",
       "late_premium                      0\n",
       "dtype: int64"
      ]
     },
     "execution_count": 540,
     "metadata": {},
     "output_type": "execute_result"
    }
   ],
   "source": [
    "df1.isnull().sum()"
   ]
  },
  {
   "cell_type": "code",
   "execution_count": 541,
   "id": "developmental-partition",
   "metadata": {},
   "outputs": [],
   "source": [
    "df1['residence_area_type'] = df1['residence_area_type'].map( {'Urban' : 1, 'Rural' : 0} )\n",
    "df1['sourcing_channel'] = df1['sourcing_channel'].map( {'A' : 0, 'B' : 1, 'C' : 2, 'D' : 3, 'E' : 4} )"
   ]
  },
  {
   "cell_type": "code",
   "execution_count": 542,
   "id": "touched-preference",
   "metadata": {},
   "outputs": [],
   "source": [
    "df1=pd.get_dummies(df1,drop_first=True)"
   ]
  },
  {
   "cell_type": "code",
   "execution_count": 543,
   "id": "incorrect-dinner",
   "metadata": {},
   "outputs": [
    {
     "data": {
      "text/html": [
       "<div>\n",
       "<style scoped>\n",
       "    .dataframe tbody tr th:only-of-type {\n",
       "        vertical-align: middle;\n",
       "    }\n",
       "\n",
       "    .dataframe tbody tr th {\n",
       "        vertical-align: top;\n",
       "    }\n",
       "\n",
       "    .dataframe thead th {\n",
       "        text-align: right;\n",
       "    }\n",
       "</style>\n",
       "<table border=\"1\" class=\"dataframe\">\n",
       "  <thead>\n",
       "    <tr style=\"text-align: right;\">\n",
       "      <th></th>\n",
       "      <th>perc_premium</th>\n",
       "      <th>no_of_premiums_paid</th>\n",
       "      <th>sourcing_channel</th>\n",
       "      <th>residence_area_type</th>\n",
       "      <th>application_underwriting_score</th>\n",
       "      <th>late_premium</th>\n",
       "      <th>age_in_days_1</th>\n",
       "      <th>age_in_days_2</th>\n",
       "      <th>age_in_days_3</th>\n",
       "      <th>age_in_days_4</th>\n",
       "      <th>...</th>\n",
       "      <th>age_in_days_9</th>\n",
       "      <th>Income_1</th>\n",
       "      <th>Income_2</th>\n",
       "      <th>Income_3</th>\n",
       "      <th>Income_4</th>\n",
       "      <th>Income_5</th>\n",
       "      <th>Income_6</th>\n",
       "      <th>Income_7</th>\n",
       "      <th>Income_8</th>\n",
       "      <th>Income_9</th>\n",
       "    </tr>\n",
       "  </thead>\n",
       "  <tbody>\n",
       "    <tr>\n",
       "      <th>0</th>\n",
       "      <td>0.42900</td>\n",
       "      <td>13</td>\n",
       "      <td>2</td>\n",
       "      <td>1</td>\n",
       "      <td>99.02000</td>\n",
       "      <td>0.00000</td>\n",
       "      <td>1</td>\n",
       "      <td>0</td>\n",
       "      <td>0</td>\n",
       "      <td>0</td>\n",
       "      <td>...</td>\n",
       "      <td>0</td>\n",
       "      <td>0</td>\n",
       "      <td>0</td>\n",
       "      <td>0</td>\n",
       "      <td>1</td>\n",
       "      <td>0</td>\n",
       "      <td>0</td>\n",
       "      <td>0</td>\n",
       "      <td>0</td>\n",
       "      <td>0</td>\n",
       "    </tr>\n",
       "    <tr>\n",
       "      <th>1</th>\n",
       "      <td>0.01000</td>\n",
       "      <td>21</td>\n",
       "      <td>0</td>\n",
       "      <td>1</td>\n",
       "      <td>99.89000</td>\n",
       "      <td>0.00000</td>\n",
       "      <td>0</td>\n",
       "      <td>0</td>\n",
       "      <td>0</td>\n",
       "      <td>1</td>\n",
       "      <td>...</td>\n",
       "      <td>0</td>\n",
       "      <td>0</td>\n",
       "      <td>0</td>\n",
       "      <td>1</td>\n",
       "      <td>0</td>\n",
       "      <td>0</td>\n",
       "      <td>0</td>\n",
       "      <td>0</td>\n",
       "      <td>0</td>\n",
       "      <td>0</td>\n",
       "    </tr>\n",
       "    <tr>\n",
       "      <th>2</th>\n",
       "      <td>0.91700</td>\n",
       "      <td>7</td>\n",
       "      <td>2</td>\n",
       "      <td>0</td>\n",
       "      <td>98.69000</td>\n",
       "      <td>6.00000</td>\n",
       "      <td>0</td>\n",
       "      <td>0</td>\n",
       "      <td>1</td>\n",
       "      <td>0</td>\n",
       "      <td>...</td>\n",
       "      <td>0</td>\n",
       "      <td>0</td>\n",
       "      <td>0</td>\n",
       "      <td>0</td>\n",
       "      <td>0</td>\n",
       "      <td>0</td>\n",
       "      <td>0</td>\n",
       "      <td>0</td>\n",
       "      <td>0</td>\n",
       "      <td>0</td>\n",
       "    </tr>\n",
       "    <tr>\n",
       "      <th>3</th>\n",
       "      <td>0.04900</td>\n",
       "      <td>9</td>\n",
       "      <td>0</td>\n",
       "      <td>1</td>\n",
       "      <td>99.57000</td>\n",
       "      <td>0.00000</td>\n",
       "      <td>0</td>\n",
       "      <td>1</td>\n",
       "      <td>0</td>\n",
       "      <td>0</td>\n",
       "      <td>...</td>\n",
       "      <td>0</td>\n",
       "      <td>0</td>\n",
       "      <td>0</td>\n",
       "      <td>1</td>\n",
       "      <td>0</td>\n",
       "      <td>0</td>\n",
       "      <td>0</td>\n",
       "      <td>0</td>\n",
       "      <td>0</td>\n",
       "      <td>0</td>\n",
       "    </tr>\n",
       "    <tr>\n",
       "      <th>4</th>\n",
       "      <td>0.05200</td>\n",
       "      <td>12</td>\n",
       "      <td>1</td>\n",
       "      <td>1</td>\n",
       "      <td>99.87000</td>\n",
       "      <td>0.00000</td>\n",
       "      <td>0</td>\n",
       "      <td>0</td>\n",
       "      <td>0</td>\n",
       "      <td>0</td>\n",
       "      <td>...</td>\n",
       "      <td>0</td>\n",
       "      <td>0</td>\n",
       "      <td>1</td>\n",
       "      <td>0</td>\n",
       "      <td>0</td>\n",
       "      <td>0</td>\n",
       "      <td>0</td>\n",
       "      <td>0</td>\n",
       "      <td>0</td>\n",
       "      <td>0</td>\n",
       "    </tr>\n",
       "  </tbody>\n",
       "</table>\n",
       "<p>5 rows × 24 columns</p>\n",
       "</div>"
      ],
      "text/plain": [
       "   perc_premium  no_of_premiums_paid  sourcing_channel  residence_area_type  \\\n",
       "0       0.42900                   13                 2                    1   \n",
       "1       0.01000                   21                 0                    1   \n",
       "2       0.91700                    7                 2                    0   \n",
       "3       0.04900                    9                 0                    1   \n",
       "4       0.05200                   12                 1                    1   \n",
       "\n",
       "   application_underwriting_score  late_premium  age_in_days_1  age_in_days_2  \\\n",
       "0                        99.02000       0.00000              1              0   \n",
       "1                        99.89000       0.00000              0              0   \n",
       "2                        98.69000       6.00000              0              0   \n",
       "3                        99.57000       0.00000              0              1   \n",
       "4                        99.87000       0.00000              0              0   \n",
       "\n",
       "   age_in_days_3  age_in_days_4  ...  age_in_days_9  Income_1  Income_2  \\\n",
       "0              0              0  ...              0         0         0   \n",
       "1              0              1  ...              0         0         0   \n",
       "2              1              0  ...              0         0         0   \n",
       "3              0              0  ...              0         0         0   \n",
       "4              0              0  ...              0         0         1   \n",
       "\n",
       "   Income_3  Income_4  Income_5  Income_6  Income_7  Income_8  Income_9  \n",
       "0         0         1         0         0         0         0         0  \n",
       "1         1         0         0         0         0         0         0  \n",
       "2         0         0         0         0         0         0         0  \n",
       "3         1         0         0         0         0         0         0  \n",
       "4         0         0         0         0         0         0         0  \n",
       "\n",
       "[5 rows x 24 columns]"
      ]
     },
     "execution_count": 543,
     "metadata": {},
     "output_type": "execute_result"
    }
   ],
   "source": [
    "x.head()"
   ]
  },
  {
   "cell_type": "code",
   "execution_count": 544,
   "id": "greenhouse-session",
   "metadata": {
    "scrolled": true
   },
   "outputs": [
    {
     "data": {
      "text/html": [
       "<div>\n",
       "<style scoped>\n",
       "    .dataframe tbody tr th:only-of-type {\n",
       "        vertical-align: middle;\n",
       "    }\n",
       "\n",
       "    .dataframe tbody tr th {\n",
       "        vertical-align: top;\n",
       "    }\n",
       "\n",
       "    .dataframe thead th {\n",
       "        text-align: right;\n",
       "    }\n",
       "</style>\n",
       "<table border=\"1\" class=\"dataframe\">\n",
       "  <thead>\n",
       "    <tr style=\"text-align: right;\">\n",
       "      <th></th>\n",
       "      <th>perc_premium</th>\n",
       "      <th>no_of_premiums_paid</th>\n",
       "      <th>sourcing_channel</th>\n",
       "      <th>residence_area_type</th>\n",
       "      <th>application_underwriting_score</th>\n",
       "      <th>late_premium</th>\n",
       "      <th>age_in_days_1</th>\n",
       "      <th>age_in_days_2</th>\n",
       "      <th>age_in_days_3</th>\n",
       "      <th>age_in_days_4</th>\n",
       "      <th>...</th>\n",
       "      <th>age_in_days_9</th>\n",
       "      <th>Income_1</th>\n",
       "      <th>Income_2</th>\n",
       "      <th>Income_3</th>\n",
       "      <th>Income_4</th>\n",
       "      <th>Income_5</th>\n",
       "      <th>Income_6</th>\n",
       "      <th>Income_7</th>\n",
       "      <th>Income_8</th>\n",
       "      <th>Income_9</th>\n",
       "    </tr>\n",
       "  </thead>\n",
       "  <tbody>\n",
       "    <tr>\n",
       "      <th>0</th>\n",
       "      <td>0.00100</td>\n",
       "      <td>7</td>\n",
       "      <td>0</td>\n",
       "      <td>0</td>\n",
       "      <td>99.89000</td>\n",
       "      <td>0.00000</td>\n",
       "      <td>0</td>\n",
       "      <td>0</td>\n",
       "      <td>0</td>\n",
       "      <td>0</td>\n",
       "      <td>...</td>\n",
       "      <td>0</td>\n",
       "      <td>0</td>\n",
       "      <td>0</td>\n",
       "      <td>0</td>\n",
       "      <td>0</td>\n",
       "      <td>0</td>\n",
       "      <td>0</td>\n",
       "      <td>0</td>\n",
       "      <td>0</td>\n",
       "      <td>0</td>\n",
       "    </tr>\n",
       "    <tr>\n",
       "      <th>1</th>\n",
       "      <td>0.12400</td>\n",
       "      <td>19</td>\n",
       "      <td>0</td>\n",
       "      <td>1</td>\n",
       "      <td>98.93000</td>\n",
       "      <td>0.00000</td>\n",
       "      <td>0</td>\n",
       "      <td>0</td>\n",
       "      <td>0</td>\n",
       "      <td>0</td>\n",
       "      <td>...</td>\n",
       "      <td>0</td>\n",
       "      <td>0</td>\n",
       "      <td>0</td>\n",
       "      <td>1</td>\n",
       "      <td>0</td>\n",
       "      <td>0</td>\n",
       "      <td>0</td>\n",
       "      <td>0</td>\n",
       "      <td>0</td>\n",
       "      <td>0</td>\n",
       "    </tr>\n",
       "    <tr>\n",
       "      <th>2</th>\n",
       "      <td>1.00000</td>\n",
       "      <td>2</td>\n",
       "      <td>1</td>\n",
       "      <td>1</td>\n",
       "      <td>98.91000</td>\n",
       "      <td>0.00000</td>\n",
       "      <td>0</td>\n",
       "      <td>0</td>\n",
       "      <td>1</td>\n",
       "      <td>0</td>\n",
       "      <td>...</td>\n",
       "      <td>0</td>\n",
       "      <td>0</td>\n",
       "      <td>1</td>\n",
       "      <td>0</td>\n",
       "      <td>0</td>\n",
       "      <td>0</td>\n",
       "      <td>0</td>\n",
       "      <td>0</td>\n",
       "      <td>0</td>\n",
       "      <td>0</td>\n",
       "    </tr>\n",
       "    <tr>\n",
       "      <th>3</th>\n",
       "      <td>0.19800</td>\n",
       "      <td>11</td>\n",
       "      <td>1</td>\n",
       "      <td>0</td>\n",
       "      <td>99.00000</td>\n",
       "      <td>0.00000</td>\n",
       "      <td>0</td>\n",
       "      <td>1</td>\n",
       "      <td>0</td>\n",
       "      <td>0</td>\n",
       "      <td>...</td>\n",
       "      <td>0</td>\n",
       "      <td>1</td>\n",
       "      <td>0</td>\n",
       "      <td>0</td>\n",
       "      <td>0</td>\n",
       "      <td>0</td>\n",
       "      <td>0</td>\n",
       "      <td>0</td>\n",
       "      <td>0</td>\n",
       "      <td>0</td>\n",
       "    </tr>\n",
       "    <tr>\n",
       "      <th>4</th>\n",
       "      <td>0.04100</td>\n",
       "      <td>14</td>\n",
       "      <td>0</td>\n",
       "      <td>0</td>\n",
       "      <td>99.17000</td>\n",
       "      <td>1.00000</td>\n",
       "      <td>1</td>\n",
       "      <td>0</td>\n",
       "      <td>0</td>\n",
       "      <td>0</td>\n",
       "      <td>...</td>\n",
       "      <td>0</td>\n",
       "      <td>0</td>\n",
       "      <td>1</td>\n",
       "      <td>0</td>\n",
       "      <td>0</td>\n",
       "      <td>0</td>\n",
       "      <td>0</td>\n",
       "      <td>0</td>\n",
       "      <td>0</td>\n",
       "      <td>0</td>\n",
       "    </tr>\n",
       "  </tbody>\n",
       "</table>\n",
       "<p>5 rows × 24 columns</p>\n",
       "</div>"
      ],
      "text/plain": [
       "   perc_premium  no_of_premiums_paid  sourcing_channel  residence_area_type  \\\n",
       "0       0.00100                    7                 0                    0   \n",
       "1       0.12400                   19                 0                    1   \n",
       "2       1.00000                    2                 1                    1   \n",
       "3       0.19800                   11                 1                    0   \n",
       "4       0.04100                   14                 0                    0   \n",
       "\n",
       "   application_underwriting_score  late_premium  age_in_days_1  age_in_days_2  \\\n",
       "0                        99.89000       0.00000              0              0   \n",
       "1                        98.93000       0.00000              0              0   \n",
       "2                        98.91000       0.00000              0              0   \n",
       "3                        99.00000       0.00000              0              1   \n",
       "4                        99.17000       1.00000              1              0   \n",
       "\n",
       "   age_in_days_3  age_in_days_4  ...  age_in_days_9  Income_1  Income_2  \\\n",
       "0              0              0  ...              0         0         0   \n",
       "1              0              0  ...              0         0         0   \n",
       "2              1              0  ...              0         0         1   \n",
       "3              0              0  ...              0         1         0   \n",
       "4              0              0  ...              0         0         1   \n",
       "\n",
       "   Income_3  Income_4  Income_5  Income_6  Income_7  Income_8  Income_9  \n",
       "0         0         0         0         0         0         0         0  \n",
       "1         1         0         0         0         0         0         0  \n",
       "2         0         0         0         0         0         0         0  \n",
       "3         0         0         0         0         0         0         0  \n",
       "4         0         0         0         0         0         0         0  \n",
       "\n",
       "[5 rows x 24 columns]"
      ]
     },
     "execution_count": 544,
     "metadata": {},
     "output_type": "execute_result"
    }
   ],
   "source": [
    "df1.head()"
   ]
  },
  {
   "cell_type": "code",
   "execution_count": 545,
   "id": "imposed-dictionary",
   "metadata": {},
   "outputs": [],
   "source": [
    "x_test = df1"
   ]
  },
  {
   "cell_type": "code",
   "execution_count": 546,
   "id": "hindu-memphis",
   "metadata": {},
   "outputs": [],
   "source": [
    "from sklearn.metrics import roc_auc_score"
   ]
  },
  {
   "cell_type": "code",
   "execution_count": 547,
   "id": "described-thursday",
   "metadata": {},
   "outputs": [],
   "source": [
    "# result=lr.predict(x_test)\n",
    "result=lr.predict_proba(x_test)[:, 1]"
   ]
  },
  {
   "cell_type": "code",
   "execution_count": 548,
   "id": "engaging-spokesman",
   "metadata": {},
   "outputs": [],
   "source": [
    "dict1 = {'id':test_id ,'target':result}"
   ]
  },
  {
   "cell_type": "code",
   "execution_count": 549,
   "id": "spread-reception",
   "metadata": {},
   "outputs": [],
   "source": [
    "sample = pd.DataFrame(dict1)"
   ]
  },
  {
   "cell_type": "code",
   "execution_count": 550,
   "id": "spread-comedy",
   "metadata": {},
   "outputs": [],
   "source": [
    "sample.to_csv('Loan1.csv',index=False)"
   ]
  },
  {
   "cell_type": "code",
   "execution_count": null,
   "id": "initial-contents",
   "metadata": {},
   "outputs": [],
   "source": []
  },
  {
   "cell_type": "code",
   "execution_count": null,
   "id": "proof-blowing",
   "metadata": {},
   "outputs": [],
   "source": []
  },
  {
   "cell_type": "code",
   "execution_count": null,
   "id": "static-carpet",
   "metadata": {},
   "outputs": [],
   "source": []
  }
 ],
 "metadata": {
  "kernelspec": {
   "display_name": "Python 3",
   "language": "python",
   "name": "python3"
  },
  "language_info": {
   "codemirror_mode": {
    "name": "ipython",
    "version": 3
   },
   "file_extension": ".py",
   "mimetype": "text/x-python",
   "name": "python",
   "nbconvert_exporter": "python",
   "pygments_lexer": "ipython3",
   "version": "3.7.10"
  }
 },
 "nbformat": 4,
 "nbformat_minor": 5
}
