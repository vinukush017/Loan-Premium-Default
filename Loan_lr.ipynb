{
 "cells": [
  {
   "cell_type": "code",
   "execution_count": 703,
   "id": "accurate-ranch",
   "metadata": {},
   "outputs": [],
   "source": [
    "import numpy as np\n",
    "import pandas as pd\n",
    "import matplotlib.pyplot as plt\n",
    "import seaborn as sns\n",
    "%matplotlib inline"
   ]
  },
  {
   "cell_type": "code",
   "execution_count": 704,
   "id": "geological-minimum",
   "metadata": {},
   "outputs": [],
   "source": [
    "df = pd.read_csv('train.csv')"
   ]
  },
  {
   "cell_type": "code",
   "execution_count": 705,
   "id": "judicial-sustainability",
   "metadata": {},
   "outputs": [
    {
     "data": {
      "text/html": [
       "<div>\n",
       "<style scoped>\n",
       "    .dataframe tbody tr th:only-of-type {\n",
       "        vertical-align: middle;\n",
       "    }\n",
       "\n",
       "    .dataframe tbody tr th {\n",
       "        vertical-align: top;\n",
       "    }\n",
       "\n",
       "    .dataframe thead th {\n",
       "        text-align: right;\n",
       "    }\n",
       "</style>\n",
       "<table border=\"1\" class=\"dataframe\">\n",
       "  <thead>\n",
       "    <tr style=\"text-align: right;\">\n",
       "      <th></th>\n",
       "      <th>id</th>\n",
       "      <th>perc_premium_paid_by_cash_credit</th>\n",
       "      <th>age_in_days</th>\n",
       "      <th>Income</th>\n",
       "      <th>Count_3-6_months_late</th>\n",
       "      <th>Count_6-12_months_late</th>\n",
       "      <th>Count_more_than_12_months_late</th>\n",
       "      <th>application_underwriting_score</th>\n",
       "      <th>no_of_premiums_paid</th>\n",
       "      <th>sourcing_channel</th>\n",
       "      <th>residence_area_type</th>\n",
       "      <th>target</th>\n",
       "    </tr>\n",
       "  </thead>\n",
       "  <tbody>\n",
       "    <tr>\n",
       "      <th>0</th>\n",
       "      <td>110936</td>\n",
       "      <td>0.42900</td>\n",
       "      <td>12058</td>\n",
       "      <td>355060</td>\n",
       "      <td>0.00000</td>\n",
       "      <td>0.00000</td>\n",
       "      <td>0.00000</td>\n",
       "      <td>99.02000</td>\n",
       "      <td>13</td>\n",
       "      <td>C</td>\n",
       "      <td>Urban</td>\n",
       "      <td>1</td>\n",
       "    </tr>\n",
       "    <tr>\n",
       "      <th>1</th>\n",
       "      <td>41492</td>\n",
       "      <td>0.01000</td>\n",
       "      <td>21546</td>\n",
       "      <td>315150</td>\n",
       "      <td>0.00000</td>\n",
       "      <td>0.00000</td>\n",
       "      <td>0.00000</td>\n",
       "      <td>99.89000</td>\n",
       "      <td>21</td>\n",
       "      <td>A</td>\n",
       "      <td>Urban</td>\n",
       "      <td>1</td>\n",
       "    </tr>\n",
       "    <tr>\n",
       "      <th>2</th>\n",
       "      <td>31300</td>\n",
       "      <td>0.91700</td>\n",
       "      <td>17531</td>\n",
       "      <td>84140</td>\n",
       "      <td>2.00000</td>\n",
       "      <td>3.00000</td>\n",
       "      <td>1.00000</td>\n",
       "      <td>98.69000</td>\n",
       "      <td>7</td>\n",
       "      <td>C</td>\n",
       "      <td>Rural</td>\n",
       "      <td>0</td>\n",
       "    </tr>\n",
       "    <tr>\n",
       "      <th>3</th>\n",
       "      <td>19415</td>\n",
       "      <td>0.04900</td>\n",
       "      <td>15341</td>\n",
       "      <td>250510</td>\n",
       "      <td>0.00000</td>\n",
       "      <td>0.00000</td>\n",
       "      <td>0.00000</td>\n",
       "      <td>99.57000</td>\n",
       "      <td>9</td>\n",
       "      <td>A</td>\n",
       "      <td>Urban</td>\n",
       "      <td>1</td>\n",
       "    </tr>\n",
       "    <tr>\n",
       "      <th>4</th>\n",
       "      <td>99379</td>\n",
       "      <td>0.05200</td>\n",
       "      <td>31400</td>\n",
       "      <td>198680</td>\n",
       "      <td>0.00000</td>\n",
       "      <td>0.00000</td>\n",
       "      <td>0.00000</td>\n",
       "      <td>99.87000</td>\n",
       "      <td>12</td>\n",
       "      <td>B</td>\n",
       "      <td>Urban</td>\n",
       "      <td>1</td>\n",
       "    </tr>\n",
       "  </tbody>\n",
       "</table>\n",
       "</div>"
      ],
      "text/plain": [
       "       id  perc_premium_paid_by_cash_credit  age_in_days  Income  \\\n",
       "0  110936                           0.42900        12058  355060   \n",
       "1   41492                           0.01000        21546  315150   \n",
       "2   31300                           0.91700        17531   84140   \n",
       "3   19415                           0.04900        15341  250510   \n",
       "4   99379                           0.05200        31400  198680   \n",
       "\n",
       "   Count_3-6_months_late  Count_6-12_months_late  \\\n",
       "0                0.00000                 0.00000   \n",
       "1                0.00000                 0.00000   \n",
       "2                2.00000                 3.00000   \n",
       "3                0.00000                 0.00000   \n",
       "4                0.00000                 0.00000   \n",
       "\n",
       "   Count_more_than_12_months_late  application_underwriting_score  \\\n",
       "0                         0.00000                        99.02000   \n",
       "1                         0.00000                        99.89000   \n",
       "2                         1.00000                        98.69000   \n",
       "3                         0.00000                        99.57000   \n",
       "4                         0.00000                        99.87000   \n",
       "\n",
       "   no_of_premiums_paid sourcing_channel residence_area_type  target  \n",
       "0                   13                C               Urban       1  \n",
       "1                   21                A               Urban       1  \n",
       "2                    7                C               Rural       0  \n",
       "3                    9                A               Urban       1  \n",
       "4                   12                B               Urban       1  "
      ]
     },
     "execution_count": 705,
     "metadata": {},
     "output_type": "execute_result"
    }
   ],
   "source": [
    "df.head()"
   ]
  },
  {
   "cell_type": "code",
   "execution_count": 706,
   "id": "heavy-benchmark",
   "metadata": {},
   "outputs": [],
   "source": [
    "df.drop('id',axis=1,inplace=True)"
   ]
  },
  {
   "cell_type": "code",
   "execution_count": 707,
   "id": "unknown-butler",
   "metadata": {},
   "outputs": [
    {
     "data": {
      "text/html": [
       "<div>\n",
       "<style scoped>\n",
       "    .dataframe tbody tr th:only-of-type {\n",
       "        vertical-align: middle;\n",
       "    }\n",
       "\n",
       "    .dataframe tbody tr th {\n",
       "        vertical-align: top;\n",
       "    }\n",
       "\n",
       "    .dataframe thead th {\n",
       "        text-align: right;\n",
       "    }\n",
       "</style>\n",
       "<table border=\"1\" class=\"dataframe\">\n",
       "  <thead>\n",
       "    <tr style=\"text-align: right;\">\n",
       "      <th></th>\n",
       "      <th>perc_premium_paid_by_cash_credit</th>\n",
       "      <th>age_in_days</th>\n",
       "      <th>Income</th>\n",
       "      <th>Count_3-6_months_late</th>\n",
       "      <th>Count_6-12_months_late</th>\n",
       "      <th>Count_more_than_12_months_late</th>\n",
       "      <th>application_underwriting_score</th>\n",
       "      <th>no_of_premiums_paid</th>\n",
       "      <th>sourcing_channel</th>\n",
       "      <th>residence_area_type</th>\n",
       "      <th>target</th>\n",
       "    </tr>\n",
       "  </thead>\n",
       "  <tbody>\n",
       "    <tr>\n",
       "      <th>0</th>\n",
       "      <td>0.42900</td>\n",
       "      <td>12058</td>\n",
       "      <td>355060</td>\n",
       "      <td>0.00000</td>\n",
       "      <td>0.00000</td>\n",
       "      <td>0.00000</td>\n",
       "      <td>99.02000</td>\n",
       "      <td>13</td>\n",
       "      <td>C</td>\n",
       "      <td>Urban</td>\n",
       "      <td>1</td>\n",
       "    </tr>\n",
       "    <tr>\n",
       "      <th>1</th>\n",
       "      <td>0.01000</td>\n",
       "      <td>21546</td>\n",
       "      <td>315150</td>\n",
       "      <td>0.00000</td>\n",
       "      <td>0.00000</td>\n",
       "      <td>0.00000</td>\n",
       "      <td>99.89000</td>\n",
       "      <td>21</td>\n",
       "      <td>A</td>\n",
       "      <td>Urban</td>\n",
       "      <td>1</td>\n",
       "    </tr>\n",
       "    <tr>\n",
       "      <th>2</th>\n",
       "      <td>0.91700</td>\n",
       "      <td>17531</td>\n",
       "      <td>84140</td>\n",
       "      <td>2.00000</td>\n",
       "      <td>3.00000</td>\n",
       "      <td>1.00000</td>\n",
       "      <td>98.69000</td>\n",
       "      <td>7</td>\n",
       "      <td>C</td>\n",
       "      <td>Rural</td>\n",
       "      <td>0</td>\n",
       "    </tr>\n",
       "    <tr>\n",
       "      <th>3</th>\n",
       "      <td>0.04900</td>\n",
       "      <td>15341</td>\n",
       "      <td>250510</td>\n",
       "      <td>0.00000</td>\n",
       "      <td>0.00000</td>\n",
       "      <td>0.00000</td>\n",
       "      <td>99.57000</td>\n",
       "      <td>9</td>\n",
       "      <td>A</td>\n",
       "      <td>Urban</td>\n",
       "      <td>1</td>\n",
       "    </tr>\n",
       "    <tr>\n",
       "      <th>4</th>\n",
       "      <td>0.05200</td>\n",
       "      <td>31400</td>\n",
       "      <td>198680</td>\n",
       "      <td>0.00000</td>\n",
       "      <td>0.00000</td>\n",
       "      <td>0.00000</td>\n",
       "      <td>99.87000</td>\n",
       "      <td>12</td>\n",
       "      <td>B</td>\n",
       "      <td>Urban</td>\n",
       "      <td>1</td>\n",
       "    </tr>\n",
       "  </tbody>\n",
       "</table>\n",
       "</div>"
      ],
      "text/plain": [
       "   perc_premium_paid_by_cash_credit  age_in_days  Income  \\\n",
       "0                           0.42900        12058  355060   \n",
       "1                           0.01000        21546  315150   \n",
       "2                           0.91700        17531   84140   \n",
       "3                           0.04900        15341  250510   \n",
       "4                           0.05200        31400  198680   \n",
       "\n",
       "   Count_3-6_months_late  Count_6-12_months_late  \\\n",
       "0                0.00000                 0.00000   \n",
       "1                0.00000                 0.00000   \n",
       "2                2.00000                 3.00000   \n",
       "3                0.00000                 0.00000   \n",
       "4                0.00000                 0.00000   \n",
       "\n",
       "   Count_more_than_12_months_late  application_underwriting_score  \\\n",
       "0                         0.00000                        99.02000   \n",
       "1                         0.00000                        99.89000   \n",
       "2                         1.00000                        98.69000   \n",
       "3                         0.00000                        99.57000   \n",
       "4                         0.00000                        99.87000   \n",
       "\n",
       "   no_of_premiums_paid sourcing_channel residence_area_type  target  \n",
       "0                   13                C               Urban       1  \n",
       "1                   21                A               Urban       1  \n",
       "2                    7                C               Rural       0  \n",
       "3                    9                A               Urban       1  \n",
       "4                   12                B               Urban       1  "
      ]
     },
     "execution_count": 707,
     "metadata": {},
     "output_type": "execute_result"
    }
   ],
   "source": [
    "df.head()"
   ]
  },
  {
   "cell_type": "code",
   "execution_count": 708,
   "id": "efficient-honolulu",
   "metadata": {},
   "outputs": [],
   "source": [
    "df.rename(columns={'perc_premium_paid_by_cash_credit':'perc_premium'},inplace=True)"
   ]
  },
  {
   "cell_type": "code",
   "execution_count": 709,
   "id": "appropriate-passenger",
   "metadata": {},
   "outputs": [],
   "source": [
    "df['age']=round(df['age_in_days']//365,2)"
   ]
  },
  {
   "cell_type": "code",
   "execution_count": 710,
   "id": "numerical-channels",
   "metadata": {},
   "outputs": [],
   "source": [
    "df.drop('age_in_days',axis=1,inplace=True)"
   ]
  },
  {
   "cell_type": "code",
   "execution_count": 711,
   "id": "brief-bathroom",
   "metadata": {},
   "outputs": [
    {
     "data": {
      "text/plain": [
       "<AxesSubplot:>"
      ]
     },
     "execution_count": 711,
     "metadata": {},
     "output_type": "execute_result"
    },
    {
     "data": {
      "image/png": "[encoded data removed]",
      "text/plain": [
       "<Figure size 864x432 with 2 Axes>"
      ]
     },
     "metadata": {
      "needs_background": "light"
     },
     "output_type": "display_data"
    }
   ],
   "source": [
    "plt.figure(figsize=(12,6))\n",
    "sns.heatmap(df.corr(),annot=True)"
   ]
  },
  {
   "cell_type": "code",
   "execution_count": 712,
   "id": "protected-hunter",
   "metadata": {},
   "outputs": [
    {
     "data": {
      "text/html": [
       "<div>\n",
       "<style scoped>\n",
       "    .dataframe tbody tr th:only-of-type {\n",
       "        vertical-align: middle;\n",
       "    }\n",
       "\n",
       "    .dataframe tbody tr th {\n",
       "        vertical-align: top;\n",
       "    }\n",
       "\n",
       "    .dataframe thead th {\n",
       "        text-align: right;\n",
       "    }\n",
       "</style>\n",
       "<table border=\"1\" class=\"dataframe\">\n",
       "  <thead>\n",
       "    <tr style=\"text-align: right;\">\n",
       "      <th></th>\n",
       "      <th>perc_premium</th>\n",
       "      <th>Income</th>\n",
       "      <th>Count_3-6_months_late</th>\n",
       "      <th>Count_6-12_months_late</th>\n",
       "      <th>Count_more_than_12_months_late</th>\n",
       "      <th>application_underwriting_score</th>\n",
       "      <th>no_of_premiums_paid</th>\n",
       "      <th>target</th>\n",
       "      <th>age</th>\n",
       "    </tr>\n",
       "  </thead>\n",
       "  <tbody>\n",
       "    <tr>\n",
       "      <th>count</th>\n",
       "      <td>79853.00000</td>\n",
       "      <td>79853.00000</td>\n",
       "      <td>79756.00000</td>\n",
       "      <td>79756.00000</td>\n",
       "      <td>79756.00000</td>\n",
       "      <td>76879.00000</td>\n",
       "      <td>79853.00000</td>\n",
       "      <td>79853.00000</td>\n",
       "      <td>79853.00000</td>\n",
       "    </tr>\n",
       "    <tr>\n",
       "      <th>mean</th>\n",
       "      <td>0.31429</td>\n",
       "      <td>208847.17118</td>\n",
       "      <td>0.24867</td>\n",
       "      <td>0.07819</td>\n",
       "      <td>0.06001</td>\n",
       "      <td>99.06729</td>\n",
       "      <td>10.86389</td>\n",
       "      <td>0.93741</td>\n",
       "      <td>51.60740</td>\n",
       "    </tr>\n",
       "    <tr>\n",
       "      <th>std</th>\n",
       "      <td>0.33491</td>\n",
       "      <td>496582.59726</td>\n",
       "      <td>0.69147</td>\n",
       "      <td>0.43651</td>\n",
       "      <td>0.31202</td>\n",
       "      <td>0.73980</td>\n",
       "      <td>5.17069</td>\n",
       "      <td>0.24223</td>\n",
       "      <td>14.27048</td>\n",
       "    </tr>\n",
       "    <tr>\n",
       "      <th>min</th>\n",
       "      <td>0.00000</td>\n",
       "      <td>24030.00000</td>\n",
       "      <td>0.00000</td>\n",
       "      <td>0.00000</td>\n",
       "      <td>0.00000</td>\n",
       "      <td>91.90000</td>\n",
       "      <td>2.00000</td>\n",
       "      <td>0.00000</td>\n",
       "      <td>21.00000</td>\n",
       "    </tr>\n",
       "    <tr>\n",
       "      <th>25%</th>\n",
       "      <td>0.03400</td>\n",
       "      <td>108010.00000</td>\n",
       "      <td>0.00000</td>\n",
       "      <td>0.00000</td>\n",
       "      <td>0.00000</td>\n",
       "      <td>98.81000</td>\n",
       "      <td>7.00000</td>\n",
       "      <td>1.00000</td>\n",
       "      <td>41.00000</td>\n",
       "    </tr>\n",
       "    <tr>\n",
       "      <th>50%</th>\n",
       "      <td>0.16700</td>\n",
       "      <td>166560.00000</td>\n",
       "      <td>0.00000</td>\n",
       "      <td>0.00000</td>\n",
       "      <td>0.00000</td>\n",
       "      <td>99.21000</td>\n",
       "      <td>10.00000</td>\n",
       "      <td>1.00000</td>\n",
       "      <td>51.00000</td>\n",
       "    </tr>\n",
       "    <tr>\n",
       "      <th>75%</th>\n",
       "      <td>0.53800</td>\n",
       "      <td>252090.00000</td>\n",
       "      <td>0.00000</td>\n",
       "      <td>0.00000</td>\n",
       "      <td>0.00000</td>\n",
       "      <td>99.54000</td>\n",
       "      <td>14.00000</td>\n",
       "      <td>1.00000</td>\n",
       "      <td>62.00000</td>\n",
       "    </tr>\n",
       "    <tr>\n",
       "      <th>max</th>\n",
       "      <td>1.00000</td>\n",
       "      <td>90262600.00000</td>\n",
       "      <td>13.00000</td>\n",
       "      <td>17.00000</td>\n",
       "      <td>11.00000</td>\n",
       "      <td>99.89000</td>\n",
       "      <td>60.00000</td>\n",
       "      <td>1.00000</td>\n",
       "      <td>103.00000</td>\n",
       "    </tr>\n",
       "  </tbody>\n",
       "</table>\n",
       "</div>"
      ],
      "text/plain": [
       "       perc_premium         Income  Count_3-6_months_late  \\\n",
       "count   79853.00000    79853.00000            79756.00000   \n",
       "mean        0.31429   208847.17118                0.24867   \n",
       "std         0.33491   496582.59726                0.69147   \n",
       "min         0.00000    24030.00000                0.00000   \n",
       "25%         0.03400   108010.00000                0.00000   \n",
       "50%         0.16700   166560.00000                0.00000   \n",
       "75%         0.53800   252090.00000                0.00000   \n",
       "max         1.00000 90262600.00000               13.00000   \n",
       "\n",
       "       Count_6-12_months_late  Count_more_than_12_months_late  \\\n",
       "count             79756.00000                     79756.00000   \n",
       "mean                  0.07819                         0.06001   \n",
       "std                   0.43651                         0.31202   \n",
       "min                   0.00000                         0.00000   \n",
       "25%                   0.00000                         0.00000   \n",
       "50%                   0.00000                         0.00000   \n",
       "75%                   0.00000                         0.00000   \n",
       "max                  17.00000                        11.00000   \n",
       "\n",
       "       application_underwriting_score  no_of_premiums_paid      target  \\\n",
       "count                     76879.00000          79853.00000 79853.00000   \n",
       "mean                         99.06729             10.86389     0.93741   \n",
       "std                           0.73980              5.17069     0.24223   \n",
       "min                          91.90000              2.00000     0.00000   \n",
       "25%                          98.81000              7.00000     1.00000   \n",
       "50%                          99.21000             10.00000     1.00000   \n",
       "75%                          99.54000             14.00000     1.00000   \n",
       "max                          99.89000             60.00000     1.00000   \n",
       "\n",
       "              age  \n",
       "count 79853.00000  \n",
       "mean     51.60740  \n",
       "std      14.27048  \n",
       "min      21.00000  \n",
       "25%      41.00000  \n",
       "50%      51.00000  \n",
       "75%      62.00000  \n",
       "max     103.00000  "
      ]
     },
     "execution_count": 712,
     "metadata": {},
     "output_type": "execute_result"
    }
   ],
   "source": [
    "df.describe()"
   ]
  },
  {
   "cell_type": "code",
   "execution_count": 713,
   "id": "unlikely-leather",
   "metadata": {},
   "outputs": [
    {
     "data": {
      "text/plain": [
       "(array([ 4361.,  9953., 13973., 16612., 14700., 12073.,  5266.,  2265.,\n",
       "          619.,    31.]),\n",
       " array([ 21. ,  29.2,  37.4,  45.6,  53.8,  62. ,  70.2,  78.4,  86.6,\n",
       "         94.8, 103. ]),\n",
       " <BarContainer object of 10 artists>)"
      ]
     },
     "execution_count": 713,
     "metadata": {},
     "output_type": "execute_result"
    },
    {
     "data": {
      "image/png": "[encoded data removed]",
      "text/plain": [
       "<Figure size 432x288 with 1 Axes>"
      ]
     },
     "metadata": {
      "needs_background": "light"
     },
     "output_type": "display_data"
    }
   ],
   "source": [
    "plt.hist(x='age',data=df)"
   ]
  },
  {
   "cell_type": "code",
   "execution_count": 714,
   "id": "vital-favorite",
   "metadata": {},
   "outputs": [
    {
     "data": {
      "text/plain": [
       "<AxesSubplot:ylabel='age'>"
      ]
     },
     "execution_count": 714,
     "metadata": {},
     "output_type": "execute_result"
    },
    {
     "data": {
      "image/png": "[encoded data removed]",
      "text/plain": [
       "<Figure size 432x288 with 1 Axes>"
      ]
     },
     "metadata": {
      "needs_background": "light"
     },
     "output_type": "display_data"
    }
   ],
   "source": [
    "sns.boxplot(y=df.age,)"
   ]
  },
  {
   "cell_type": "code",
   "execution_count": 715,
   "id": "federal-instruction",
   "metadata": {},
   "outputs": [
    {
     "data": {
      "text/plain": [
       "count   79853.00000\n",
       "mean       51.60740\n",
       "std        14.27048\n",
       "min        21.00000\n",
       "50%        51.00000\n",
       "70%        59.00000\n",
       "80%        64.00000\n",
       "99%        86.00000\n",
       "max       103.00000\n",
       "Name: age, dtype: float64"
      ]
     },
     "execution_count": 715,
     "metadata": {},
     "output_type": "execute_result"
    }
   ],
   "source": [
    "df['age'].describe(percentiles=[.99,.8,.7])"
   ]
  },
  {
   "cell_type": "code",
   "execution_count": 716,
   "id": "alert-estimate",
   "metadata": {},
   "outputs": [
    {
     "name": "stdout",
     "output_type": "stream",
     "text": [
      "0.10000   33.00000\n",
      "0.99700   90.00000\n",
      "Name: age, dtype: float64\n"
     ]
    }
   ],
   "source": [
    "upper_bound = 0.997\n",
    "lower_bound = 0.1\n",
    "res = df['age'].quantile([lower_bound, upper_bound])\n",
    "print(res)"
   ]
  },
  {
   "cell_type": "code",
   "execution_count": 717,
   "id": "floating-boxing",
   "metadata": {},
   "outputs": [
    {
     "data": {
      "text/plain": [
       "0        True\n",
       "1        True\n",
       "2        True\n",
       "3        True\n",
       "4        True\n",
       "         ... \n",
       "79848    True\n",
       "79849    True\n",
       "79850    True\n",
       "79851    True\n",
       "79852    True\n",
       "Name: age, Length: 79853, dtype: bool"
      ]
     },
     "execution_count": 717,
     "metadata": {},
     "output_type": "execute_result"
    }
   ],
   "source": [
    "true_index = (df['age'] < res.loc[upper_bound])\n",
    "true_index"
   ]
  },
  {
   "cell_type": "code",
   "execution_count": 718,
   "id": "ruled-realtor",
   "metadata": {},
   "outputs": [],
   "source": [
    "false_index = ~true_index"
   ]
  },
  {
   "cell_type": "code",
   "execution_count": 719,
   "id": "vietnamese-underwear",
   "metadata": {},
   "outputs": [],
   "source": [
    "df.loc[false_index, 'age'] = 90"
   ]
  },
  {
   "cell_type": "code",
   "execution_count": 720,
   "id": "occupied-terrain",
   "metadata": {},
   "outputs": [
    {
     "data": {
      "text/plain": [
       "count   79853.00000\n",
       "mean       51.60104\n",
       "std        14.25227\n",
       "min        21.00000\n",
       "50%        51.00000\n",
       "70%        59.00000\n",
       "80%        64.00000\n",
       "99%        86.00000\n",
       "max        90.00000\n",
       "Name: age, dtype: float64"
      ]
     },
     "execution_count": 720,
     "metadata": {},
     "output_type": "execute_result"
    }
   ],
   "source": [
    "df['age'].describe(percentiles=[.99,.8,.7])"
   ]
  },
  {
   "cell_type": "code",
   "execution_count": 721,
   "id": "infinite-powell",
   "metadata": {},
   "outputs": [
    {
     "data": {
      "text/plain": [
       "<AxesSubplot:ylabel='age'>"
      ]
     },
     "execution_count": 721,
     "metadata": {},
     "output_type": "execute_result"
    },
    {
     "data": {
      "image/png": "[encoded data removed]",
      "text/plain": [
       "<Figure size 432x288 with 1 Axes>"
      ]
     },
     "metadata": {
      "needs_background": "light"
     },
     "output_type": "display_data"
    }
   ],
   "source": [
    "sns.boxplot(y=df.age,)"
   ]
  },
  {
   "cell_type": "markdown",
   "id": "front-twelve",
   "metadata": {},
   "source": [
    "No Outlier in Age"
   ]
  },
  {
   "cell_type": "code",
   "execution_count": 722,
   "id": "assumed-pipeline",
   "metadata": {},
   "outputs": [],
   "source": [
    "pd.set_option('display.float_format', lambda x: '%.5f' % x)"
   ]
  },
  {
   "cell_type": "code",
   "execution_count": 723,
   "id": "ready-hamilton",
   "metadata": {},
   "outputs": [
    {
     "data": {
      "text/plain": [
       "count      79853.00000\n",
       "mean      208847.17118\n",
       "std       496582.59726\n",
       "min        24030.00000\n",
       "50%       166560.00000\n",
       "70%       231150.00000\n",
       "80%       279030.00000\n",
       "99.7%    1500110.00000\n",
       "max     90262600.00000\n",
       "Name: Income, dtype: float64"
      ]
     },
     "execution_count": 723,
     "metadata": {},
     "output_type": "execute_result"
    }
   ],
   "source": [
    "df['Income'].describe(percentiles=[.997,.8,.7])"
   ]
  },
  {
   "cell_type": "code",
   "execution_count": 724,
   "id": "lyric-steam",
   "metadata": {},
   "outputs": [
    {
     "name": "stdout",
     "output_type": "stream",
     "text": [
      "0.10000     71200.00000\n",
      "0.99700   1500110.00000\n",
      "Name: Income, dtype: float64\n"
     ]
    }
   ],
   "source": [
    "upper_bound = 0.997\n",
    "lower_bound = 0.1\n",
    "res = df['Income'].quantile([lower_bound, upper_bound])\n",
    "print(res)"
   ]
  },
  {
   "cell_type": "code",
   "execution_count": 725,
   "id": "reported-military",
   "metadata": {},
   "outputs": [
    {
     "data": {
      "text/plain": [
       "0        True\n",
       "1        True\n",
       "2        True\n",
       "3        True\n",
       "4        True\n",
       "         ... \n",
       "79848    True\n",
       "79849    True\n",
       "79850    True\n",
       "79851    True\n",
       "79852    True\n",
       "Name: Income, Length: 79853, dtype: bool"
      ]
     },
     "execution_count": 725,
     "metadata": {},
     "output_type": "execute_result"
    }
   ],
   "source": [
    "true_index = (df['Income'] < res.loc[upper_bound])\n",
    "true_index"
   ]
  },
  {
   "cell_type": "code",
   "execution_count": 726,
   "id": "functional-lounge",
   "metadata": {},
   "outputs": [],
   "source": [
    "false_index = ~true_index"
   ]
  },
  {
   "cell_type": "code",
   "execution_count": 727,
   "id": "aboriginal-makeup",
   "metadata": {},
   "outputs": [],
   "source": [
    "df.loc[false_index, 'Income'] = 1500000.00000"
   ]
  },
  {
   "cell_type": "code",
   "execution_count": 728,
   "id": "interior-pavilion",
   "metadata": {},
   "outputs": [
    {
     "data": {
      "text/plain": [
       "count     79853.00000\n",
       "mean     201812.26566\n",
       "std      154072.56222\n",
       "min       24030.00000\n",
       "50%      166560.00000\n",
       "70%      231150.00000\n",
       "80%      279030.00000\n",
       "99.7%   1500000.00000\n",
       "max     1500080.00000\n",
       "Name: Income, dtype: float64"
      ]
     },
     "execution_count": 728,
     "metadata": {},
     "output_type": "execute_result"
    }
   ],
   "source": [
    "df['Income'].describe(percentiles=[.997,.8,.7])"
   ]
  },
  {
   "cell_type": "markdown",
   "id": "virtual-valuable",
   "metadata": {},
   "source": [
    "No Outlier in Income"
   ]
  },
  {
   "cell_type": "code",
   "execution_count": 729,
   "id": "departmental-climb",
   "metadata": {},
   "outputs": [
    {
     "data": {
      "text/html": [
       "<div>\n",
       "<style scoped>\n",
       "    .dataframe tbody tr th:only-of-type {\n",
       "        vertical-align: middle;\n",
       "    }\n",
       "\n",
       "    .dataframe tbody tr th {\n",
       "        vertical-align: top;\n",
       "    }\n",
       "\n",
       "    .dataframe thead th {\n",
       "        text-align: right;\n",
       "    }\n",
       "</style>\n",
       "<table border=\"1\" class=\"dataframe\">\n",
       "  <thead>\n",
       "    <tr style=\"text-align: right;\">\n",
       "      <th></th>\n",
       "      <th>perc_premium</th>\n",
       "      <th>Income</th>\n",
       "      <th>Count_3-6_months_late</th>\n",
       "      <th>Count_6-12_months_late</th>\n",
       "      <th>Count_more_than_12_months_late</th>\n",
       "      <th>application_underwriting_score</th>\n",
       "      <th>no_of_premiums_paid</th>\n",
       "      <th>sourcing_channel</th>\n",
       "      <th>residence_area_type</th>\n",
       "      <th>target</th>\n",
       "      <th>age</th>\n",
       "    </tr>\n",
       "  </thead>\n",
       "  <tbody>\n",
       "    <tr>\n",
       "      <th>0</th>\n",
       "      <td>0.42900</td>\n",
       "      <td>355060</td>\n",
       "      <td>0.00000</td>\n",
       "      <td>0.00000</td>\n",
       "      <td>0.00000</td>\n",
       "      <td>99.02000</td>\n",
       "      <td>13</td>\n",
       "      <td>C</td>\n",
       "      <td>Urban</td>\n",
       "      <td>1</td>\n",
       "      <td>33</td>\n",
       "    </tr>\n",
       "    <tr>\n",
       "      <th>1</th>\n",
       "      <td>0.01000</td>\n",
       "      <td>315150</td>\n",
       "      <td>0.00000</td>\n",
       "      <td>0.00000</td>\n",
       "      <td>0.00000</td>\n",
       "      <td>99.89000</td>\n",
       "      <td>21</td>\n",
       "      <td>A</td>\n",
       "      <td>Urban</td>\n",
       "      <td>1</td>\n",
       "      <td>59</td>\n",
       "    </tr>\n",
       "    <tr>\n",
       "      <th>2</th>\n",
       "      <td>0.91700</td>\n",
       "      <td>84140</td>\n",
       "      <td>2.00000</td>\n",
       "      <td>3.00000</td>\n",
       "      <td>1.00000</td>\n",
       "      <td>98.69000</td>\n",
       "      <td>7</td>\n",
       "      <td>C</td>\n",
       "      <td>Rural</td>\n",
       "      <td>0</td>\n",
       "      <td>48</td>\n",
       "    </tr>\n",
       "    <tr>\n",
       "      <th>3</th>\n",
       "      <td>0.04900</td>\n",
       "      <td>250510</td>\n",
       "      <td>0.00000</td>\n",
       "      <td>0.00000</td>\n",
       "      <td>0.00000</td>\n",
       "      <td>99.57000</td>\n",
       "      <td>9</td>\n",
       "      <td>A</td>\n",
       "      <td>Urban</td>\n",
       "      <td>1</td>\n",
       "      <td>42</td>\n",
       "    </tr>\n",
       "    <tr>\n",
       "      <th>4</th>\n",
       "      <td>0.05200</td>\n",
       "      <td>198680</td>\n",
       "      <td>0.00000</td>\n",
       "      <td>0.00000</td>\n",
       "      <td>0.00000</td>\n",
       "      <td>99.87000</td>\n",
       "      <td>12</td>\n",
       "      <td>B</td>\n",
       "      <td>Urban</td>\n",
       "      <td>1</td>\n",
       "      <td>86</td>\n",
       "    </tr>\n",
       "  </tbody>\n",
       "</table>\n",
       "</div>"
      ],
      "text/plain": [
       "   perc_premium  Income  Count_3-6_months_late  Count_6-12_months_late  \\\n",
       "0       0.42900  355060                0.00000                 0.00000   \n",
       "1       0.01000  315150                0.00000                 0.00000   \n",
       "2       0.91700   84140                2.00000                 3.00000   \n",
       "3       0.04900  250510                0.00000                 0.00000   \n",
       "4       0.05200  198680                0.00000                 0.00000   \n",
       "\n",
       "   Count_more_than_12_months_late  application_underwriting_score  \\\n",
       "0                         0.00000                        99.02000   \n",
       "1                         0.00000                        99.89000   \n",
       "2                         1.00000                        98.69000   \n",
       "3                         0.00000                        99.57000   \n",
       "4                         0.00000                        99.87000   \n",
       "\n",
       "   no_of_premiums_paid sourcing_channel residence_area_type  target  age  \n",
       "0                   13                C               Urban       1   33  \n",
       "1                   21                A               Urban       1   59  \n",
       "2                    7                C               Rural       0   48  \n",
       "3                    9                A               Urban       1   42  \n",
       "4                   12                B               Urban       1   86  "
      ]
     },
     "execution_count": 729,
     "metadata": {},
     "output_type": "execute_result"
    }
   ],
   "source": [
    "df.head()"
   ]
  },
  {
   "cell_type": "code",
   "execution_count": 730,
   "id": "functioning-kitchen",
   "metadata": {},
   "outputs": [
    {
     "data": {
      "text/html": [
       "<div>\n",
       "<style scoped>\n",
       "    .dataframe tbody tr th:only-of-type {\n",
       "        vertical-align: middle;\n",
       "    }\n",
       "\n",
       "    .dataframe tbody tr th {\n",
       "        vertical-align: top;\n",
       "    }\n",
       "\n",
       "    .dataframe thead th {\n",
       "        text-align: right;\n",
       "    }\n",
       "</style>\n",
       "<table border=\"1\" class=\"dataframe\">\n",
       "  <thead>\n",
       "    <tr style=\"text-align: right;\">\n",
       "      <th></th>\n",
       "      <th>age</th>\n",
       "      <th>target</th>\n",
       "    </tr>\n",
       "  </thead>\n",
       "  <tbody>\n",
       "    <tr>\n",
       "      <th>0</th>\n",
       "      <td>1</td>\n",
       "      <td>5458</td>\n",
       "    </tr>\n",
       "    <tr>\n",
       "      <th>1</th>\n",
       "      <td>2</td>\n",
       "      <td>33396</td>\n",
       "    </tr>\n",
       "    <tr>\n",
       "      <th>2</th>\n",
       "      <td>3</td>\n",
       "      <td>36518</td>\n",
       "    </tr>\n",
       "    <tr>\n",
       "      <th>3</th>\n",
       "      <td>4</td>\n",
       "      <td>4481</td>\n",
       "    </tr>\n",
       "  </tbody>\n",
       "</table>\n",
       "</div>"
      ],
      "text/plain": [
       "  age  target\n",
       "0   1    5458\n",
       "1   2   33396\n",
       "2   3   36518\n",
       "3   4    4481"
      ]
     },
     "execution_count": 730,
     "metadata": {},
     "output_type": "execute_result"
    }
   ],
   "source": [
    "df['age'] = pd.cut(df['age'],bins= [0,30,50,75,90],labels=[1,2,3,4])\n",
    "df[['age', 'target']].groupby('age', as_index = False).count()"
   ]
  },
  {
   "cell_type": "code",
   "execution_count": 731,
   "id": "material-toronto",
   "metadata": {},
   "outputs": [
    {
     "data": {
      "text/html": [
       "<div>\n",
       "<style scoped>\n",
       "    .dataframe tbody tr th:only-of-type {\n",
       "        vertical-align: middle;\n",
       "    }\n",
       "\n",
       "    .dataframe tbody tr th {\n",
       "        vertical-align: top;\n",
       "    }\n",
       "\n",
       "    .dataframe thead th {\n",
       "        text-align: right;\n",
       "    }\n",
       "</style>\n",
       "<table border=\"1\" class=\"dataframe\">\n",
       "  <thead>\n",
       "    <tr style=\"text-align: right;\">\n",
       "      <th></th>\n",
       "      <th>perc_premium</th>\n",
       "      <th>Income</th>\n",
       "      <th>Count_3-6_months_late</th>\n",
       "      <th>Count_6-12_months_late</th>\n",
       "      <th>Count_more_than_12_months_late</th>\n",
       "      <th>application_underwriting_score</th>\n",
       "      <th>no_of_premiums_paid</th>\n",
       "      <th>sourcing_channel</th>\n",
       "      <th>residence_area_type</th>\n",
       "      <th>target</th>\n",
       "      <th>age</th>\n",
       "    </tr>\n",
       "  </thead>\n",
       "  <tbody>\n",
       "    <tr>\n",
       "      <th>0</th>\n",
       "      <td>0.42900</td>\n",
       "      <td>355060</td>\n",
       "      <td>0.00000</td>\n",
       "      <td>0.00000</td>\n",
       "      <td>0.00000</td>\n",
       "      <td>99.02000</td>\n",
       "      <td>13</td>\n",
       "      <td>C</td>\n",
       "      <td>Urban</td>\n",
       "      <td>1</td>\n",
       "      <td>2</td>\n",
       "    </tr>\n",
       "    <tr>\n",
       "      <th>1</th>\n",
       "      <td>0.01000</td>\n",
       "      <td>315150</td>\n",
       "      <td>0.00000</td>\n",
       "      <td>0.00000</td>\n",
       "      <td>0.00000</td>\n",
       "      <td>99.89000</td>\n",
       "      <td>21</td>\n",
       "      <td>A</td>\n",
       "      <td>Urban</td>\n",
       "      <td>1</td>\n",
       "      <td>3</td>\n",
       "    </tr>\n",
       "    <tr>\n",
       "      <th>2</th>\n",
       "      <td>0.91700</td>\n",
       "      <td>84140</td>\n",
       "      <td>2.00000</td>\n",
       "      <td>3.00000</td>\n",
       "      <td>1.00000</td>\n",
       "      <td>98.69000</td>\n",
       "      <td>7</td>\n",
       "      <td>C</td>\n",
       "      <td>Rural</td>\n",
       "      <td>0</td>\n",
       "      <td>2</td>\n",
       "    </tr>\n",
       "    <tr>\n",
       "      <th>3</th>\n",
       "      <td>0.04900</td>\n",
       "      <td>250510</td>\n",
       "      <td>0.00000</td>\n",
       "      <td>0.00000</td>\n",
       "      <td>0.00000</td>\n",
       "      <td>99.57000</td>\n",
       "      <td>9</td>\n",
       "      <td>A</td>\n",
       "      <td>Urban</td>\n",
       "      <td>1</td>\n",
       "      <td>2</td>\n",
       "    </tr>\n",
       "    <tr>\n",
       "      <th>4</th>\n",
       "      <td>0.05200</td>\n",
       "      <td>198680</td>\n",
       "      <td>0.00000</td>\n",
       "      <td>0.00000</td>\n",
       "      <td>0.00000</td>\n",
       "      <td>99.87000</td>\n",
       "      <td>12</td>\n",
       "      <td>B</td>\n",
       "      <td>Urban</td>\n",
       "      <td>1</td>\n",
       "      <td>4</td>\n",
       "    </tr>\n",
       "  </tbody>\n",
       "</table>\n",
       "</div>"
      ],
      "text/plain": [
       "   perc_premium  Income  Count_3-6_months_late  Count_6-12_months_late  \\\n",
       "0       0.42900  355060                0.00000                 0.00000   \n",
       "1       0.01000  315150                0.00000                 0.00000   \n",
       "2       0.91700   84140                2.00000                 3.00000   \n",
       "3       0.04900  250510                0.00000                 0.00000   \n",
       "4       0.05200  198680                0.00000                 0.00000   \n",
       "\n",
       "   Count_more_than_12_months_late  application_underwriting_score  \\\n",
       "0                         0.00000                        99.02000   \n",
       "1                         0.00000                        99.89000   \n",
       "2                         1.00000                        98.69000   \n",
       "3                         0.00000                        99.57000   \n",
       "4                         0.00000                        99.87000   \n",
       "\n",
       "   no_of_premiums_paid sourcing_channel residence_area_type  target age  \n",
       "0                   13                C               Urban       1   2  \n",
       "1                   21                A               Urban       1   3  \n",
       "2                    7                C               Rural       0   2  \n",
       "3                    9                A               Urban       1   2  \n",
       "4                   12                B               Urban       1   4  "
      ]
     },
     "execution_count": 731,
     "metadata": {},
     "output_type": "execute_result"
    }
   ],
   "source": [
    "df.head()"
   ]
  },
  {
   "cell_type": "code",
   "execution_count": 732,
   "id": "strong-pierre",
   "metadata": {},
   "outputs": [
    {
     "data": {
      "text/plain": [
       "<AxesSubplot:xlabel='age', ylabel='count'>"
      ]
     },
     "execution_count": 732,
     "metadata": {},
     "output_type": "execute_result"
    },
    {
     "data": {
      "image/png": "[encoded data removed]",
      "text/plain": [
       "<Figure size 432x288 with 1 Axes>"
      ]
     },
     "metadata": {
      "needs_background": "light"
     },
     "output_type": "display_data"
    }
   ],
   "source": [
    "sns.countplot(x = 'age', data = df, hue = 'target')"
   ]
  },
  {
   "cell_type": "code",
   "execution_count": 733,
   "id": "declared-database",
   "metadata": {},
   "outputs": [
    {
     "data": {
      "text/plain": [
       "target  age\n",
       "1       3      34825\n",
       "        2      30773\n",
       "        1       4878\n",
       "        4       4379\n",
       "0       2       2623\n",
       "        3       1693\n",
       "        1        580\n",
       "        4        102\n",
       "dtype: int64"
      ]
     },
     "execution_count": 733,
     "metadata": {},
     "output_type": "execute_result"
    }
   ],
   "source": [
    "df.value_counts(subset=['target','age'])"
   ]
  },
  {
   "cell_type": "code",
   "execution_count": 734,
   "id": "specified-ancient",
   "metadata": {},
   "outputs": [
    {
     "data": {
      "text/plain": [
       "count     79853.00000\n",
       "mean     201812.26566\n",
       "std      154072.56222\n",
       "min       24030.00000\n",
       "25%      108010.00000\n",
       "50%      166560.00000\n",
       "75%      252090.00000\n",
       "max     1500080.00000\n",
       "Name: Income, dtype: float64"
      ]
     },
     "execution_count": 734,
     "metadata": {},
     "output_type": "execute_result"
    }
   ],
   "source": [
    "df['Income'].describe()#percentiles=[.997,.8,.7])"
   ]
  },
  {
   "cell_type": "code",
   "execution_count": 735,
   "id": "apparent-quality",
   "metadata": {},
   "outputs": [
    {
     "data": {
      "text/html": [
       "<div>\n",
       "<style scoped>\n",
       "    .dataframe tbody tr th:only-of-type {\n",
       "        vertical-align: middle;\n",
       "    }\n",
       "\n",
       "    .dataframe tbody tr th {\n",
       "        vertical-align: top;\n",
       "    }\n",
       "\n",
       "    .dataframe thead th {\n",
       "        text-align: right;\n",
       "    }\n",
       "</style>\n",
       "<table border=\"1\" class=\"dataframe\">\n",
       "  <thead>\n",
       "    <tr style=\"text-align: right;\">\n",
       "      <th></th>\n",
       "      <th>Income</th>\n",
       "      <th>target</th>\n",
       "    </tr>\n",
       "  </thead>\n",
       "  <tbody>\n",
       "    <tr>\n",
       "      <th>0</th>\n",
       "      <td>1</td>\n",
       "      <td>19964</td>\n",
       "    </tr>\n",
       "    <tr>\n",
       "      <th>1</th>\n",
       "      <td>2</td>\n",
       "      <td>19966</td>\n",
       "    </tr>\n",
       "    <tr>\n",
       "      <th>2</th>\n",
       "      <td>3</td>\n",
       "      <td>19971</td>\n",
       "    </tr>\n",
       "    <tr>\n",
       "      <th>3</th>\n",
       "      <td>4</td>\n",
       "      <td>19952</td>\n",
       "    </tr>\n",
       "  </tbody>\n",
       "</table>\n",
       "</div>"
      ],
      "text/plain": [
       "  Income  target\n",
       "0      1   19964\n",
       "1      2   19966\n",
       "2      3   19971\n",
       "3      4   19952"
      ]
     },
     "execution_count": 735,
     "metadata": {},
     "output_type": "execute_result"
    }
   ],
   "source": [
    "df['Income'] = pd.qcut(df['Income'], 4,labels=[1,2,3,4,])\n",
    "df[['Income', 'target']].groupby('Income', as_index = False).count()"
   ]
  },
  {
   "cell_type": "code",
   "execution_count": 736,
   "id": "ranking-russell",
   "metadata": {},
   "outputs": [
    {
     "data": {
      "text/html": [
       "<div>\n",
       "<style scoped>\n",
       "    .dataframe tbody tr th:only-of-type {\n",
       "        vertical-align: middle;\n",
       "    }\n",
       "\n",
       "    .dataframe tbody tr th {\n",
       "        vertical-align: top;\n",
       "    }\n",
       "\n",
       "    .dataframe thead th {\n",
       "        text-align: right;\n",
       "    }\n",
       "</style>\n",
       "<table border=\"1\" class=\"dataframe\">\n",
       "  <thead>\n",
       "    <tr style=\"text-align: right;\">\n",
       "      <th></th>\n",
       "      <th>perc_premium</th>\n",
       "      <th>Income</th>\n",
       "      <th>Count_3-6_months_late</th>\n",
       "      <th>Count_6-12_months_late</th>\n",
       "      <th>Count_more_than_12_months_late</th>\n",
       "      <th>application_underwriting_score</th>\n",
       "      <th>no_of_premiums_paid</th>\n",
       "      <th>sourcing_channel</th>\n",
       "      <th>residence_area_type</th>\n",
       "      <th>target</th>\n",
       "      <th>age</th>\n",
       "    </tr>\n",
       "  </thead>\n",
       "  <tbody>\n",
       "    <tr>\n",
       "      <th>0</th>\n",
       "      <td>0.42900</td>\n",
       "      <td>4</td>\n",
       "      <td>0.00000</td>\n",
       "      <td>0.00000</td>\n",
       "      <td>0.00000</td>\n",
       "      <td>99.02000</td>\n",
       "      <td>13</td>\n",
       "      <td>C</td>\n",
       "      <td>Urban</td>\n",
       "      <td>1</td>\n",
       "      <td>2</td>\n",
       "    </tr>\n",
       "    <tr>\n",
       "      <th>1</th>\n",
       "      <td>0.01000</td>\n",
       "      <td>4</td>\n",
       "      <td>0.00000</td>\n",
       "      <td>0.00000</td>\n",
       "      <td>0.00000</td>\n",
       "      <td>99.89000</td>\n",
       "      <td>21</td>\n",
       "      <td>A</td>\n",
       "      <td>Urban</td>\n",
       "      <td>1</td>\n",
       "      <td>3</td>\n",
       "    </tr>\n",
       "    <tr>\n",
       "      <th>2</th>\n",
       "      <td>0.91700</td>\n",
       "      <td>1</td>\n",
       "      <td>2.00000</td>\n",
       "      <td>3.00000</td>\n",
       "      <td>1.00000</td>\n",
       "      <td>98.69000</td>\n",
       "      <td>7</td>\n",
       "      <td>C</td>\n",
       "      <td>Rural</td>\n",
       "      <td>0</td>\n",
       "      <td>2</td>\n",
       "    </tr>\n",
       "    <tr>\n",
       "      <th>3</th>\n",
       "      <td>0.04900</td>\n",
       "      <td>3</td>\n",
       "      <td>0.00000</td>\n",
       "      <td>0.00000</td>\n",
       "      <td>0.00000</td>\n",
       "      <td>99.57000</td>\n",
       "      <td>9</td>\n",
       "      <td>A</td>\n",
       "      <td>Urban</td>\n",
       "      <td>1</td>\n",
       "      <td>2</td>\n",
       "    </tr>\n",
       "    <tr>\n",
       "      <th>4</th>\n",
       "      <td>0.05200</td>\n",
       "      <td>3</td>\n",
       "      <td>0.00000</td>\n",
       "      <td>0.00000</td>\n",
       "      <td>0.00000</td>\n",
       "      <td>99.87000</td>\n",
       "      <td>12</td>\n",
       "      <td>B</td>\n",
       "      <td>Urban</td>\n",
       "      <td>1</td>\n",
       "      <td>4</td>\n",
       "    </tr>\n",
       "  </tbody>\n",
       "</table>\n",
       "</div>"
      ],
      "text/plain": [
       "   perc_premium Income  Count_3-6_months_late  Count_6-12_months_late  \\\n",
       "0       0.42900      4                0.00000                 0.00000   \n",
       "1       0.01000      4                0.00000                 0.00000   \n",
       "2       0.91700      1                2.00000                 3.00000   \n",
       "3       0.04900      3                0.00000                 0.00000   \n",
       "4       0.05200      3                0.00000                 0.00000   \n",
       "\n",
       "   Count_more_than_12_months_late  application_underwriting_score  \\\n",
       "0                         0.00000                        99.02000   \n",
       "1                         0.00000                        99.89000   \n",
       "2                         1.00000                        98.69000   \n",
       "3                         0.00000                        99.57000   \n",
       "4                         0.00000                        99.87000   \n",
       "\n",
       "   no_of_premiums_paid sourcing_channel residence_area_type  target age  \n",
       "0                   13                C               Urban       1   2  \n",
       "1                   21                A               Urban       1   3  \n",
       "2                    7                C               Rural       0   2  \n",
       "3                    9                A               Urban       1   2  \n",
       "4                   12                B               Urban       1   4  "
      ]
     },
     "execution_count": 736,
     "metadata": {},
     "output_type": "execute_result"
    }
   ],
   "source": [
    "df.head()"
   ]
  },
  {
   "cell_type": "code",
   "execution_count": null,
   "id": "tamil-banana",
   "metadata": {},
   "outputs": [],
   "source": []
  },
  {
   "cell_type": "code",
   "execution_count": null,
   "id": "alive-bumper",
   "metadata": {},
   "outputs": [],
   "source": []
  },
  {
   "cell_type": "code",
   "execution_count": 737,
   "id": "polar-cleanup",
   "metadata": {},
   "outputs": [],
   "source": [
    "def impute_nan(df,variable,median):\n",
    "    df[variable+\"_median\"]=df[variable].fillna(median)\n",
    "    df[variable+\"_random\"]=df[variable]\n",
    "    ##It will have the random sample to fill the na\n",
    "    random_sample=df[variable].dropna().sample(df[variable].isnull().sum(),random_state=0)\n",
    "    ##pandas need to have same index in order to merge the dataset\n",
    "    random_sample.index=df[df[variable].isnull()].index\n",
    "    df.loc[df[variable].isnull(),variable+'_random']=random_sample"
   ]
  },
  {
   "cell_type": "code",
   "execution_count": 738,
   "id": "authorized-dallas",
   "metadata": {},
   "outputs": [],
   "source": [
    "median=df.application_underwriting_score.median()"
   ]
  },
  {
   "cell_type": "code",
   "execution_count": 739,
   "id": "persistent-content",
   "metadata": {},
   "outputs": [],
   "source": [
    "impute_nan(df,\"application_underwriting_score\",median)"
   ]
  },
  {
   "cell_type": "code",
   "execution_count": 740,
   "id": "female-holmes",
   "metadata": {},
   "outputs": [
    {
     "data": {
      "text/plain": [
       "perc_premium                                0\n",
       "Income                                      0\n",
       "Count_3-6_months_late                      97\n",
       "Count_6-12_months_late                     97\n",
       "Count_more_than_12_months_late             97\n",
       "application_underwriting_score           2974\n",
       "no_of_premiums_paid                         0\n",
       "sourcing_channel                            0\n",
       "residence_area_type                         0\n",
       "target                                      0\n",
       "age                                         0\n",
       "application_underwriting_score_median       0\n",
       "application_underwriting_score_random       0\n",
       "dtype: int64"
      ]
     },
     "execution_count": 740,
     "metadata": {},
     "output_type": "execute_result"
    }
   ],
   "source": [
    "df.isnull().sum()"
   ]
  },
  {
   "cell_type": "code",
   "execution_count": 741,
   "id": "ongoing-worse",
   "metadata": {},
   "outputs": [],
   "source": [
    "df.drop(['application_underwriting_score', 'application_underwriting_score_median'], axis = 1, inplace = True)"
   ]
  },
  {
   "cell_type": "code",
   "execution_count": 742,
   "id": "dressed-compact",
   "metadata": {},
   "outputs": [],
   "source": [
    "for data in [df]:\n",
    "    data.loc[(data['Count_3-6_months_late'].isnull()),  'late_premium'] = np.NaN\n",
    "    data.loc[(data['Count_3-6_months_late'].notnull()), 'late_premium'] = data['Count_3-6_months_late'] + data['Count_6-12_months_late'] + data['Count_more_than_12_months_late']\n",
    "        "
   ]
  },
  {
   "cell_type": "code",
   "execution_count": 743,
   "id": "norwegian-municipality",
   "metadata": {},
   "outputs": [],
   "source": [
    "df.loc[(df['target'] == 0) & (df['late_premium'].isnull()),'late_premium'] = 7\n",
    "df.loc[(df['target'] == 1) & (df['late_premium'].isnull()),'late_premium'] = 2"
   ]
  },
  {
   "cell_type": "code",
   "execution_count": 744,
   "id": "following-letters",
   "metadata": {},
   "outputs": [],
   "source": [
    "df.drop(['Count_3-6_months_late', 'Count_6-12_months_late', 'Count_more_than_12_months_late'], axis = 1, inplace = True)"
   ]
  },
  {
   "cell_type": "code",
   "execution_count": 745,
   "id": "placed-legislature",
   "metadata": {},
   "outputs": [
    {
     "data": {
      "text/plain": [
       "perc_premium                             0\n",
       "Income                                   0\n",
       "no_of_premiums_paid                      0\n",
       "sourcing_channel                         0\n",
       "residence_area_type                      0\n",
       "target                                   0\n",
       "age                                      0\n",
       "application_underwriting_score_random    0\n",
       "late_premium                             0\n",
       "dtype: int64"
      ]
     },
     "execution_count": 745,
     "metadata": {},
     "output_type": "execute_result"
    }
   ],
   "source": [
    "df.isnull().sum()"
   ]
  },
  {
   "cell_type": "code",
   "execution_count": 746,
   "id": "ongoing-carpet",
   "metadata": {},
   "outputs": [],
   "source": [
    "df=pd.get_dummies(df,drop_first=True)"
   ]
  },
  {
   "cell_type": "code",
   "execution_count": 747,
   "id": "supported-length",
   "metadata": {},
   "outputs": [],
   "source": [
    "df.rename(columns={'application_underwriting_score_random':'application_underwriting_score'},inplace=True)"
   ]
  },
  {
   "cell_type": "code",
   "execution_count": 748,
   "id": "developmental-nepal",
   "metadata": {},
   "outputs": [
    {
     "data": {
      "text/plain": [
       "Index(['perc_premium', 'no_of_premiums_paid', 'target',\n",
       "       'application_underwriting_score', 'late_premium', 'Income_2',\n",
       "       'Income_3', 'Income_4', 'sourcing_channel_B', 'sourcing_channel_C',\n",
       "       'sourcing_channel_D', 'sourcing_channel_E', 'residence_area_type_Urban',\n",
       "       'age_2', 'age_3', 'age_4'],\n",
       "      dtype='object')"
      ]
     },
     "execution_count": 748,
     "metadata": {},
     "output_type": "execute_result"
    }
   ],
   "source": [
    "df.columns"
   ]
  },
  {
   "cell_type": "code",
   "execution_count": 749,
   "id": "distinguished-typing",
   "metadata": {},
   "outputs": [],
   "source": [
    "x=df.drop('target',axis=1)"
   ]
  },
  {
   "cell_type": "code",
   "execution_count": 750,
   "id": "eleven-prerequisite",
   "metadata": {},
   "outputs": [],
   "source": [
    "y= df['target']"
   ]
  },
  {
   "cell_type": "code",
   "execution_count": 751,
   "id": "radical-conclusion",
   "metadata": {},
   "outputs": [
    {
     "name": "stdout",
     "output_type": "stream",
     "text": [
      "Number of positive and negative reviews:\n",
      " 1    74855\n",
      "0     4998\n",
      "Name: target, dtype: int64\n",
      "Shape after oversampling\n",
      " (149710, 15)\n",
      "Equal 1s and 0s \n",
      " [74855 74855]\n"
     ]
    }
   ],
   "source": [
    "from imblearn.over_sampling import SMOTE\n",
    "print('Number of positive and negative reviews:\\n',y.value_counts())\n",
    "sm = SMOTE(random_state=2)#,ratio=1.0)\n",
    "X_train_res , y_train_res = sm.fit_resample(x,y)\n",
    "print('Shape after oversampling\\n',X_train_res.shape) \n",
    "print('Equal 1s and 0s \\n', np.bincount(y_train_res))"
   ]
  },
  {
   "cell_type": "code",
   "execution_count": 752,
   "id": "processed-briefing",
   "metadata": {},
   "outputs": [],
   "source": [
    "from sklearn.model_selection import train_test_split"
   ]
  },
  {
   "cell_type": "code",
   "execution_count": 753,
   "id": "tough-lying",
   "metadata": {},
   "outputs": [],
   "source": [
    "X_train, X_test, y_train, y_test = train_test_split(X_train_res, y_train_res, test_size=0.4, random_state=101)"
   ]
  },
  {
   "cell_type": "code",
   "execution_count": 754,
   "id": "mobile-thailand",
   "metadata": {},
   "outputs": [],
   "source": [
    "from sklearn.linear_model import LogisticRegression"
   ]
  },
  {
   "cell_type": "code",
   "execution_count": 755,
   "id": "recovered-offering",
   "metadata": {},
   "outputs": [],
   "source": [
    "lr = LogisticRegression()"
   ]
  },
  {
   "cell_type": "code",
   "execution_count": null,
   "id": "adequate-ottawa",
   "metadata": {},
   "outputs": [],
   "source": []
  },
  {
   "cell_type": "code",
   "execution_count": 756,
   "id": "outside-preservation",
   "metadata": {},
   "outputs": [
    {
     "name": "stderr",
     "output_type": "stream",
     "text": [
      "C:\\Users\\ASUS\\anaconda3\\envs\\loan\\lib\\site-packages\\sklearn\\linear_model\\_logistic.py:765: ConvergenceWarning: lbfgs failed to converge (status=1):\n",
      "STOP: TOTAL NO. of ITERATIONS REACHED LIMIT.\n",
      "\n",
      "Increase the number of iterations (max_iter) or scale the data as shown in:\n",
      "    https://scikit-learn.org/stable/modules/preprocessing.html\n",
      "Please also refer to the documentation for alternative solver options:\n",
      "    https://scikit-learn.org/stable/modules/linear_model.html#logistic-regression\n",
      "  extra_warning_msg=_LOGISTIC_SOLVER_CONVERGENCE_MSG)\n"
     ]
    },
    {
     "data": {
      "text/plain": [
       "LogisticRegression()"
      ]
     },
     "execution_count": 756,
     "metadata": {},
     "output_type": "execute_result"
    }
   ],
   "source": [
    "lr.fit(X_train,y_train)"
   ]
  },
  {
   "cell_type": "code",
   "execution_count": 757,
   "id": "understood-biology",
   "metadata": {},
   "outputs": [
    {
     "data": {
      "text/plain": [
       "0.7663816712310467"
      ]
     },
     "execution_count": 757,
     "metadata": {},
     "output_type": "execute_result"
    }
   ],
   "source": [
    "lr.score(X_train,y_train)"
   ]
  },
  {
   "cell_type": "code",
   "execution_count": 758,
   "id": "crude-flesh",
   "metadata": {},
   "outputs": [],
   "source": [
    "y_pred = lr.predict(X_test)"
   ]
  },
  {
   "cell_type": "code",
   "execution_count": null,
   "id": "paperback-schema",
   "metadata": {},
   "outputs": [],
   "source": []
  },
  {
   "cell_type": "code",
   "execution_count": 759,
   "id": "robust-palmer",
   "metadata": {},
   "outputs": [
    {
     "name": "stdout",
     "output_type": "stream",
     "text": [
      "76.64\n",
      "[[21808  6028]\n",
      " [ 8215 23833]]\n",
      "              precision    recall  f1-score   support\n",
      "\n",
      "           0       0.73      0.78      0.75     27836\n",
      "           1       0.80      0.74      0.77     32048\n",
      "\n",
      "    accuracy                           0.76     59884\n",
      "   macro avg       0.76      0.76      0.76     59884\n",
      "weighted avg       0.76      0.76      0.76     59884\n",
      "\n"
     ]
    }
   ],
   "source": [
    "acc_log = round(lr.score(X_train, y_train) * 100, 2)\n",
    "print(acc_log)\n",
    "from sklearn.metrics import confusion_matrix\n",
    "from sklearn.metrics import classification_report\n",
    "\n",
    "cm = confusion_matrix(lr.predict(X_test),y_test)\n",
    "print(cm)\n",
    "\n",
    "print(classification_report(lr.predict(X_test),y_test))"
   ]
  },
  {
   "cell_type": "code",
   "execution_count": null,
   "id": "curious-banking",
   "metadata": {},
   "outputs": [],
   "source": []
  },
  {
   "cell_type": "code",
   "execution_count": null,
   "id": "latter-opinion",
   "metadata": {},
   "outputs": [],
   "source": []
  },
  {
   "cell_type": "code",
   "execution_count": null,
   "id": "acoustic-paste",
   "metadata": {},
   "outputs": [],
   "source": []
  },
  {
   "cell_type": "code",
   "execution_count": null,
   "id": "linear-matrix",
   "metadata": {},
   "outputs": [],
   "source": []
  },
  {
   "cell_type": "code",
   "execution_count": null,
   "id": "respective-weekend",
   "metadata": {},
   "outputs": [],
   "source": []
  },
  {
   "cell_type": "code",
   "execution_count": null,
   "id": "narrative-track",
   "metadata": {},
   "outputs": [],
   "source": []
  },
  {
   "cell_type": "code",
   "execution_count": null,
   "id": "minute-ability",
   "metadata": {},
   "outputs": [],
   "source": []
  },
  {
   "cell_type": "code",
   "execution_count": 760,
   "id": "clinical-thanksgiving",
   "metadata": {},
   "outputs": [],
   "source": [
    "df1 = pd.read_csv('test.csv')"
   ]
  },
  {
   "cell_type": "code",
   "execution_count": 761,
   "id": "careful-error",
   "metadata": {},
   "outputs": [
    {
     "data": {
      "text/html": [
       "<div>\n",
       "<style scoped>\n",
       "    .dataframe tbody tr th:only-of-type {\n",
       "        vertical-align: middle;\n",
       "    }\n",
       "\n",
       "    .dataframe tbody tr th {\n",
       "        vertical-align: top;\n",
       "    }\n",
       "\n",
       "    .dataframe thead th {\n",
       "        text-align: right;\n",
       "    }\n",
       "</style>\n",
       "<table border=\"1\" class=\"dataframe\">\n",
       "  <thead>\n",
       "    <tr style=\"text-align: right;\">\n",
       "      <th></th>\n",
       "      <th>id</th>\n",
       "      <th>perc_premium_paid_by_cash_credit</th>\n",
       "      <th>age_in_days</th>\n",
       "      <th>Income</th>\n",
       "      <th>Count_3-6_months_late</th>\n",
       "      <th>Count_6-12_months_late</th>\n",
       "      <th>Count_more_than_12_months_late</th>\n",
       "      <th>application_underwriting_score</th>\n",
       "      <th>no_of_premiums_paid</th>\n",
       "      <th>sourcing_channel</th>\n",
       "      <th>residence_area_type</th>\n",
       "    </tr>\n",
       "  </thead>\n",
       "  <tbody>\n",
       "    <tr>\n",
       "      <th>0</th>\n",
       "      <td>649</td>\n",
       "      <td>0.00100</td>\n",
       "      <td>27384</td>\n",
       "      <td>51150</td>\n",
       "      <td>0.00000</td>\n",
       "      <td>0.00000</td>\n",
       "      <td>0.00000</td>\n",
       "      <td>99.89000</td>\n",
       "      <td>7</td>\n",
       "      <td>A</td>\n",
       "      <td>Rural</td>\n",
       "    </tr>\n",
       "    <tr>\n",
       "      <th>1</th>\n",
       "      <td>81136</td>\n",
       "      <td>0.12400</td>\n",
       "      <td>23735</td>\n",
       "      <td>285140</td>\n",
       "      <td>0.00000</td>\n",
       "      <td>0.00000</td>\n",
       "      <td>0.00000</td>\n",
       "      <td>98.93000</td>\n",
       "      <td>19</td>\n",
       "      <td>A</td>\n",
       "      <td>Urban</td>\n",
       "    </tr>\n",
       "    <tr>\n",
       "      <th>2</th>\n",
       "      <td>70762</td>\n",
       "      <td>1.00000</td>\n",
       "      <td>17170</td>\n",
       "      <td>186030</td>\n",
       "      <td>0.00000</td>\n",
       "      <td>0.00000</td>\n",
       "      <td>0.00000</td>\n",
       "      <td>NaN</td>\n",
       "      <td>2</td>\n",
       "      <td>B</td>\n",
       "      <td>Urban</td>\n",
       "    </tr>\n",
       "    <tr>\n",
       "      <th>3</th>\n",
       "      <td>53935</td>\n",
       "      <td>0.19800</td>\n",
       "      <td>16068</td>\n",
       "      <td>123540</td>\n",
       "      <td>0.00000</td>\n",
       "      <td>0.00000</td>\n",
       "      <td>0.00000</td>\n",
       "      <td>99.00000</td>\n",
       "      <td>11</td>\n",
       "      <td>B</td>\n",
       "      <td>Rural</td>\n",
       "    </tr>\n",
       "    <tr>\n",
       "      <th>4</th>\n",
       "      <td>15476</td>\n",
       "      <td>0.04100</td>\n",
       "      <td>10591</td>\n",
       "      <td>200020</td>\n",
       "      <td>1.00000</td>\n",
       "      <td>0.00000</td>\n",
       "      <td>0.00000</td>\n",
       "      <td>99.17000</td>\n",
       "      <td>14</td>\n",
       "      <td>A</td>\n",
       "      <td>Rural</td>\n",
       "    </tr>\n",
       "  </tbody>\n",
       "</table>\n",
       "</div>"
      ],
      "text/plain": [
       "      id  perc_premium_paid_by_cash_credit  age_in_days  Income  \\\n",
       "0    649                           0.00100        27384   51150   \n",
       "1  81136                           0.12400        23735  285140   \n",
       "2  70762                           1.00000        17170  186030   \n",
       "3  53935                           0.19800        16068  123540   \n",
       "4  15476                           0.04100        10591  200020   \n",
       "\n",
       "   Count_3-6_months_late  Count_6-12_months_late  \\\n",
       "0                0.00000                 0.00000   \n",
       "1                0.00000                 0.00000   \n",
       "2                0.00000                 0.00000   \n",
       "3                0.00000                 0.00000   \n",
       "4                1.00000                 0.00000   \n",
       "\n",
       "   Count_more_than_12_months_late  application_underwriting_score  \\\n",
       "0                         0.00000                        99.89000   \n",
       "1                         0.00000                        98.93000   \n",
       "2                         0.00000                             NaN   \n",
       "3                         0.00000                        99.00000   \n",
       "4                         0.00000                        99.17000   \n",
       "\n",
       "   no_of_premiums_paid sourcing_channel residence_area_type  \n",
       "0                    7                A               Rural  \n",
       "1                   19                A               Urban  \n",
       "2                    2                B               Urban  \n",
       "3                   11                B               Rural  \n",
       "4                   14                A               Rural  "
      ]
     },
     "execution_count": 761,
     "metadata": {},
     "output_type": "execute_result"
    }
   ],
   "source": [
    "df1.head()"
   ]
  },
  {
   "cell_type": "code",
   "execution_count": 762,
   "id": "widespread-instrumentation",
   "metadata": {},
   "outputs": [],
   "source": [
    "test_id=df1['id'].copy()"
   ]
  },
  {
   "cell_type": "code",
   "execution_count": 763,
   "id": "signal-samba",
   "metadata": {},
   "outputs": [],
   "source": [
    "df1.drop('id',axis=1,inplace=True)"
   ]
  },
  {
   "cell_type": "code",
   "execution_count": 764,
   "id": "informed-replacement",
   "metadata": {},
   "outputs": [],
   "source": [
    "df1.rename(columns={'perc_premium_paid_by_cash_credit':'perc_premium'},inplace=True)"
   ]
  },
  {
   "cell_type": "code",
   "execution_count": 765,
   "id": "sudden-encyclopedia",
   "metadata": {},
   "outputs": [],
   "source": [
    "df1['age']=round(df1['age_in_days']//365,2)"
   ]
  },
  {
   "cell_type": "code",
   "execution_count": 766,
   "id": "animal-alliance",
   "metadata": {},
   "outputs": [],
   "source": [
    "df1.drop('age_in_days',axis=1,inplace=True)"
   ]
  },
  {
   "cell_type": "code",
   "execution_count": 767,
   "id": "ruled-washer",
   "metadata": {},
   "outputs": [
    {
     "data": {
      "text/plain": [
       "count      34224.00000\n",
       "mean      202820.12710\n",
       "std       270253.60800\n",
       "min        24030.00000\n",
       "25%       106397.50000\n",
       "50%       165070.00000\n",
       "75%       250020.00000\n",
       "max     21914550.00000\n",
       "Name: Income, dtype: float64"
      ]
     },
     "execution_count": 767,
     "metadata": {},
     "output_type": "execute_result"
    }
   ],
   "source": [
    "df1.Income.describe()"
   ]
  },
  {
   "cell_type": "code",
   "execution_count": 768,
   "id": "confidential-rwanda",
   "metadata": {},
   "outputs": [
    {
     "name": "stdout",
     "output_type": "stream",
     "text": [
      "0.10000     71573.00000\n",
      "0.99800   1507426.18000\n",
      "Name: Income, dtype: float64\n"
     ]
    }
   ],
   "source": [
    "upper_bound = 0.998\n",
    "lower_bound = 0.1\n",
    "res = df1['Income'].quantile([lower_bound, upper_bound])\n",
    "print(res)"
   ]
  },
  {
   "cell_type": "code",
   "execution_count": 769,
   "id": "animal-edinburgh",
   "metadata": {},
   "outputs": [
    {
     "data": {
      "text/plain": [
       "0        True\n",
       "1        True\n",
       "2        True\n",
       "3        True\n",
       "4        True\n",
       "         ... \n",
       "34219    True\n",
       "34220    True\n",
       "34221    True\n",
       "34222    True\n",
       "34223    True\n",
       "Name: Income, Length: 34224, dtype: bool"
      ]
     },
     "execution_count": 769,
     "metadata": {},
     "output_type": "execute_result"
    }
   ],
   "source": [
    "true_index = (df1['Income'] < res.loc[upper_bound])\n",
    "true_index"
   ]
  },
  {
   "cell_type": "code",
   "execution_count": 770,
   "id": "hollywood-elephant",
   "metadata": {},
   "outputs": [],
   "source": [
    "false_index = ~true_index"
   ]
  },
  {
   "cell_type": "code",
   "execution_count": 771,
   "id": "musical-engine",
   "metadata": {},
   "outputs": [],
   "source": [
    "df1.loc[false_index, 'Income'] = 1500000.00000"
   ]
  },
  {
   "cell_type": "code",
   "execution_count": 772,
   "id": "pressing-cable",
   "metadata": {},
   "outputs": [
    {
     "data": {
      "text/plain": [
       "count   34224.00000\n",
       "mean       51.54582\n",
       "std        14.37412\n",
       "min        21.00000\n",
       "25%        41.00000\n",
       "50%        51.00000\n",
       "75%        62.00000\n",
       "max        98.00000\n",
       "Name: age, dtype: float64"
      ]
     },
     "execution_count": 772,
     "metadata": {},
     "output_type": "execute_result"
    }
   ],
   "source": [
    "df1.age.describe()"
   ]
  },
  {
   "cell_type": "code",
   "execution_count": 773,
   "id": "junior-racing",
   "metadata": {},
   "outputs": [],
   "source": [
    "df1['age'] = pd.cut(df1['age'],bins= [0,41,51,62,98],labels=[1,2,3,4])"
   ]
  },
  {
   "cell_type": "code",
   "execution_count": 774,
   "id": "pleased-tanzania",
   "metadata": {},
   "outputs": [
    {
     "data": {
      "text/html": [
       "<div>\n",
       "<style scoped>\n",
       "    .dataframe tbody tr th:only-of-type {\n",
       "        vertical-align: middle;\n",
       "    }\n",
       "\n",
       "    .dataframe tbody tr th {\n",
       "        vertical-align: top;\n",
       "    }\n",
       "\n",
       "    .dataframe thead th {\n",
       "        text-align: right;\n",
       "    }\n",
       "</style>\n",
       "<table border=\"1\" class=\"dataframe\">\n",
       "  <thead>\n",
       "    <tr style=\"text-align: right;\">\n",
       "      <th></th>\n",
       "      <th>perc_premium</th>\n",
       "      <th>Income</th>\n",
       "      <th>Count_3-6_months_late</th>\n",
       "      <th>Count_6-12_months_late</th>\n",
       "      <th>Count_more_than_12_months_late</th>\n",
       "      <th>application_underwriting_score</th>\n",
       "      <th>no_of_premiums_paid</th>\n",
       "      <th>sourcing_channel</th>\n",
       "      <th>residence_area_type</th>\n",
       "      <th>age</th>\n",
       "    </tr>\n",
       "  </thead>\n",
       "  <tbody>\n",
       "    <tr>\n",
       "      <th>0</th>\n",
       "      <td>0.00100</td>\n",
       "      <td>51150</td>\n",
       "      <td>0.00000</td>\n",
       "      <td>0.00000</td>\n",
       "      <td>0.00000</td>\n",
       "      <td>99.89000</td>\n",
       "      <td>7</td>\n",
       "      <td>A</td>\n",
       "      <td>Rural</td>\n",
       "      <td>4</td>\n",
       "    </tr>\n",
       "    <tr>\n",
       "      <th>1</th>\n",
       "      <td>0.12400</td>\n",
       "      <td>285140</td>\n",
       "      <td>0.00000</td>\n",
       "      <td>0.00000</td>\n",
       "      <td>0.00000</td>\n",
       "      <td>98.93000</td>\n",
       "      <td>19</td>\n",
       "      <td>A</td>\n",
       "      <td>Urban</td>\n",
       "      <td>4</td>\n",
       "    </tr>\n",
       "    <tr>\n",
       "      <th>2</th>\n",
       "      <td>1.00000</td>\n",
       "      <td>186030</td>\n",
       "      <td>0.00000</td>\n",
       "      <td>0.00000</td>\n",
       "      <td>0.00000</td>\n",
       "      <td>NaN</td>\n",
       "      <td>2</td>\n",
       "      <td>B</td>\n",
       "      <td>Urban</td>\n",
       "      <td>2</td>\n",
       "    </tr>\n",
       "    <tr>\n",
       "      <th>3</th>\n",
       "      <td>0.19800</td>\n",
       "      <td>123540</td>\n",
       "      <td>0.00000</td>\n",
       "      <td>0.00000</td>\n",
       "      <td>0.00000</td>\n",
       "      <td>99.00000</td>\n",
       "      <td>11</td>\n",
       "      <td>B</td>\n",
       "      <td>Rural</td>\n",
       "      <td>2</td>\n",
       "    </tr>\n",
       "    <tr>\n",
       "      <th>4</th>\n",
       "      <td>0.04100</td>\n",
       "      <td>200020</td>\n",
       "      <td>1.00000</td>\n",
       "      <td>0.00000</td>\n",
       "      <td>0.00000</td>\n",
       "      <td>99.17000</td>\n",
       "      <td>14</td>\n",
       "      <td>A</td>\n",
       "      <td>Rural</td>\n",
       "      <td>1</td>\n",
       "    </tr>\n",
       "  </tbody>\n",
       "</table>\n",
       "</div>"
      ],
      "text/plain": [
       "   perc_premium  Income  Count_3-6_months_late  Count_6-12_months_late  \\\n",
       "0       0.00100   51150                0.00000                 0.00000   \n",
       "1       0.12400  285140                0.00000                 0.00000   \n",
       "2       1.00000  186030                0.00000                 0.00000   \n",
       "3       0.19800  123540                0.00000                 0.00000   \n",
       "4       0.04100  200020                1.00000                 0.00000   \n",
       "\n",
       "   Count_more_than_12_months_late  application_underwriting_score  \\\n",
       "0                         0.00000                        99.89000   \n",
       "1                         0.00000                        98.93000   \n",
       "2                         0.00000                             NaN   \n",
       "3                         0.00000                        99.00000   \n",
       "4                         0.00000                        99.17000   \n",
       "\n",
       "   no_of_premiums_paid sourcing_channel residence_area_type age  \n",
       "0                    7                A               Rural   4  \n",
       "1                   19                A               Urban   4  \n",
       "2                    2                B               Urban   2  \n",
       "3                   11                B               Rural   2  \n",
       "4                   14                A               Rural   1  "
      ]
     },
     "execution_count": 774,
     "metadata": {},
     "output_type": "execute_result"
    }
   ],
   "source": [
    "df1.head()"
   ]
  },
  {
   "cell_type": "code",
   "execution_count": 775,
   "id": "local-boards",
   "metadata": {},
   "outputs": [
    {
     "data": {
      "text/plain": [
       "count     34224.00000\n",
       "mean     198523.24012\n",
       "std      146861.55445\n",
       "min       24030.00000\n",
       "25%      106397.50000\n",
       "50%      165070.00000\n",
       "75%      250020.00000\n",
       "max     1500130.00000\n",
       "Name: Income, dtype: float64"
      ]
     },
     "execution_count": 775,
     "metadata": {},
     "output_type": "execute_result"
    }
   ],
   "source": [
    "df1.Income.describe()"
   ]
  },
  {
   "cell_type": "code",
   "execution_count": 776,
   "id": "several-conversion",
   "metadata": {},
   "outputs": [],
   "source": [
    "df1['Income'] = pd.qcut(df1['Income'], 4,labels=[1,2,3,4,])"
   ]
  },
  {
   "cell_type": "code",
   "execution_count": 777,
   "id": "complete-agent",
   "metadata": {},
   "outputs": [
    {
     "data": {
      "text/html": [
       "<div>\n",
       "<style scoped>\n",
       "    .dataframe tbody tr th:only-of-type {\n",
       "        vertical-align: middle;\n",
       "    }\n",
       "\n",
       "    .dataframe tbody tr th {\n",
       "        vertical-align: top;\n",
       "    }\n",
       "\n",
       "    .dataframe thead th {\n",
       "        text-align: right;\n",
       "    }\n",
       "</style>\n",
       "<table border=\"1\" class=\"dataframe\">\n",
       "  <thead>\n",
       "    <tr style=\"text-align: right;\">\n",
       "      <th></th>\n",
       "      <th>perc_premium</th>\n",
       "      <th>Income</th>\n",
       "      <th>Count_3-6_months_late</th>\n",
       "      <th>Count_6-12_months_late</th>\n",
       "      <th>Count_more_than_12_months_late</th>\n",
       "      <th>application_underwriting_score</th>\n",
       "      <th>no_of_premiums_paid</th>\n",
       "      <th>sourcing_channel</th>\n",
       "      <th>residence_area_type</th>\n",
       "      <th>age</th>\n",
       "    </tr>\n",
       "  </thead>\n",
       "  <tbody>\n",
       "    <tr>\n",
       "      <th>0</th>\n",
       "      <td>0.00100</td>\n",
       "      <td>1</td>\n",
       "      <td>0.00000</td>\n",
       "      <td>0.00000</td>\n",
       "      <td>0.00000</td>\n",
       "      <td>99.89000</td>\n",
       "      <td>7</td>\n",
       "      <td>A</td>\n",
       "      <td>Rural</td>\n",
       "      <td>4</td>\n",
       "    </tr>\n",
       "    <tr>\n",
       "      <th>1</th>\n",
       "      <td>0.12400</td>\n",
       "      <td>4</td>\n",
       "      <td>0.00000</td>\n",
       "      <td>0.00000</td>\n",
       "      <td>0.00000</td>\n",
       "      <td>98.93000</td>\n",
       "      <td>19</td>\n",
       "      <td>A</td>\n",
       "      <td>Urban</td>\n",
       "      <td>4</td>\n",
       "    </tr>\n",
       "    <tr>\n",
       "      <th>2</th>\n",
       "      <td>1.00000</td>\n",
       "      <td>3</td>\n",
       "      <td>0.00000</td>\n",
       "      <td>0.00000</td>\n",
       "      <td>0.00000</td>\n",
       "      <td>NaN</td>\n",
       "      <td>2</td>\n",
       "      <td>B</td>\n",
       "      <td>Urban</td>\n",
       "      <td>2</td>\n",
       "    </tr>\n",
       "    <tr>\n",
       "      <th>3</th>\n",
       "      <td>0.19800</td>\n",
       "      <td>2</td>\n",
       "      <td>0.00000</td>\n",
       "      <td>0.00000</td>\n",
       "      <td>0.00000</td>\n",
       "      <td>99.00000</td>\n",
       "      <td>11</td>\n",
       "      <td>B</td>\n",
       "      <td>Rural</td>\n",
       "      <td>2</td>\n",
       "    </tr>\n",
       "    <tr>\n",
       "      <th>4</th>\n",
       "      <td>0.04100</td>\n",
       "      <td>3</td>\n",
       "      <td>1.00000</td>\n",
       "      <td>0.00000</td>\n",
       "      <td>0.00000</td>\n",
       "      <td>99.17000</td>\n",
       "      <td>14</td>\n",
       "      <td>A</td>\n",
       "      <td>Rural</td>\n",
       "      <td>1</td>\n",
       "    </tr>\n",
       "  </tbody>\n",
       "</table>\n",
       "</div>"
      ],
      "text/plain": [
       "   perc_premium Income  Count_3-6_months_late  Count_6-12_months_late  \\\n",
       "0       0.00100      1                0.00000                 0.00000   \n",
       "1       0.12400      4                0.00000                 0.00000   \n",
       "2       1.00000      3                0.00000                 0.00000   \n",
       "3       0.19800      2                0.00000                 0.00000   \n",
       "4       0.04100      3                1.00000                 0.00000   \n",
       "\n",
       "   Count_more_than_12_months_late  application_underwriting_score  \\\n",
       "0                         0.00000                        99.89000   \n",
       "1                         0.00000                        98.93000   \n",
       "2                         0.00000                             NaN   \n",
       "3                         0.00000                        99.00000   \n",
       "4                         0.00000                        99.17000   \n",
       "\n",
       "   no_of_premiums_paid sourcing_channel residence_area_type age  \n",
       "0                    7                A               Rural   4  \n",
       "1                   19                A               Urban   4  \n",
       "2                    2                B               Urban   2  \n",
       "3                   11                B               Rural   2  \n",
       "4                   14                A               Rural   1  "
      ]
     },
     "execution_count": 777,
     "metadata": {},
     "output_type": "execute_result"
    }
   ],
   "source": [
    "df1.head()"
   ]
  },
  {
   "cell_type": "code",
   "execution_count": 778,
   "id": "major-testing",
   "metadata": {},
   "outputs": [],
   "source": [
    "def impute_nan(df,variable,median):\n",
    "    df[variable+\"_median\"]=df[variable].fillna(median)\n",
    "    df[variable+\"_random\"]=df[variable]\n",
    "    ##It will have the random sample to fill the na\n",
    "    random_sample=df[variable].dropna().sample(df[variable].isnull().sum(),random_state=0)\n",
    "    ##pandas need to have same index in order to merge the dataset\n",
    "    random_sample.index=df[df[variable].isnull()].index\n",
    "    df.loc[df[variable].isnull(),variable+'_random']=random_sample"
   ]
  },
  {
   "cell_type": "code",
   "execution_count": 779,
   "id": "charitable-field",
   "metadata": {},
   "outputs": [],
   "source": [
    "median=df1.application_underwriting_score.median()"
   ]
  },
  {
   "cell_type": "code",
   "execution_count": 780,
   "id": "atomic-sitting",
   "metadata": {},
   "outputs": [],
   "source": [
    "impute_nan(df1,\"application_underwriting_score\",median)"
   ]
  },
  {
   "cell_type": "code",
   "execution_count": 781,
   "id": "residential-capacity",
   "metadata": {},
   "outputs": [
    {
     "data": {
      "text/plain": [
       "perc_premium                                0\n",
       "Income                                      0\n",
       "Count_3-6_months_late                      31\n",
       "Count_6-12_months_late                     31\n",
       "Count_more_than_12_months_late             31\n",
       "application_underwriting_score           1323\n",
       "no_of_premiums_paid                         0\n",
       "sourcing_channel                            0\n",
       "residence_area_type                         0\n",
       "age                                         0\n",
       "application_underwriting_score_median       0\n",
       "application_underwriting_score_random       0\n",
       "dtype: int64"
      ]
     },
     "execution_count": 781,
     "metadata": {},
     "output_type": "execute_result"
    }
   ],
   "source": [
    "df1.isnull().sum()"
   ]
  },
  {
   "cell_type": "code",
   "execution_count": 782,
   "id": "silver-wrong",
   "metadata": {},
   "outputs": [],
   "source": [
    "for data in [df1]:\n",
    "    data.loc[(data['Count_3-6_months_late'].isnull()),  'late_premium'] = np.NaN\n",
    "    data.loc[(data['Count_3-6_months_late'].notnull()), 'late_premium'] = data['Count_3-6_months_late'] + data['Count_6-12_months_late'] + data['Count_more_than_12_months_late']\n",
    "        "
   ]
  },
  {
   "cell_type": "code",
   "execution_count": 783,
   "id": "square-steam",
   "metadata": {},
   "outputs": [],
   "source": [
    "guess_prem = np.zeros(4)\n",
    "for dataset in [df1]:\n",
    "    for i in range(1, 5):\n",
    "        guess_df = dataset[(dataset['Income'] == i)]['late_premium'].dropna()\n",
    "\n",
    "        # age_mean = guess_df.mean()\n",
    "        # age_std = guess_df.std()\n",
    "        # age_guess = rnd.uniform(age_mean - age_std, age_mean + age_std)\n",
    "\n",
    "        premium_guess = guess_df.median()\n",
    "        guess_prem[i - 1] = int(premium_guess) \n",
    "    for j in range(1, 5):\n",
    "        dataset.loc[(dataset.late_premium.isnull()) & (dataset.Income == j), 'late_premium'] = guess_prem[j - 1] + 1\n",
    "\n",
    "    dataset['late_premium'] = dataset['late_premium'].astype(int)"
   ]
  },
  {
   "cell_type": "code",
   "execution_count": 784,
   "id": "loaded-interstate",
   "metadata": {},
   "outputs": [
    {
     "data": {
      "text/plain": [
       "perc_premium                                0\n",
       "Income                                      0\n",
       "Count_3-6_months_late                      31\n",
       "Count_6-12_months_late                     31\n",
       "Count_more_than_12_months_late             31\n",
       "application_underwriting_score           1323\n",
       "no_of_premiums_paid                         0\n",
       "sourcing_channel                            0\n",
       "residence_area_type                         0\n",
       "age                                         0\n",
       "application_underwriting_score_median       0\n",
       "application_underwriting_score_random       0\n",
       "late_premium                                0\n",
       "dtype: int64"
      ]
     },
     "execution_count": 784,
     "metadata": {},
     "output_type": "execute_result"
    }
   ],
   "source": [
    "df1.isnull().sum()"
   ]
  },
  {
   "cell_type": "code",
   "execution_count": 785,
   "id": "experienced-florist",
   "metadata": {},
   "outputs": [],
   "source": [
    "df1.drop(['Count_3-6_months_late', 'Count_6-12_months_late', 'Count_more_than_12_months_late'], axis = 1, inplace = True)"
   ]
  },
  {
   "cell_type": "code",
   "execution_count": 786,
   "id": "prescription-kingdom",
   "metadata": {},
   "outputs": [],
   "source": [
    "df1.drop(['application_underwriting_score', 'application_underwriting_score_median'], axis = 1, inplace = True)"
   ]
  },
  {
   "cell_type": "code",
   "execution_count": 787,
   "id": "saved-chess",
   "metadata": {},
   "outputs": [],
   "source": [
    "df1.rename(columns={'application_underwriting_score_random':'application_underwriting_score'},inplace=True)"
   ]
  },
  {
   "cell_type": "code",
   "execution_count": 788,
   "id": "touched-preference",
   "metadata": {},
   "outputs": [],
   "source": [
    "df1=pd.get_dummies(df1,drop_first=True)"
   ]
  },
  {
   "cell_type": "code",
   "execution_count": 789,
   "id": "greenhouse-session",
   "metadata": {},
   "outputs": [
    {
     "data": {
      "text/plain": [
       "Index(['perc_premium', 'no_of_premiums_paid', 'application_underwriting_score',\n",
       "       'late_premium', 'Income_2', 'Income_3', 'Income_4',\n",
       "       'sourcing_channel_B', 'sourcing_channel_C', 'sourcing_channel_D',\n",
       "       'sourcing_channel_E', 'residence_area_type_Urban', 'age_2', 'age_3',\n",
       "       'age_4'],\n",
       "      dtype='object')"
      ]
     },
     "execution_count": 789,
     "metadata": {},
     "output_type": "execute_result"
    }
   ],
   "source": [
    "df1.columns"
   ]
  },
  {
   "cell_type": "code",
   "execution_count": 790,
   "id": "imposed-dictionary",
   "metadata": {},
   "outputs": [],
   "source": [
    "x_test = df1"
   ]
  },
  {
   "cell_type": "code",
   "execution_count": 791,
   "id": "described-thursday",
   "metadata": {},
   "outputs": [],
   "source": [
    "result=lr.predict(x_test)"
   ]
  },
  {
   "cell_type": "code",
   "execution_count": 792,
   "id": "smoking-audio",
   "metadata": {},
   "outputs": [
    {
     "data": {
      "text/plain": [
       "(array([0, 1], dtype=int64), array([ 7866, 26358], dtype=int64))"
      ]
     },
     "execution_count": 792,
     "metadata": {},
     "output_type": "execute_result"
    }
   ],
   "source": [
    "np.unique(result, return_counts=True)"
   ]
  },
  {
   "cell_type": "code",
   "execution_count": 793,
   "id": "engaging-spokesman",
   "metadata": {},
   "outputs": [],
   "source": [
    "dict = {'id':test_id ,'target':result}"
   ]
  },
  {
   "cell_type": "code",
   "execution_count": 794,
   "id": "spread-reception",
   "metadata": {},
   "outputs": [],
   "source": [
    "sample = pd.DataFrame(dict)"
   ]
  },
  {
   "cell_type": "code",
   "execution_count": 795,
   "id": "spread-comedy",
   "metadata": {},
   "outputs": [],
   "source": [
    "#sample.to_csv('Loan.csv',index=False)"
   ]
  },
  {
   "cell_type": "code",
   "execution_count": null,
   "id": "proof-blowing",
   "metadata": {},
   "outputs": [],
   "source": []
  }
 ],
 "metadata": {
  "kernelspec": {
   "display_name": "Python 3",
   "language": "python",
   "name": "python3"
  },
  "language_info": {
   "codemirror_mode": {
    "name": "ipython",
    "version": 3
   },
   "file_extension": ".py",
   "mimetype": "text/x-python",
   "name": "python",
   "nbconvert_exporter": "python",
   "pygments_lexer": "ipython3",
   "version": "3.7.10"
  }
 },
 "nbformat": 4,
 "nbformat_minor": 5
}
