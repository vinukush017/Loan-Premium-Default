{
 "cells": [
  {
   "cell_type": "markdown",
   "id": "alternate-payroll",
   "metadata": {},
   "source": [
    "# Importing required Libraries"
   ]
  },
  {
   "cell_type": "code",
   "execution_count": 626,
   "id": "sitting-supervisor",
   "metadata": {},
   "outputs": [],
   "source": [
    "#Loading the required libraries\n",
    "import pandas as pd\n",
    "import numpy as np\n",
    "import matplotlib.pyplot as plt\n",
    "import seaborn as sns \n",
    "%matplotlib inline"
   ]
  },
  {
   "cell_type": "markdown",
   "id": "diverse-congo",
   "metadata": {},
   "source": [
    "Importing Both Train and Test Data"
   ]
  },
  {
   "cell_type": "code",
   "execution_count": 627,
   "id": "impaired-enclosure",
   "metadata": {},
   "outputs": [
    {
     "name": "stdout",
     "output_type": "stream",
     "text": [
      "(79853, 12)\n",
      "(34224, 11)\n"
     ]
    }
   ],
   "source": [
    "train = pd.read_csv('train.csv')\n",
    "test = pd.read_csv('test.csv')\n",
    "combine = [train , test]\n",
    "print(train.shape)\n",
    "print(test.shape)"
   ]
  },
  {
   "cell_type": "markdown",
   "id": "respective-wells",
   "metadata": {},
   "source": [
    "There are 79853 records and 12 columns in the Train data.\n",
    "There are 34224 records and 11 columns in the Test data."
   ]
  },
  {
   "cell_type": "markdown",
   "id": "immune-martin",
   "metadata": {},
   "source": [
    "# Data Understanding and Cleaning"
   ]
  },
  {
   "cell_type": "code",
   "execution_count": 628,
   "id": "moral-action",
   "metadata": {},
   "outputs": [
    {
     "data": {
      "text/html": [
       "<div>\n",
       "<style scoped>\n",
       "    .dataframe tbody tr th:only-of-type {\n",
       "        vertical-align: middle;\n",
       "    }\n",
       "\n",
       "    .dataframe tbody tr th {\n",
       "        vertical-align: top;\n",
       "    }\n",
       "\n",
       "    .dataframe thead th {\n",
       "        text-align: right;\n",
       "    }\n",
       "</style>\n",
       "<table border=\"1\" class=\"dataframe\">\n",
       "  <thead>\n",
       "    <tr style=\"text-align: right;\">\n",
       "      <th></th>\n",
       "      <th>id</th>\n",
       "      <th>perc_premium_paid_by_cash_credit</th>\n",
       "      <th>age_in_days</th>\n",
       "      <th>Income</th>\n",
       "      <th>Count_3-6_months_late</th>\n",
       "      <th>Count_6-12_months_late</th>\n",
       "      <th>Count_more_than_12_months_late</th>\n",
       "      <th>application_underwriting_score</th>\n",
       "      <th>no_of_premiums_paid</th>\n",
       "      <th>sourcing_channel</th>\n",
       "      <th>residence_area_type</th>\n",
       "      <th>target</th>\n",
       "    </tr>\n",
       "  </thead>\n",
       "  <tbody>\n",
       "    <tr>\n",
       "      <th>0</th>\n",
       "      <td>110936</td>\n",
       "      <td>0.42900</td>\n",
       "      <td>12058</td>\n",
       "      <td>355060</td>\n",
       "      <td>0.00000</td>\n",
       "      <td>0.00000</td>\n",
       "      <td>0.00000</td>\n",
       "      <td>99.02000</td>\n",
       "      <td>13</td>\n",
       "      <td>C</td>\n",
       "      <td>Urban</td>\n",
       "      <td>1</td>\n",
       "    </tr>\n",
       "    <tr>\n",
       "      <th>1</th>\n",
       "      <td>41492</td>\n",
       "      <td>0.01000</td>\n",
       "      <td>21546</td>\n",
       "      <td>315150</td>\n",
       "      <td>0.00000</td>\n",
       "      <td>0.00000</td>\n",
       "      <td>0.00000</td>\n",
       "      <td>99.89000</td>\n",
       "      <td>21</td>\n",
       "      <td>A</td>\n",
       "      <td>Urban</td>\n",
       "      <td>1</td>\n",
       "    </tr>\n",
       "  </tbody>\n",
       "</table>\n",
       "</div>"
      ],
      "text/plain": [
       "       id  perc_premium_paid_by_cash_credit  age_in_days  Income  \\\n",
       "0  110936                           0.42900        12058  355060   \n",
       "1   41492                           0.01000        21546  315150   \n",
       "\n",
       "   Count_3-6_months_late  Count_6-12_months_late  \\\n",
       "0                0.00000                 0.00000   \n",
       "1                0.00000                 0.00000   \n",
       "\n",
       "   Count_more_than_12_months_late  application_underwriting_score  \\\n",
       "0                         0.00000                        99.02000   \n",
       "1                         0.00000                        99.89000   \n",
       "\n",
       "   no_of_premiums_paid sourcing_channel residence_area_type  target  \n",
       "0                   13                C               Urban       1  \n",
       "1                   21                A               Urban       1  "
      ]
     },
     "execution_count": 628,
     "metadata": {},
     "output_type": "execute_result"
    }
   ],
   "source": [
    "train.head(2)"
   ]
  },
  {
   "cell_type": "code",
   "execution_count": 629,
   "id": "suitable-reaction",
   "metadata": {},
   "outputs": [
    {
     "data": {
      "text/html": [
       "<div>\n",
       "<style scoped>\n",
       "    .dataframe tbody tr th:only-of-type {\n",
       "        vertical-align: middle;\n",
       "    }\n",
       "\n",
       "    .dataframe tbody tr th {\n",
       "        vertical-align: top;\n",
       "    }\n",
       "\n",
       "    .dataframe thead th {\n",
       "        text-align: right;\n",
       "    }\n",
       "</style>\n",
       "<table border=\"1\" class=\"dataframe\">\n",
       "  <thead>\n",
       "    <tr style=\"text-align: right;\">\n",
       "      <th></th>\n",
       "      <th>id</th>\n",
       "      <th>perc_premium_paid_by_cash_credit</th>\n",
       "      <th>age_in_days</th>\n",
       "      <th>Income</th>\n",
       "      <th>Count_3-6_months_late</th>\n",
       "      <th>Count_6-12_months_late</th>\n",
       "      <th>Count_more_than_12_months_late</th>\n",
       "      <th>application_underwriting_score</th>\n",
       "      <th>no_of_premiums_paid</th>\n",
       "      <th>sourcing_channel</th>\n",
       "      <th>residence_area_type</th>\n",
       "    </tr>\n",
       "  </thead>\n",
       "  <tbody>\n",
       "    <tr>\n",
       "      <th>0</th>\n",
       "      <td>649</td>\n",
       "      <td>0.00100</td>\n",
       "      <td>27384</td>\n",
       "      <td>51150</td>\n",
       "      <td>0.00000</td>\n",
       "      <td>0.00000</td>\n",
       "      <td>0.00000</td>\n",
       "      <td>99.89000</td>\n",
       "      <td>7</td>\n",
       "      <td>A</td>\n",
       "      <td>Rural</td>\n",
       "    </tr>\n",
       "    <tr>\n",
       "      <th>1</th>\n",
       "      <td>81136</td>\n",
       "      <td>0.12400</td>\n",
       "      <td>23735</td>\n",
       "      <td>285140</td>\n",
       "      <td>0.00000</td>\n",
       "      <td>0.00000</td>\n",
       "      <td>0.00000</td>\n",
       "      <td>98.93000</td>\n",
       "      <td>19</td>\n",
       "      <td>A</td>\n",
       "      <td>Urban</td>\n",
       "    </tr>\n",
       "  </tbody>\n",
       "</table>\n",
       "</div>"
      ],
      "text/plain": [
       "      id  perc_premium_paid_by_cash_credit  age_in_days  Income  \\\n",
       "0    649                           0.00100        27384   51150   \n",
       "1  81136                           0.12400        23735  285140   \n",
       "\n",
       "   Count_3-6_months_late  Count_6-12_months_late  \\\n",
       "0                0.00000                 0.00000   \n",
       "1                0.00000                 0.00000   \n",
       "\n",
       "   Count_more_than_12_months_late  application_underwriting_score  \\\n",
       "0                         0.00000                        99.89000   \n",
       "1                         0.00000                        98.93000   \n",
       "\n",
       "   no_of_premiums_paid sourcing_channel residence_area_type  \n",
       "0                    7                A               Rural  \n",
       "1                   19                A               Urban  "
      ]
     },
     "execution_count": 629,
     "metadata": {},
     "output_type": "execute_result"
    }
   ],
   "source": [
    "test.head(2)"
   ]
  },
  {
   "cell_type": "code",
   "execution_count": 630,
   "id": "present-closer",
   "metadata": {},
   "outputs": [
    {
     "data": {
      "text/html": [
       "<div>\n",
       "<style scoped>\n",
       "    .dataframe tbody tr th:only-of-type {\n",
       "        vertical-align: middle;\n",
       "    }\n",
       "\n",
       "    .dataframe tbody tr th {\n",
       "        vertical-align: top;\n",
       "    }\n",
       "\n",
       "    .dataframe thead th {\n",
       "        text-align: right;\n",
       "    }\n",
       "</style>\n",
       "<table border=\"1\" class=\"dataframe\">\n",
       "  <thead>\n",
       "    <tr style=\"text-align: right;\">\n",
       "      <th></th>\n",
       "      <th>id</th>\n",
       "      <th>perc_premium_paid_by_cash_credit</th>\n",
       "      <th>age_in_days</th>\n",
       "      <th>Income</th>\n",
       "      <th>Count_3-6_months_late</th>\n",
       "      <th>Count_6-12_months_late</th>\n",
       "      <th>Count_more_than_12_months_late</th>\n",
       "      <th>application_underwriting_score</th>\n",
       "      <th>no_of_premiums_paid</th>\n",
       "      <th>target</th>\n",
       "    </tr>\n",
       "  </thead>\n",
       "  <tbody>\n",
       "    <tr>\n",
       "      <th>count</th>\n",
       "      <td>79853.00000</td>\n",
       "      <td>79853.00000</td>\n",
       "      <td>79853.00000</td>\n",
       "      <td>79853.00000</td>\n",
       "      <td>79756.00000</td>\n",
       "      <td>79756.00000</td>\n",
       "      <td>79756.00000</td>\n",
       "      <td>76879.00000</td>\n",
       "      <td>79853.00000</td>\n",
       "      <td>79853.00000</td>\n",
       "    </tr>\n",
       "    <tr>\n",
       "      <th>mean</th>\n",
       "      <td>57167.16637</td>\n",
       "      <td>0.31429</td>\n",
       "      <td>18846.69691</td>\n",
       "      <td>208847.17118</td>\n",
       "      <td>0.24867</td>\n",
       "      <td>0.07819</td>\n",
       "      <td>0.06001</td>\n",
       "      <td>99.06729</td>\n",
       "      <td>10.86389</td>\n",
       "      <td>0.93741</td>\n",
       "    </tr>\n",
       "    <tr>\n",
       "      <th>std</th>\n",
       "      <td>32928.97016</td>\n",
       "      <td>0.33491</td>\n",
       "      <td>5208.71914</td>\n",
       "      <td>496582.59726</td>\n",
       "      <td>0.69147</td>\n",
       "      <td>0.43651</td>\n",
       "      <td>0.31202</td>\n",
       "      <td>0.73980</td>\n",
       "      <td>5.17069</td>\n",
       "      <td>0.24223</td>\n",
       "    </tr>\n",
       "    <tr>\n",
       "      <th>min</th>\n",
       "      <td>2.00000</td>\n",
       "      <td>0.00000</td>\n",
       "      <td>7670.00000</td>\n",
       "      <td>24030.00000</td>\n",
       "      <td>0.00000</td>\n",
       "      <td>0.00000</td>\n",
       "      <td>0.00000</td>\n",
       "      <td>91.90000</td>\n",
       "      <td>2.00000</td>\n",
       "      <td>0.00000</td>\n",
       "    </tr>\n",
       "    <tr>\n",
       "      <th>25%</th>\n",
       "      <td>28640.00000</td>\n",
       "      <td>0.03400</td>\n",
       "      <td>14974.00000</td>\n",
       "      <td>108010.00000</td>\n",
       "      <td>0.00000</td>\n",
       "      <td>0.00000</td>\n",
       "      <td>0.00000</td>\n",
       "      <td>98.81000</td>\n",
       "      <td>7.00000</td>\n",
       "      <td>1.00000</td>\n",
       "    </tr>\n",
       "    <tr>\n",
       "      <th>50%</th>\n",
       "      <td>57262.00000</td>\n",
       "      <td>0.16700</td>\n",
       "      <td>18625.00000</td>\n",
       "      <td>166560.00000</td>\n",
       "      <td>0.00000</td>\n",
       "      <td>0.00000</td>\n",
       "      <td>0.00000</td>\n",
       "      <td>99.21000</td>\n",
       "      <td>10.00000</td>\n",
       "      <td>1.00000</td>\n",
       "    </tr>\n",
       "    <tr>\n",
       "      <th>75%</th>\n",
       "      <td>85632.00000</td>\n",
       "      <td>0.53800</td>\n",
       "      <td>22636.00000</td>\n",
       "      <td>252090.00000</td>\n",
       "      <td>0.00000</td>\n",
       "      <td>0.00000</td>\n",
       "      <td>0.00000</td>\n",
       "      <td>99.54000</td>\n",
       "      <td>14.00000</td>\n",
       "      <td>1.00000</td>\n",
       "    </tr>\n",
       "    <tr>\n",
       "      <th>max</th>\n",
       "      <td>114076.00000</td>\n",
       "      <td>1.00000</td>\n",
       "      <td>37602.00000</td>\n",
       "      <td>90262600.00000</td>\n",
       "      <td>13.00000</td>\n",
       "      <td>17.00000</td>\n",
       "      <td>11.00000</td>\n",
       "      <td>99.89000</td>\n",
       "      <td>60.00000</td>\n",
       "      <td>1.00000</td>\n",
       "    </tr>\n",
       "  </tbody>\n",
       "</table>\n",
       "</div>"
      ],
      "text/plain": [
       "                id  perc_premium_paid_by_cash_credit  age_in_days  \\\n",
       "count  79853.00000                       79853.00000  79853.00000   \n",
       "mean   57167.16637                           0.31429  18846.69691   \n",
       "std    32928.97016                           0.33491   5208.71914   \n",
       "min        2.00000                           0.00000   7670.00000   \n",
       "25%    28640.00000                           0.03400  14974.00000   \n",
       "50%    57262.00000                           0.16700  18625.00000   \n",
       "75%    85632.00000                           0.53800  22636.00000   \n",
       "max   114076.00000                           1.00000  37602.00000   \n",
       "\n",
       "              Income  Count_3-6_months_late  Count_6-12_months_late  \\\n",
       "count    79853.00000            79756.00000             79756.00000   \n",
       "mean    208847.17118                0.24867                 0.07819   \n",
       "std     496582.59726                0.69147                 0.43651   \n",
       "min      24030.00000                0.00000                 0.00000   \n",
       "25%     108010.00000                0.00000                 0.00000   \n",
       "50%     166560.00000                0.00000                 0.00000   \n",
       "75%     252090.00000                0.00000                 0.00000   \n",
       "max   90262600.00000               13.00000                17.00000   \n",
       "\n",
       "       Count_more_than_12_months_late  application_underwriting_score  \\\n",
       "count                     79756.00000                     76879.00000   \n",
       "mean                          0.06001                        99.06729   \n",
       "std                           0.31202                         0.73980   \n",
       "min                           0.00000                        91.90000   \n",
       "25%                           0.00000                        98.81000   \n",
       "50%                           0.00000                        99.21000   \n",
       "75%                           0.00000                        99.54000   \n",
       "max                          11.00000                        99.89000   \n",
       "\n",
       "       no_of_premiums_paid      target  \n",
       "count          79853.00000 79853.00000  \n",
       "mean              10.86389     0.93741  \n",
       "std                5.17069     0.24223  \n",
       "min                2.00000     0.00000  \n",
       "25%                7.00000     1.00000  \n",
       "50%               10.00000     1.00000  \n",
       "75%               14.00000     1.00000  \n",
       "max               60.00000     1.00000  "
      ]
     },
     "execution_count": 630,
     "metadata": {},
     "output_type": "execute_result"
    }
   ],
   "source": [
    "train.describe()"
   ]
  },
  {
   "cell_type": "code",
   "execution_count": 631,
   "id": "thorough-alliance",
   "metadata": {},
   "outputs": [
    {
     "data": {
      "text/plain": [
       "1    74855\n",
       "0     4998\n",
       "Name: target, dtype: int64"
      ]
     },
     "execution_count": 631,
     "metadata": {},
     "output_type": "execute_result"
    }
   ],
   "source": [
    "train['target'].value_counts()"
   ]
  },
  {
   "cell_type": "markdown",
   "id": "aquatic-bible",
   "metadata": {},
   "source": [
    "74855 paid there premiums \n",
    "4998 are defaulters "
   ]
  },
  {
   "cell_type": "code",
   "execution_count": 632,
   "id": "iraqi-replication",
   "metadata": {},
   "outputs": [
    {
     "name": "stdout",
     "output_type": "stream",
     "text": [
      "<class 'pandas.core.frame.DataFrame'>\n",
      "RangeIndex: 79853 entries, 0 to 79852\n",
      "Data columns (total 12 columns):\n",
      " #   Column                            Non-Null Count  Dtype  \n",
      "---  ------                            --------------  -----  \n",
      " 0   id                                79853 non-null  int64  \n",
      " 1   perc_premium_paid_by_cash_credit  79853 non-null  float64\n",
      " 2   age_in_days                       79853 non-null  int64  \n",
      " 3   Income                            79853 non-null  int64  \n",
      " 4   Count_3-6_months_late             79756 non-null  float64\n",
      " 5   Count_6-12_months_late            79756 non-null  float64\n",
      " 6   Count_more_than_12_months_late    79756 non-null  float64\n",
      " 7   application_underwriting_score    76879 non-null  float64\n",
      " 8   no_of_premiums_paid               79853 non-null  int64  \n",
      " 9   sourcing_channel                  79853 non-null  object \n",
      " 10  residence_area_type               79853 non-null  object \n",
      " 11  target                            79853 non-null  int64  \n",
      "dtypes: float64(5), int64(5), object(2)\n",
      "memory usage: 7.3+ MB\n",
      "<class 'pandas.core.frame.DataFrame'>\n",
      "RangeIndex: 34224 entries, 0 to 34223\n",
      "Data columns (total 11 columns):\n",
      " #   Column                            Non-Null Count  Dtype  \n",
      "---  ------                            --------------  -----  \n",
      " 0   id                                34224 non-null  int64  \n",
      " 1   perc_premium_paid_by_cash_credit  34224 non-null  float64\n",
      " 2   age_in_days                       34224 non-null  int64  \n",
      " 3   Income                            34224 non-null  int64  \n",
      " 4   Count_3-6_months_late             34193 non-null  float64\n",
      " 5   Count_6-12_months_late            34193 non-null  float64\n",
      " 6   Count_more_than_12_months_late    34193 non-null  float64\n",
      " 7   application_underwriting_score    32901 non-null  float64\n",
      " 8   no_of_premiums_paid               34224 non-null  int64  \n",
      " 9   sourcing_channel                  34224 non-null  object \n",
      " 10  residence_area_type               34224 non-null  object \n",
      "dtypes: float64(5), int64(4), object(2)\n",
      "memory usage: 2.9+ MB\n"
     ]
    }
   ],
   "source": [
    "train.info()\n",
    "test.info()"
   ]
  },
  {
   "cell_type": "markdown",
   "id": "enormous-metabolism",
   "metadata": {},
   "source": [
    "# Correlation Plot"
   ]
  },
  {
   "cell_type": "code",
   "execution_count": 681,
   "id": "hawaiian-battle",
   "metadata": {},
   "outputs": [
    {
     "data": {
      "image/png": "[encoded data removed]",
      "text/plain": [
       "<Figure size 864x432 with 2 Axes>"
      ]
     },
     "metadata": {},
     "output_type": "display_data"
    }
   ],
   "source": [
    "plt.figure(figsize=(12,6))\n",
    "sns.heatmap(train.corr(),annot=True)\n",
    "plt.show()"
   ]
  },
  {
   "cell_type": "markdown",
   "id": "average-manor",
   "metadata": {},
   "source": [
    "Makes Groups For Age and Income (Convert age in days to Years first then grouping them)"
   ]
  },
  {
   "cell_type": "code",
   "execution_count": 634,
   "id": "necessary-discovery",
   "metadata": {},
   "outputs": [],
   "source": [
    "train['age'] = train['age_in_days']//365\n",
    "train.drop(['age_in_days'], axis = 1, inplace = True)"
   ]
  },
  {
   "cell_type": "code",
   "execution_count": 635,
   "id": "turned-husband",
   "metadata": {},
   "outputs": [],
   "source": [
    "test['age'] = test['age_in_days']//365\n",
    "test.drop(['age_in_days'], axis = 1, inplace = True)"
   ]
  },
  {
   "cell_type": "code",
   "execution_count": 636,
   "id": "adequate-density",
   "metadata": {},
   "outputs": [
    {
     "data": {
      "text/html": [
       "<div>\n",
       "<style scoped>\n",
       "    .dataframe tbody tr th:only-of-type {\n",
       "        vertical-align: middle;\n",
       "    }\n",
       "\n",
       "    .dataframe tbody tr th {\n",
       "        vertical-align: top;\n",
       "    }\n",
       "\n",
       "    .dataframe thead th {\n",
       "        text-align: right;\n",
       "    }\n",
       "</style>\n",
       "<table border=\"1\" class=\"dataframe\">\n",
       "  <thead>\n",
       "    <tr style=\"text-align: right;\">\n",
       "      <th></th>\n",
       "      <th>AgeBands</th>\n",
       "      <th>target</th>\n",
       "    </tr>\n",
       "  </thead>\n",
       "  <tbody>\n",
       "    <tr>\n",
       "      <th>0</th>\n",
       "      <td>(20.918, 37.4]</td>\n",
       "      <td>14314</td>\n",
       "    </tr>\n",
       "    <tr>\n",
       "      <th>1</th>\n",
       "      <td>(37.4, 53.8]</td>\n",
       "      <td>30585</td>\n",
       "    </tr>\n",
       "    <tr>\n",
       "      <th>2</th>\n",
       "      <td>(53.8, 70.2]</td>\n",
       "      <td>26773</td>\n",
       "    </tr>\n",
       "    <tr>\n",
       "      <th>3</th>\n",
       "      <td>(70.2, 86.6]</td>\n",
       "      <td>7531</td>\n",
       "    </tr>\n",
       "    <tr>\n",
       "      <th>4</th>\n",
       "      <td>(86.6, 103.0]</td>\n",
       "      <td>650</td>\n",
       "    </tr>\n",
       "  </tbody>\n",
       "</table>\n",
       "</div>"
      ],
      "text/plain": [
       "         AgeBands  target\n",
       "0  (20.918, 37.4]   14314\n",
       "1    (37.4, 53.8]   30585\n",
       "2    (53.8, 70.2]   26773\n",
       "3    (70.2, 86.6]    7531\n",
       "4   (86.6, 103.0]     650"
      ]
     },
     "execution_count": 636,
     "metadata": {},
     "output_type": "execute_result"
    }
   ],
   "source": [
    "train['AgeBands'] = pd.cut(train['age'], 5)\n",
    "train[['AgeBands', 'target']].groupby('AgeBands', as_index = False).count()"
   ]
  },
  {
   "cell_type": "code",
   "execution_count": 637,
   "id": "recreational-persian",
   "metadata": {},
   "outputs": [],
   "source": [
    "train.loc[ train['age'] <= 37.4, 'age'] = 0\n",
    "train.loc[(train['age'] > 37.4) & (train['age'] <= 53.8), 'age'] = 1\n",
    "train.loc[(train['age'] > 53.8) & (train['age'] <= 70.2), 'age'] = 2\n",
    "train.loc[(train['age'] > 70.2) & (train['age'] <= 86.6), 'age'] = 3\n",
    "train.loc[ train['age'] > 86.6, 'age'] = 4\n",
    "train.drop('AgeBands', axis = 1, inplace = True)"
   ]
  },
  {
   "cell_type": "code",
   "execution_count": 638,
   "id": "opened-google",
   "metadata": {},
   "outputs": [],
   "source": [
    "train['residence_area_type'] = train['residence_area_type'].map( {'Urban' : 1, 'Rural' : 0} )"
   ]
  },
  {
   "cell_type": "code",
   "execution_count": 639,
   "id": "republican-testing",
   "metadata": {},
   "outputs": [],
   "source": [
    "train['sourcing_channel'] = train['sourcing_channel'].map( {'A' : 0, 'B' : 1, 'C' : 2, 'D' : 3, 'E' : 4} )"
   ]
  },
  {
   "cell_type": "markdown",
   "id": "contemporary-float",
   "metadata": {},
   "source": [
    "Drop the Id column because it can't help for prediction"
   ]
  },
  {
   "cell_type": "code",
   "execution_count": 640,
   "id": "three-contest",
   "metadata": {},
   "outputs": [],
   "source": [
    "train.drop(['id'],axis=1,inplace=True)"
   ]
  },
  {
   "cell_type": "code",
   "execution_count": 641,
   "id": "coated-funeral",
   "metadata": {},
   "outputs": [
    {
     "data": {
      "text/html": [
       "<div>\n",
       "<style scoped>\n",
       "    .dataframe tbody tr th:only-of-type {\n",
       "        vertical-align: middle;\n",
       "    }\n",
       "\n",
       "    .dataframe tbody tr th {\n",
       "        vertical-align: top;\n",
       "    }\n",
       "\n",
       "    .dataframe thead th {\n",
       "        text-align: right;\n",
       "    }\n",
       "</style>\n",
       "<table border=\"1\" class=\"dataframe\">\n",
       "  <thead>\n",
       "    <tr style=\"text-align: right;\">\n",
       "      <th></th>\n",
       "      <th>perc_premium_paid_by_cash_credit</th>\n",
       "      <th>Income</th>\n",
       "      <th>Count_3-6_months_late</th>\n",
       "      <th>Count_6-12_months_late</th>\n",
       "      <th>Count_more_than_12_months_late</th>\n",
       "      <th>application_underwriting_score</th>\n",
       "      <th>no_of_premiums_paid</th>\n",
       "      <th>sourcing_channel</th>\n",
       "      <th>residence_area_type</th>\n",
       "      <th>target</th>\n",
       "      <th>age</th>\n",
       "    </tr>\n",
       "  </thead>\n",
       "  <tbody>\n",
       "    <tr>\n",
       "      <th>0</th>\n",
       "      <td>0.42900</td>\n",
       "      <td>355060</td>\n",
       "      <td>0.00000</td>\n",
       "      <td>0.00000</td>\n",
       "      <td>0.00000</td>\n",
       "      <td>99.02000</td>\n",
       "      <td>13</td>\n",
       "      <td>2</td>\n",
       "      <td>1</td>\n",
       "      <td>1</td>\n",
       "      <td>0</td>\n",
       "    </tr>\n",
       "    <tr>\n",
       "      <th>1</th>\n",
       "      <td>0.01000</td>\n",
       "      <td>315150</td>\n",
       "      <td>0.00000</td>\n",
       "      <td>0.00000</td>\n",
       "      <td>0.00000</td>\n",
       "      <td>99.89000</td>\n",
       "      <td>21</td>\n",
       "      <td>0</td>\n",
       "      <td>1</td>\n",
       "      <td>1</td>\n",
       "      <td>2</td>\n",
       "    </tr>\n",
       "    <tr>\n",
       "      <th>2</th>\n",
       "      <td>0.91700</td>\n",
       "      <td>84140</td>\n",
       "      <td>2.00000</td>\n",
       "      <td>3.00000</td>\n",
       "      <td>1.00000</td>\n",
       "      <td>98.69000</td>\n",
       "      <td>7</td>\n",
       "      <td>2</td>\n",
       "      <td>0</td>\n",
       "      <td>0</td>\n",
       "      <td>1</td>\n",
       "    </tr>\n",
       "    <tr>\n",
       "      <th>3</th>\n",
       "      <td>0.04900</td>\n",
       "      <td>250510</td>\n",
       "      <td>0.00000</td>\n",
       "      <td>0.00000</td>\n",
       "      <td>0.00000</td>\n",
       "      <td>99.57000</td>\n",
       "      <td>9</td>\n",
       "      <td>0</td>\n",
       "      <td>1</td>\n",
       "      <td>1</td>\n",
       "      <td>1</td>\n",
       "    </tr>\n",
       "    <tr>\n",
       "      <th>4</th>\n",
       "      <td>0.05200</td>\n",
       "      <td>198680</td>\n",
       "      <td>0.00000</td>\n",
       "      <td>0.00000</td>\n",
       "      <td>0.00000</td>\n",
       "      <td>99.87000</td>\n",
       "      <td>12</td>\n",
       "      <td>1</td>\n",
       "      <td>1</td>\n",
       "      <td>1</td>\n",
       "      <td>3</td>\n",
       "    </tr>\n",
       "  </tbody>\n",
       "</table>\n",
       "</div>"
      ],
      "text/plain": [
       "   perc_premium_paid_by_cash_credit  Income  Count_3-6_months_late  \\\n",
       "0                           0.42900  355060                0.00000   \n",
       "1                           0.01000  315150                0.00000   \n",
       "2                           0.91700   84140                2.00000   \n",
       "3                           0.04900  250510                0.00000   \n",
       "4                           0.05200  198680                0.00000   \n",
       "\n",
       "   Count_6-12_months_late  Count_more_than_12_months_late  \\\n",
       "0                 0.00000                         0.00000   \n",
       "1                 0.00000                         0.00000   \n",
       "2                 3.00000                         1.00000   \n",
       "3                 0.00000                         0.00000   \n",
       "4                 0.00000                         0.00000   \n",
       "\n",
       "   application_underwriting_score  no_of_premiums_paid  sourcing_channel  \\\n",
       "0                        99.02000                   13                 2   \n",
       "1                        99.89000                   21                 0   \n",
       "2                        98.69000                    7                 2   \n",
       "3                        99.57000                    9                 0   \n",
       "4                        99.87000                   12                 1   \n",
       "\n",
       "   residence_area_type  target  age  \n",
       "0                    1       1    0  \n",
       "1                    1       1    2  \n",
       "2                    0       0    1  \n",
       "3                    1       1    1  \n",
       "4                    1       1    3  "
      ]
     },
     "execution_count": 641,
     "metadata": {},
     "output_type": "execute_result"
    }
   ],
   "source": [
    "train.head()"
   ]
  },
  {
   "cell_type": "code",
   "execution_count": 642,
   "id": "grave-serial",
   "metadata": {},
   "outputs": [],
   "source": [
    "pd.set_option('display.float_format', lambda x: '%.5f' % x)"
   ]
  },
  {
   "cell_type": "code",
   "execution_count": 643,
   "id": "parliamentary-sampling",
   "metadata": {},
   "outputs": [
    {
     "data": {
      "text/plain": [
       "count      79853.00000\n",
       "mean      208847.17118\n",
       "std       496582.59726\n",
       "min        24030.00000\n",
       "25%       108010.00000\n",
       "50%       166560.00000\n",
       "75%       252090.00000\n",
       "max     90262600.00000\n",
       "Name: Income, dtype: float64"
      ]
     },
     "execution_count": 643,
     "metadata": {},
     "output_type": "execute_result"
    }
   ],
   "source": [
    "train['Income'].describe()"
   ]
  },
  {
   "cell_type": "code",
   "execution_count": 644,
   "id": "gothic-reliance",
   "metadata": {},
   "outputs": [
    {
     "data": {
      "text/plain": [
       "count      79853.00000\n",
       "mean      208847.17118\n",
       "std       496582.59726\n",
       "min        24030.00000\n",
       "6%         57951.20000\n",
       "7%         60120.00000\n",
       "50%       166560.00000\n",
       "98%       600050.00000\n",
       "max     90262600.00000\n",
       "Name: Income, dtype: float64"
      ]
     },
     "execution_count": 644,
     "metadata": {},
     "output_type": "execute_result"
    }
   ],
   "source": [
    "train['Income'].describe(percentiles = [.98, .07, .06])"
   ]
  },
  {
   "cell_type": "markdown",
   "id": "married-december",
   "metadata": {},
   "source": [
    "Dealing With the Outlier in Income"
   ]
  },
  {
   "cell_type": "code",
   "execution_count": 645,
   "id": "induced-hughes",
   "metadata": {
    "scrolled": true
   },
   "outputs": [
    {
     "data": {
      "image/png": "[encoded data removed]",
      "text/plain": [
       "<Figure size 432x288 with 1 Axes>"
      ]
     },
     "metadata": {
      "needs_background": "light"
     },
     "output_type": "display_data"
    }
   ],
   "source": [
    "plt.hist(train['Income'])\n",
    "plt.show()"
   ]
  },
  {
   "cell_type": "code",
   "execution_count": 646,
   "id": "present-length",
   "metadata": {},
   "outputs": [
    {
     "name": "stdout",
     "output_type": "stream",
     "text": [
      "0.10000    71200.00000\n",
      "0.95000   450050.00000\n",
      "Name: Income, dtype: float64\n"
     ]
    }
   ],
   "source": [
    "upper_bound = 0.95\n",
    "lower_bound = 0.1\n",
    "res = train['Income'].quantile([lower_bound, upper_bound])\n",
    "print(res)"
   ]
  },
  {
   "cell_type": "code",
   "execution_count": 647,
   "id": "different-cowboy",
   "metadata": {},
   "outputs": [
    {
     "data": {
      "text/plain": [
       "0        True\n",
       "1        True\n",
       "2        True\n",
       "3        True\n",
       "4        True\n",
       "         ... \n",
       "79848    True\n",
       "79849    True\n",
       "79850    True\n",
       "79851    True\n",
       "79852    True\n",
       "Name: Income, Length: 79853, dtype: bool"
      ]
     },
     "execution_count": 647,
     "metadata": {},
     "output_type": "execute_result"
    }
   ],
   "source": [
    "true_index = (train['Income'] < res.loc[upper_bound])\n",
    "true_index"
   ]
  },
  {
   "cell_type": "code",
   "execution_count": 648,
   "id": "going-willow",
   "metadata": {},
   "outputs": [],
   "source": [
    "false_index = ~true_index"
   ]
  },
  {
   "cell_type": "code",
   "execution_count": 649,
   "id": "sublime-decline",
   "metadata": {},
   "outputs": [
    {
     "data": {
      "text/html": [
       "<div>\n",
       "<style scoped>\n",
       "    .dataframe tbody tr th:only-of-type {\n",
       "        vertical-align: middle;\n",
       "    }\n",
       "\n",
       "    .dataframe tbody tr th {\n",
       "        vertical-align: top;\n",
       "    }\n",
       "\n",
       "    .dataframe thead th {\n",
       "        text-align: right;\n",
       "    }\n",
       "</style>\n",
       "<table border=\"1\" class=\"dataframe\">\n",
       "  <thead>\n",
       "    <tr style=\"text-align: right;\">\n",
       "      <th></th>\n",
       "      <th>perc_premium_paid_by_cash_credit</th>\n",
       "      <th>Income</th>\n",
       "      <th>Count_3-6_months_late</th>\n",
       "      <th>Count_6-12_months_late</th>\n",
       "      <th>Count_more_than_12_months_late</th>\n",
       "      <th>application_underwriting_score</th>\n",
       "      <th>no_of_premiums_paid</th>\n",
       "      <th>sourcing_channel</th>\n",
       "      <th>residence_area_type</th>\n",
       "      <th>target</th>\n",
       "      <th>age</th>\n",
       "    </tr>\n",
       "  </thead>\n",
       "  <tbody>\n",
       "    <tr>\n",
       "      <th>0</th>\n",
       "      <td>0.42900</td>\n",
       "      <td>355060</td>\n",
       "      <td>0.00000</td>\n",
       "      <td>0.00000</td>\n",
       "      <td>0.00000</td>\n",
       "      <td>99.02000</td>\n",
       "      <td>13</td>\n",
       "      <td>2</td>\n",
       "      <td>1</td>\n",
       "      <td>1</td>\n",
       "      <td>0</td>\n",
       "    </tr>\n",
       "    <tr>\n",
       "      <th>1</th>\n",
       "      <td>0.01000</td>\n",
       "      <td>315150</td>\n",
       "      <td>0.00000</td>\n",
       "      <td>0.00000</td>\n",
       "      <td>0.00000</td>\n",
       "      <td>99.89000</td>\n",
       "      <td>21</td>\n",
       "      <td>0</td>\n",
       "      <td>1</td>\n",
       "      <td>1</td>\n",
       "      <td>2</td>\n",
       "    </tr>\n",
       "    <tr>\n",
       "      <th>2</th>\n",
       "      <td>0.91700</td>\n",
       "      <td>84140</td>\n",
       "      <td>2.00000</td>\n",
       "      <td>3.00000</td>\n",
       "      <td>1.00000</td>\n",
       "      <td>98.69000</td>\n",
       "      <td>7</td>\n",
       "      <td>2</td>\n",
       "      <td>0</td>\n",
       "      <td>0</td>\n",
       "      <td>1</td>\n",
       "    </tr>\n",
       "    <tr>\n",
       "      <th>3</th>\n",
       "      <td>0.04900</td>\n",
       "      <td>250510</td>\n",
       "      <td>0.00000</td>\n",
       "      <td>0.00000</td>\n",
       "      <td>0.00000</td>\n",
       "      <td>99.57000</td>\n",
       "      <td>9</td>\n",
       "      <td>0</td>\n",
       "      <td>1</td>\n",
       "      <td>1</td>\n",
       "      <td>1</td>\n",
       "    </tr>\n",
       "    <tr>\n",
       "      <th>4</th>\n",
       "      <td>0.05200</td>\n",
       "      <td>198680</td>\n",
       "      <td>0.00000</td>\n",
       "      <td>0.00000</td>\n",
       "      <td>0.00000</td>\n",
       "      <td>99.87000</td>\n",
       "      <td>12</td>\n",
       "      <td>1</td>\n",
       "      <td>1</td>\n",
       "      <td>1</td>\n",
       "      <td>3</td>\n",
       "    </tr>\n",
       "  </tbody>\n",
       "</table>\n",
       "</div>"
      ],
      "text/plain": [
       "   perc_premium_paid_by_cash_credit  Income  Count_3-6_months_late  \\\n",
       "0                           0.42900  355060                0.00000   \n",
       "1                           0.01000  315150                0.00000   \n",
       "2                           0.91700   84140                2.00000   \n",
       "3                           0.04900  250510                0.00000   \n",
       "4                           0.05200  198680                0.00000   \n",
       "\n",
       "   Count_6-12_months_late  Count_more_than_12_months_late  \\\n",
       "0                 0.00000                         0.00000   \n",
       "1                 0.00000                         0.00000   \n",
       "2                 3.00000                         1.00000   \n",
       "3                 0.00000                         0.00000   \n",
       "4                 0.00000                         0.00000   \n",
       "\n",
       "   application_underwriting_score  no_of_premiums_paid  sourcing_channel  \\\n",
       "0                        99.02000                   13                 2   \n",
       "1                        99.89000                   21                 0   \n",
       "2                        98.69000                    7                 2   \n",
       "3                        99.57000                    9                 0   \n",
       "4                        99.87000                   12                 1   \n",
       "\n",
       "   residence_area_type  target  age  \n",
       "0                    1       1    0  \n",
       "1                    1       1    2  \n",
       "2                    0       0    1  \n",
       "3                    1       1    1  \n",
       "4                    1       1    3  "
      ]
     },
     "execution_count": 649,
     "metadata": {},
     "output_type": "execute_result"
    }
   ],
   "source": [
    "no_outlier_data = train[true_index].copy()\n",
    "no_outlier_data.head()"
   ]
  },
  {
   "cell_type": "markdown",
   "id": "dutch-murder",
   "metadata": {},
   "source": [
    "Makes Groups For Income"
   ]
  },
  {
   "cell_type": "code",
   "execution_count": 650,
   "id": "local-cisco",
   "metadata": {
    "scrolled": false
   },
   "outputs": [
    {
     "data": {
      "text/html": [
       "<div>\n",
       "<style scoped>\n",
       "    .dataframe tbody tr th:only-of-type {\n",
       "        vertical-align: middle;\n",
       "    }\n",
       "\n",
       "    .dataframe tbody tr th {\n",
       "        vertical-align: top;\n",
       "    }\n",
       "\n",
       "    .dataframe thead th {\n",
       "        text-align: right;\n",
       "    }\n",
       "</style>\n",
       "<table border=\"1\" class=\"dataframe\">\n",
       "  <thead>\n",
       "    <tr style=\"text-align: right;\">\n",
       "      <th></th>\n",
       "      <th>Income</th>\n",
       "      <th>target</th>\n",
       "    </tr>\n",
       "  </thead>\n",
       "  <tbody>\n",
       "    <tr>\n",
       "      <th>0</th>\n",
       "      <td>(23603.99, 109232.0]</td>\n",
       "      <td>20493</td>\n",
       "    </tr>\n",
       "    <tr>\n",
       "      <th>1</th>\n",
       "      <td>(109232.0, 194434.0]</td>\n",
       "      <td>26922</td>\n",
       "    </tr>\n",
       "    <tr>\n",
       "      <th>2</th>\n",
       "      <td>(194434.0, 279636.0]</td>\n",
       "      <td>16575</td>\n",
       "    </tr>\n",
       "    <tr>\n",
       "      <th>3</th>\n",
       "      <td>(279636.0, 364838.0]</td>\n",
       "      <td>8587</td>\n",
       "    </tr>\n",
       "    <tr>\n",
       "      <th>4</th>\n",
       "      <td>(364838.0, 450040.0]</td>\n",
       "      <td>3269</td>\n",
       "    </tr>\n",
       "  </tbody>\n",
       "</table>\n",
       "</div>"
      ],
      "text/plain": [
       "                 Income  target\n",
       "0  (23603.99, 109232.0]   20493\n",
       "1  (109232.0, 194434.0]   26922\n",
       "2  (194434.0, 279636.0]   16575\n",
       "3  (279636.0, 364838.0]    8587\n",
       "4  (364838.0, 450040.0]    3269"
      ]
     },
     "execution_count": 650,
     "metadata": {},
     "output_type": "execute_result"
    }
   ],
   "source": [
    "no_outlier_data['Income'] = pd.cut(no_outlier_data['Income'], 5)\n",
    "no_outlier_data[['Income', 'target']].groupby('Income', as_index = False).count()"
   ]
  },
  {
   "cell_type": "code",
   "execution_count": 651,
   "id": "chemical-australia",
   "metadata": {},
   "outputs": [],
   "source": [
    "train.loc[ train['Income'] <= 23603.99, 'Income'] = 0\n",
    "train.loc[(train['Income'] > 23603.99) & (train['Income'] <= 109232.0), 'Income'] = 1\n",
    "train.loc[(train['Income'] > 109232.0) & (train['Income'] <= 194434.0), 'Income'] = 2\n",
    "train.loc[(train['Income'] > 194434.0) & (train['Income'] <= 279636.0), 'Income'] = 3\n",
    "train.loc[(train['Income'] > 279636.0) & (train['Income'] <= 364838.0), 'Income'] = 4\n",
    "train.loc[(train['Income'] > 364838.0) & (train['Income'] <= 450040.0), 'Income'] = 5\n",
    "train.loc[ train['Income'] > 450040.0, 'Income'] = 6"
   ]
  },
  {
   "cell_type": "code",
   "execution_count": 652,
   "id": "light-suggestion",
   "metadata": {},
   "outputs": [],
   "source": [
    "train.loc[false_index, 'Income'] = 5"
   ]
  },
  {
   "cell_type": "code",
   "execution_count": 653,
   "id": "engaged-companion",
   "metadata": {},
   "outputs": [
    {
     "data": {
      "text/html": [
       "<div>\n",
       "<style scoped>\n",
       "    .dataframe tbody tr th:only-of-type {\n",
       "        vertical-align: middle;\n",
       "    }\n",
       "\n",
       "    .dataframe tbody tr th {\n",
       "        vertical-align: top;\n",
       "    }\n",
       "\n",
       "    .dataframe thead th {\n",
       "        text-align: right;\n",
       "    }\n",
       "</style>\n",
       "<table border=\"1\" class=\"dataframe\">\n",
       "  <thead>\n",
       "    <tr style=\"text-align: right;\">\n",
       "      <th></th>\n",
       "      <th>perc_premium_paid_by_cash_credit</th>\n",
       "      <th>Income</th>\n",
       "      <th>Count_3-6_months_late</th>\n",
       "      <th>Count_6-12_months_late</th>\n",
       "      <th>Count_more_than_12_months_late</th>\n",
       "      <th>application_underwriting_score</th>\n",
       "      <th>no_of_premiums_paid</th>\n",
       "      <th>sourcing_channel</th>\n",
       "      <th>residence_area_type</th>\n",
       "      <th>target</th>\n",
       "      <th>age</th>\n",
       "    </tr>\n",
       "  </thead>\n",
       "  <tbody>\n",
       "    <tr>\n",
       "      <th>0</th>\n",
       "      <td>0.42900</td>\n",
       "      <td>4</td>\n",
       "      <td>0.00000</td>\n",
       "      <td>0.00000</td>\n",
       "      <td>0.00000</td>\n",
       "      <td>99.02000</td>\n",
       "      <td>13</td>\n",
       "      <td>2</td>\n",
       "      <td>1</td>\n",
       "      <td>1</td>\n",
       "      <td>0</td>\n",
       "    </tr>\n",
       "    <tr>\n",
       "      <th>1</th>\n",
       "      <td>0.01000</td>\n",
       "      <td>4</td>\n",
       "      <td>0.00000</td>\n",
       "      <td>0.00000</td>\n",
       "      <td>0.00000</td>\n",
       "      <td>99.89000</td>\n",
       "      <td>21</td>\n",
       "      <td>0</td>\n",
       "      <td>1</td>\n",
       "      <td>1</td>\n",
       "      <td>2</td>\n",
       "    </tr>\n",
       "    <tr>\n",
       "      <th>2</th>\n",
       "      <td>0.91700</td>\n",
       "      <td>1</td>\n",
       "      <td>2.00000</td>\n",
       "      <td>3.00000</td>\n",
       "      <td>1.00000</td>\n",
       "      <td>98.69000</td>\n",
       "      <td>7</td>\n",
       "      <td>2</td>\n",
       "      <td>0</td>\n",
       "      <td>0</td>\n",
       "      <td>1</td>\n",
       "    </tr>\n",
       "    <tr>\n",
       "      <th>3</th>\n",
       "      <td>0.04900</td>\n",
       "      <td>3</td>\n",
       "      <td>0.00000</td>\n",
       "      <td>0.00000</td>\n",
       "      <td>0.00000</td>\n",
       "      <td>99.57000</td>\n",
       "      <td>9</td>\n",
       "      <td>0</td>\n",
       "      <td>1</td>\n",
       "      <td>1</td>\n",
       "      <td>1</td>\n",
       "    </tr>\n",
       "    <tr>\n",
       "      <th>4</th>\n",
       "      <td>0.05200</td>\n",
       "      <td>3</td>\n",
       "      <td>0.00000</td>\n",
       "      <td>0.00000</td>\n",
       "      <td>0.00000</td>\n",
       "      <td>99.87000</td>\n",
       "      <td>12</td>\n",
       "      <td>1</td>\n",
       "      <td>1</td>\n",
       "      <td>1</td>\n",
       "      <td>3</td>\n",
       "    </tr>\n",
       "  </tbody>\n",
       "</table>\n",
       "</div>"
      ],
      "text/plain": [
       "   perc_premium_paid_by_cash_credit  Income  Count_3-6_months_late  \\\n",
       "0                           0.42900       4                0.00000   \n",
       "1                           0.01000       4                0.00000   \n",
       "2                           0.91700       1                2.00000   \n",
       "3                           0.04900       3                0.00000   \n",
       "4                           0.05200       3                0.00000   \n",
       "\n",
       "   Count_6-12_months_late  Count_more_than_12_months_late  \\\n",
       "0                 0.00000                         0.00000   \n",
       "1                 0.00000                         0.00000   \n",
       "2                 3.00000                         1.00000   \n",
       "3                 0.00000                         0.00000   \n",
       "4                 0.00000                         0.00000   \n",
       "\n",
       "   application_underwriting_score  no_of_premiums_paid  sourcing_channel  \\\n",
       "0                        99.02000                   13                 2   \n",
       "1                        99.89000                   21                 0   \n",
       "2                        98.69000                    7                 2   \n",
       "3                        99.57000                    9                 0   \n",
       "4                        99.87000                   12                 1   \n",
       "\n",
       "   residence_area_type  target  age  \n",
       "0                    1       1    0  \n",
       "1                    1       1    2  \n",
       "2                    0       0    1  \n",
       "3                    1       1    1  \n",
       "4                    1       1    3  "
      ]
     },
     "execution_count": 653,
     "metadata": {},
     "output_type": "execute_result"
    }
   ],
   "source": [
    "train.head()"
   ]
  },
  {
   "cell_type": "markdown",
   "id": "surgical-brick",
   "metadata": {},
   "source": [
    "Difference Between premiums and defaulters Grouping based on age"
   ]
  },
  {
   "cell_type": "code",
   "execution_count": 654,
   "id": "appreciated-restaurant",
   "metadata": {},
   "outputs": [
    {
     "data": {
      "text/plain": [
       "<AxesSubplot:xlabel='target', ylabel='count'>"
      ]
     },
     "execution_count": 654,
     "metadata": {},
     "output_type": "execute_result"
    },
    {
     "data": {
      "image/png": "[encoded data removed]",
      "text/plain": [
       "<Figure size 432x288 with 1 Axes>"
      ]
     },
     "metadata": {},
     "output_type": "display_data"
    }
   ],
   "source": [
    "sns.set_style('whitegrid')\n",
    "sns.countplot(x='target',hue='age',data=train,palette='rainbow')"
   ]
  },
  {
   "cell_type": "markdown",
   "id": "settled-abraham",
   "metadata": {},
   "source": [
    "Difference Between premiums and defaulters Grouping based on Sourcing Channel"
   ]
  },
  {
   "cell_type": "code",
   "execution_count": 655,
   "id": "twenty-lobby",
   "metadata": {},
   "outputs": [
    {
     "data": {
      "text/plain": [
       "<AxesSubplot:xlabel='target', ylabel='count'>"
      ]
     },
     "execution_count": 655,
     "metadata": {},
     "output_type": "execute_result"
    },
    {
     "data": {
      "image/png": "[encoded data removed]",
      "text/plain": [
       "<Figure size 432x288 with 1 Axes>"
      ]
     },
     "metadata": {},
     "output_type": "display_data"
    }
   ],
   "source": [
    "sns.set_style('whitegrid')\n",
    "sns.countplot(x='target',hue='sourcing_channel',data=train,palette='rainbow')"
   ]
  },
  {
   "cell_type": "code",
   "execution_count": 656,
   "id": "proved-capture",
   "metadata": {
    "scrolled": true
   },
   "outputs": [
    {
     "data": {
      "text/plain": [
       "<AxesSubplot:xlabel='target', ylabel='count'>"
      ]
     },
     "execution_count": 656,
     "metadata": {},
     "output_type": "execute_result"
    },
    {
     "data": {
      "image/png": "[encoded data removed]",
      "text/plain": [
       "<Figure size 432x288 with 1 Axes>"
      ]
     },
     "metadata": {},
     "output_type": "display_data"
    }
   ],
   "source": [
    "sns.set_style('whitegrid')\n",
    "sns.countplot(x='target',hue='residence_area_type',data=train,palette='rainbow')"
   ]
  },
  {
   "cell_type": "code",
   "execution_count": 671,
   "id": "ceramic-boards",
   "metadata": {},
   "outputs": [
    {
     "data": {
      "text/plain": [
       "<AxesSubplot:xlabel='age', ylabel='Count_more_than_12_months_late'>"
      ]
     },
     "execution_count": 671,
     "metadata": {},
     "output_type": "execute_result"
    },
    {
     "data": {
      "image/png": "[encoded data removed]",
      "text/plain": [
       "<Figure size 720x360 with 1 Axes>"
      ]
     },
     "metadata": {},
     "output_type": "display_data"
    }
   ],
   "source": [
    "plt.figure(figsize=(10,5))\n",
    "sns.boxplot(y='Count_more_than_12_months_late',x='age',data=train)"
   ]
  },
  {
   "cell_type": "code",
   "execution_count": null,
   "id": "posted-certification",
   "metadata": {},
   "outputs": [],
   "source": []
  },
  {
   "cell_type": "code",
   "execution_count": null,
   "id": "involved-maryland",
   "metadata": {},
   "outputs": [],
   "source": []
  },
  {
   "cell_type": "markdown",
   "id": "settled-circular",
   "metadata": {},
   "source": [
    "# 17-05-1996"
   ]
  },
  {
   "cell_type": "markdown",
   "id": "compact-renaissance",
   "metadata": {},
   "source": [
    "# Dealing with Missing Values"
   ]
  },
  {
   "cell_type": "code",
   "execution_count": null,
   "id": "front-occasion",
   "metadata": {},
   "outputs": [],
   "source": []
  },
  {
   "cell_type": "code",
   "execution_count": 564,
   "id": "manufactured-white",
   "metadata": {},
   "outputs": [
    {
     "data": {
      "text/plain": [
       "<AxesSubplot:>"
      ]
     },
     "execution_count": 564,
     "metadata": {},
     "output_type": "execute_result"
    },
    {
     "data": {
      "image/png": "[encoded data removed]",
      "text/plain": [
       "<Figure size 432x288 with 1 Axes>"
      ]
     },
     "metadata": {},
     "output_type": "display_data"
    }
   ],
   "source": [
    "sns.heatmap(train.isnull(),yticklabels=False,cbar=False,cmap='viridis')"
   ]
  },
  {
   "cell_type": "markdown",
   "id": "corresponding-developer",
   "metadata": {},
   "source": [
    "In Applicaton there are missing values"
   ]
  },
  {
   "cell_type": "code",
   "execution_count": 565,
   "id": "reported-delaware",
   "metadata": {},
   "outputs": [
    {
     "data": {
      "text/plain": [
       "perc_premium_paid_by_cash_credit       0\n",
       "Income                                 0\n",
       "Count_3-6_months_late                 97\n",
       "Count_6-12_months_late                97\n",
       "Count_more_than_12_months_late        97\n",
       "application_underwriting_score      2974\n",
       "no_of_premiums_paid                    0\n",
       "sourcing_channel                       0\n",
       "residence_area_type                    0\n",
       "target                                 0\n",
       "age                                    0\n",
       "dtype: int64"
      ]
     },
     "execution_count": 565,
     "metadata": {},
     "output_type": "execute_result"
    }
   ],
   "source": [
    "train.isnull().sum()"
   ]
  },
  {
   "cell_type": "markdown",
   "id": "substantial-catholic",
   "metadata": {},
   "source": [
    "Count 3-6 months, Count 6-12 months, Count more than 12 months all three have '97' Missing Values\n",
    "#Application_underwriting_score having 2974 Missing Values\n"
   ]
  },
  {
   "cell_type": "code",
   "execution_count": 566,
   "id": "pediatric-dragon",
   "metadata": {},
   "outputs": [
    {
     "data": {
      "text/plain": [
       "99.06729119785638"
      ]
     },
     "execution_count": 566,
     "metadata": {},
     "output_type": "execute_result"
    }
   ],
   "source": [
    "train['application_underwriting_score'].mean()"
   ]
  },
  {
   "cell_type": "code",
   "execution_count": 567,
   "id": "united-correlation",
   "metadata": {},
   "outputs": [
    {
     "data": {
      "text/plain": [
       "99.21"
      ]
     },
     "execution_count": 567,
     "metadata": {},
     "output_type": "execute_result"
    }
   ],
   "source": [
    "train['application_underwriting_score'].median()"
   ]
  },
  {
   "cell_type": "code",
   "execution_count": 568,
   "id": "figured-familiar",
   "metadata": {},
   "outputs": [
    {
     "data": {
      "text/html": [
       "<div>\n",
       "<style scoped>\n",
       "    .dataframe tbody tr th:only-of-type {\n",
       "        vertical-align: middle;\n",
       "    }\n",
       "\n",
       "    .dataframe tbody tr th {\n",
       "        vertical-align: top;\n",
       "    }\n",
       "\n",
       "    .dataframe thead th {\n",
       "        text-align: right;\n",
       "    }\n",
       "</style>\n",
       "<table border=\"1\" class=\"dataframe\">\n",
       "  <thead>\n",
       "    <tr style=\"text-align: right;\">\n",
       "      <th></th>\n",
       "      <th>application_underwriting_score</th>\n",
       "    </tr>\n",
       "    <tr>\n",
       "      <th>age</th>\n",
       "      <th></th>\n",
       "    </tr>\n",
       "  </thead>\n",
       "  <tbody>\n",
       "    <tr>\n",
       "      <th>0</th>\n",
       "      <td>99.14585</td>\n",
       "    </tr>\n",
       "    <tr>\n",
       "      <th>1</th>\n",
       "      <td>98.97855</td>\n",
       "    </tr>\n",
       "    <tr>\n",
       "      <th>2</th>\n",
       "      <td>99.05765</td>\n",
       "    </tr>\n",
       "    <tr>\n",
       "      <th>3</th>\n",
       "      <td>99.30046</td>\n",
       "    </tr>\n",
       "    <tr>\n",
       "      <th>4</th>\n",
       "      <td>99.53748</td>\n",
       "    </tr>\n",
       "  </tbody>\n",
       "</table>\n",
       "</div>"
      ],
      "text/plain": [
       "     application_underwriting_score\n",
       "age                                \n",
       "0                          99.14585\n",
       "1                          98.97855\n",
       "2                          99.05765\n",
       "3                          99.30046\n",
       "4                          99.53748"
      ]
     },
     "execution_count": 568,
     "metadata": {},
     "output_type": "execute_result"
    }
   ],
   "source": [
    "train[['age', 'application_underwriting_score']].groupby('age').mean()"
   ]
  },
  {
   "cell_type": "code",
   "execution_count": 569,
   "id": "studied-township",
   "metadata": {},
   "outputs": [
    {
     "data": {
      "text/html": [
       "<div>\n",
       "<style scoped>\n",
       "    .dataframe tbody tr th:only-of-type {\n",
       "        vertical-align: middle;\n",
       "    }\n",
       "\n",
       "    .dataframe tbody tr th {\n",
       "        vertical-align: top;\n",
       "    }\n",
       "\n",
       "    .dataframe thead th {\n",
       "        text-align: right;\n",
       "    }\n",
       "</style>\n",
       "<table border=\"1\" class=\"dataframe\">\n",
       "  <thead>\n",
       "    <tr style=\"text-align: right;\">\n",
       "      <th></th>\n",
       "      <th>application_underwriting_score</th>\n",
       "    </tr>\n",
       "    <tr>\n",
       "      <th>sourcing_channel</th>\n",
       "      <th></th>\n",
       "    </tr>\n",
       "  </thead>\n",
       "  <tbody>\n",
       "    <tr>\n",
       "      <th>0</th>\n",
       "      <td>99.10243</td>\n",
       "    </tr>\n",
       "    <tr>\n",
       "      <th>1</th>\n",
       "      <td>99.05586</td>\n",
       "    </tr>\n",
       "    <tr>\n",
       "      <th>2</th>\n",
       "      <td>98.97951</td>\n",
       "    </tr>\n",
       "    <tr>\n",
       "      <th>3</th>\n",
       "      <td>99.03836</td>\n",
       "    </tr>\n",
       "    <tr>\n",
       "      <th>4</th>\n",
       "      <td>99.06798</td>\n",
       "    </tr>\n",
       "  </tbody>\n",
       "</table>\n",
       "</div>"
      ],
      "text/plain": [
       "                  application_underwriting_score\n",
       "sourcing_channel                                \n",
       "0                                       99.10243\n",
       "1                                       99.05586\n",
       "2                                       98.97951\n",
       "3                                       99.03836\n",
       "4                                       99.06798"
      ]
     },
     "execution_count": 569,
     "metadata": {},
     "output_type": "execute_result"
    }
   ],
   "source": [
    "train[['sourcing_channel', 'application_underwriting_score']].groupby('sourcing_channel').mean()"
   ]
  },
  {
   "cell_type": "code",
   "execution_count": 570,
   "id": "ready-banking",
   "metadata": {},
   "outputs": [
    {
     "data": {
      "text/html": [
       "<div>\n",
       "<style scoped>\n",
       "    .dataframe tbody tr th:only-of-type {\n",
       "        vertical-align: middle;\n",
       "    }\n",
       "\n",
       "    .dataframe tbody tr th {\n",
       "        vertical-align: top;\n",
       "    }\n",
       "\n",
       "    .dataframe thead th {\n",
       "        text-align: right;\n",
       "    }\n",
       "</style>\n",
       "<table border=\"1\" class=\"dataframe\">\n",
       "  <thead>\n",
       "    <tr style=\"text-align: right;\">\n",
       "      <th></th>\n",
       "      <th>application_underwriting_score</th>\n",
       "    </tr>\n",
       "    <tr>\n",
       "      <th>Income</th>\n",
       "      <th></th>\n",
       "    </tr>\n",
       "  </thead>\n",
       "  <tbody>\n",
       "    <tr>\n",
       "      <th>1</th>\n",
       "      <td>98.85518</td>\n",
       "    </tr>\n",
       "    <tr>\n",
       "      <th>2</th>\n",
       "      <td>99.06835</td>\n",
       "    </tr>\n",
       "    <tr>\n",
       "      <th>3</th>\n",
       "      <td>99.14398</td>\n",
       "    </tr>\n",
       "    <tr>\n",
       "      <th>4</th>\n",
       "      <td>99.22309</td>\n",
       "    </tr>\n",
       "    <tr>\n",
       "      <th>5</th>\n",
       "      <td>99.27644</td>\n",
       "    </tr>\n",
       "  </tbody>\n",
       "</table>\n",
       "</div>"
      ],
      "text/plain": [
       "        application_underwriting_score\n",
       "Income                                \n",
       "1                             98.85518\n",
       "2                             99.06835\n",
       "3                             99.14398\n",
       "4                             99.22309\n",
       "5                             99.27644"
      ]
     },
     "execution_count": 570,
     "metadata": {},
     "output_type": "execute_result"
    }
   ],
   "source": [
    "train[['Income', 'application_underwriting_score']].groupby('Income').mean()"
   ]
  },
  {
   "cell_type": "markdown",
   "id": "outstanding-graduation",
   "metadata": {},
   "source": [
    "Filling Missing Values With Mean of Application based on Income Group"
   ]
  },
  {
   "cell_type": "code",
   "execution_count": 688,
   "id": "listed-olympus",
   "metadata": {},
   "outputs": [],
   "source": [
    "for dataset in [train]: \n",
    "    mask1 = dataset['application_underwriting_score'].isnull()\n",
    "    for source in [0, 1, 2, 3, 4,5,6,7]:\n",
    "        mask2 = (dataset['Income'] == source)\n",
    "        source_mean = dataset[dataset['Income'] == source]['application_underwriting_score'].mean()\n",
    "        dataset.loc[mask1 & mask2, 'application_underwriting_score'] = source_mean\n"
   ]
  },
  {
   "cell_type": "markdown",
   "id": "animal-disclosure",
   "metadata": {},
   "source": [
    "Let us again have a look for missing values now."
   ]
  },
  {
   "cell_type": "code",
   "execution_count": 689,
   "id": "mechanical-rider",
   "metadata": {},
   "outputs": [
    {
     "data": {
      "text/plain": [
       "perc_premium_paid_by_cash_credit     0\n",
       "Income                               0\n",
       "Count_3-6_months_late               97\n",
       "Count_6-12_months_late              97\n",
       "Count_more_than_12_months_late      97\n",
       "application_underwriting_score       0\n",
       "no_of_premiums_paid                  0\n",
       "sourcing_channel                     0\n",
       "residence_area_type                  0\n",
       "target                               0\n",
       "age                                  0\n",
       "dtype: int64"
      ]
     },
     "execution_count": 689,
     "metadata": {},
     "output_type": "execute_result"
    }
   ],
   "source": [
    "train.isnull().sum()"
   ]
  },
  {
   "cell_type": "markdown",
   "id": "interested-surge",
   "metadata": {},
   "source": [
    "Let us now remove the rows of missing values in order to get rid of missing values. As the number is small, we can remove them."
   ]
  },
  {
   "cell_type": "code",
   "execution_count": 573,
   "id": "polar-steel",
   "metadata": {},
   "outputs": [],
   "source": [
    "#null_data = train[train.isnull().any(axis=1)]"
   ]
  },
  {
   "cell_type": "code",
   "execution_count": 685,
   "id": "planned-humidity",
   "metadata": {},
   "outputs": [],
   "source": [
    "df=  train.dropna(axis=0,how='any')"
   ]
  },
  {
   "cell_type": "code",
   "execution_count": 686,
   "id": "conservative-motivation",
   "metadata": {
    "scrolled": true
   },
   "outputs": [
    {
     "data": {
      "text/plain": [
       "perc_premium_paid_by_cash_credit    0\n",
       "Income                              0\n",
       "Count_3-6_months_late               0\n",
       "Count_6-12_months_late              0\n",
       "Count_more_than_12_months_late      0\n",
       "application_underwriting_score      0\n",
       "no_of_premiums_paid                 0\n",
       "sourcing_channel                    0\n",
       "residence_area_type                 0\n",
       "target                              0\n",
       "age                                 0\n",
       "dtype: int64"
      ]
     },
     "execution_count": 686,
     "metadata": {},
     "output_type": "execute_result"
    }
   ],
   "source": [
    "df.isnull().sum()"
   ]
  },
  {
   "cell_type": "markdown",
   "id": "spectacular-width",
   "metadata": {},
   "source": [
    "Finally there are no missing values in the dataset."
   ]
  },
  {
   "cell_type": "code",
   "execution_count": 684,
   "id": "collective-cursor",
   "metadata": {},
   "outputs": [
    {
     "data": {
      "text/plain": [
       "<AxesSubplot:>"
      ]
     },
     "execution_count": 684,
     "metadata": {},
     "output_type": "execute_result"
    },
    {
     "data": {
      "image/png": "[encoded data removed]",
      "text/plain": [
       "<Figure size 432x288 with 1 Axes>"
      ]
     },
     "metadata": {},
     "output_type": "display_data"
    }
   ],
   "source": [
    "sns.heatmap(df.isnull(),yticklabels=False,cbar=False,cmap='viridis')"
   ]
  },
  {
   "cell_type": "code",
   "execution_count": 576,
   "id": "assumed-heather",
   "metadata": {},
   "outputs": [
    {
     "data": {
      "text/plain": [
       "Index(['perc_premium_paid_by_cash_credit', 'Income', 'Count_3-6_months_late',\n",
       "       'Count_6-12_months_late', 'Count_more_than_12_months_late',\n",
       "       'application_underwriting_score', 'no_of_premiums_paid',\n",
       "       'sourcing_channel', 'residence_area_type', 'target', 'age'],\n",
       "      dtype='object')"
      ]
     },
     "execution_count": 576,
     "metadata": {},
     "output_type": "execute_result"
    }
   ],
   "source": [
    "df.columns"
   ]
  },
  {
   "cell_type": "markdown",
   "id": "fatty-bridge",
   "metadata": {},
   "source": [
    "# Model Building and Evaluation"
   ]
  },
  {
   "cell_type": "markdown",
   "id": "tamil-immune",
   "metadata": {},
   "source": [
    "# Logistic Regression"
   ]
  },
  {
   "cell_type": "markdown",
   "id": "widespread-palestine",
   "metadata": {},
   "source": [
    "Let's make the data splits"
   ]
  },
  {
   "cell_type": "code",
   "execution_count": 577,
   "id": "constitutional-designer",
   "metadata": {},
   "outputs": [],
   "source": [
    "x=df.drop('target',axis=1)"
   ]
  },
  {
   "cell_type": "code",
   "execution_count": 578,
   "id": "direct-forth",
   "metadata": {},
   "outputs": [
    {
     "data": {
      "text/plain": [
       "(79756, 10)"
      ]
     },
     "execution_count": 578,
     "metadata": {},
     "output_type": "execute_result"
    }
   ],
   "source": [
    "x.shape"
   ]
  },
  {
   "cell_type": "code",
   "execution_count": 579,
   "id": "funded-locator",
   "metadata": {},
   "outputs": [],
   "source": [
    "y= df['target']"
   ]
  },
  {
   "cell_type": "code",
   "execution_count": 580,
   "id": "english-latvia",
   "metadata": {
    "scrolled": true
   },
   "outputs": [
    {
     "data": {
      "text/plain": [
       "(79756,)"
      ]
     },
     "execution_count": 580,
     "metadata": {},
     "output_type": "execute_result"
    }
   ],
   "source": [
    "y.shape"
   ]
  },
  {
   "cell_type": "code",
   "execution_count": 581,
   "id": "suitable-monster",
   "metadata": {},
   "outputs": [],
   "source": [
    "from sklearn.model_selection import train_test_split"
   ]
  },
  {
   "cell_type": "code",
   "execution_count": 582,
   "id": "wireless-governor",
   "metadata": {},
   "outputs": [],
   "source": [
    "X_train, X_test, y_train, y_test = train_test_split(x, y, test_size=0.4, random_state=101)"
   ]
  },
  {
   "cell_type": "code",
   "execution_count": null,
   "id": "molecular-novel",
   "metadata": {},
   "outputs": [],
   "source": []
  },
  {
   "cell_type": "code",
   "execution_count": null,
   "id": "hydraulic-allah",
   "metadata": {},
   "outputs": [],
   "source": []
  },
  {
   "cell_type": "code",
   "execution_count": 583,
   "id": "quality-opportunity",
   "metadata": {},
   "outputs": [],
   "source": [
    "from sklearn.linear_model import LogisticRegression"
   ]
  },
  {
   "cell_type": "code",
   "execution_count": 584,
   "id": "broadband-satisfaction",
   "metadata": {},
   "outputs": [],
   "source": [
    "lr = LogisticRegression()"
   ]
  },
  {
   "cell_type": "code",
   "execution_count": 585,
   "id": "chicken-warren",
   "metadata": {},
   "outputs": [
    {
     "data": {
      "text/plain": [
       "LogisticRegression()"
      ]
     },
     "execution_count": 585,
     "metadata": {},
     "output_type": "execute_result"
    }
   ],
   "source": [
    "lr.fit(X_train,y_train)"
   ]
  },
  {
   "cell_type": "code",
   "execution_count": 586,
   "id": "massive-holder",
   "metadata": {},
   "outputs": [],
   "source": [
    "y_pred = lr.predict(X_test)"
   ]
  },
  {
   "cell_type": "code",
   "execution_count": 587,
   "id": "casual-barrel",
   "metadata": {},
   "outputs": [
    {
     "data": {
      "text/plain": [
       "0.9395440202286168"
      ]
     },
     "execution_count": 587,
     "metadata": {},
     "output_type": "execute_result"
    }
   ],
   "source": [
    "lr.score(X_train,y_train)"
   ]
  },
  {
   "cell_type": "code",
   "execution_count": 588,
   "id": "invisible-plane",
   "metadata": {},
   "outputs": [
    {
     "name": "stdout",
     "output_type": "stream",
     "text": [
      "[[  362   285]\n",
      " [ 2608 44598]]\n",
      "              precision    recall  f1-score   support\n",
      "\n",
      "           0       0.12      0.56      0.20       647\n",
      "           1       0.99      0.94      0.97     47206\n",
      "\n",
      "    accuracy                           0.94     47853\n",
      "   macro avg       0.56      0.75      0.58     47853\n",
      "weighted avg       0.98      0.94      0.96     47853\n",
      "\n"
     ]
    }
   ],
   "source": [
    "acc_log = round(lr.score(X_train, y_train) * 100, 2)\n",
    "acc_log\n",
    "from sklearn.metrics import confusion_matrix\n",
    "from sklearn.metrics import classification_report\n",
    "\n",
    "cm = confusion_matrix(lr.predict(X_train),y_train)\n",
    "print(cm)\n",
    "\n",
    "print(classification_report(lr.predict(X_train),y_train))"
   ]
  },
  {
   "cell_type": "code",
   "execution_count": 589,
   "id": "arranged-appendix",
   "metadata": {},
   "outputs": [
    {
     "name": "stdout",
     "output_type": "stream",
     "text": [
      "TPR =  99.365 %\n",
      "TNR =  12.189 %\n",
      "FPR =  87.811 %\n"
     ]
    }
   ],
   "source": [
    "tnr = np.round(cm[0][0]/(cm[0][0] + cm[1][0]) * 100,3)\n",
    "tpr = np.round(cm[1][1]/(cm[1][1] + cm[0][1]) * 100,3)\n",
    "fpr = np.round(cm[1][0] / (cm[1][0] + cm[0][0]) * 100,3)\n",
    "print('TPR = ',tpr,'%')\n",
    "print('TNR = ',tnr,'%')\n",
    "print('FPR = ',fpr,'%')"
   ]
  },
  {
   "cell_type": "code",
   "execution_count": null,
   "id": "available-greek",
   "metadata": {},
   "outputs": [],
   "source": []
  },
  {
   "cell_type": "code",
   "execution_count": null,
   "id": "thick-bench",
   "metadata": {},
   "outputs": [],
   "source": []
  },
  {
   "cell_type": "markdown",
   "id": "competitive-metro",
   "metadata": {},
   "source": [
    "# Decision Tree"
   ]
  },
  {
   "cell_type": "markdown",
   "id": "ignored-insulin",
   "metadata": {},
   "source": [
    "Let's make the data splits"
   ]
  },
  {
   "cell_type": "code",
   "execution_count": 590,
   "id": "atmospheric-slovenia",
   "metadata": {},
   "outputs": [],
   "source": [
    "from sklearn.model_selection import train_test_split"
   ]
  },
  {
   "cell_type": "code",
   "execution_count": 591,
   "id": "cubic-federation",
   "metadata": {},
   "outputs": [],
   "source": [
    "X_train, X_test, y_train, y_test = train_test_split(x, y, test_size=0.4, random_state=101)"
   ]
  },
  {
   "cell_type": "code",
   "execution_count": 592,
   "id": "active-pittsburgh",
   "metadata": {},
   "outputs": [],
   "source": [
    "from sklearn.tree import DecisionTreeClassifier"
   ]
  },
  {
   "cell_type": "code",
   "execution_count": 593,
   "id": "reliable-stock",
   "metadata": {},
   "outputs": [],
   "source": [
    "clf = DecisionTreeClassifier()"
   ]
  },
  {
   "cell_type": "code",
   "execution_count": 594,
   "id": "collected-climate",
   "metadata": {},
   "outputs": [
    {
     "data": {
      "text/plain": [
       "DecisionTreeClassifier()"
      ]
     },
     "execution_count": 594,
     "metadata": {},
     "output_type": "execute_result"
    }
   ],
   "source": [
    "clf.fit(X_train,y_train)"
   ]
  },
  {
   "cell_type": "code",
   "execution_count": 595,
   "id": "clinical-trinidad",
   "metadata": {},
   "outputs": [
    {
     "data": {
      "text/plain": [
       "0.9992476960692119"
      ]
     },
     "execution_count": 595,
     "metadata": {},
     "output_type": "execute_result"
    }
   ],
   "source": [
    "clf.score(X_train,y_train)"
   ]
  },
  {
   "cell_type": "code",
   "execution_count": 596,
   "id": "interstate-recruitment",
   "metadata": {},
   "outputs": [
    {
     "data": {
      "text/plain": [
       "array([1, 1, 1, ..., 1, 0, 1], dtype=int64)"
      ]
     },
     "execution_count": 596,
     "metadata": {},
     "output_type": "execute_result"
    }
   ],
   "source": [
    "clf.predict(X_test)"
   ]
  },
  {
   "cell_type": "code",
   "execution_count": 597,
   "id": "thirty-sessions",
   "metadata": {},
   "outputs": [
    {
     "data": {
      "text/plain": [
       "0.897783907469517"
      ]
     },
     "execution_count": 597,
     "metadata": {},
     "output_type": "execute_result"
    }
   ],
   "source": [
    "clf.score(X_test,y_test)"
   ]
  },
  {
   "cell_type": "code",
   "execution_count": 598,
   "id": "scenic-theorem",
   "metadata": {},
   "outputs": [
    {
     "name": "stdout",
     "output_type": "stream",
     "text": [
      "[[ 2952    18]\n",
      " [   18 44865]]\n",
      "              precision    recall  f1-score   support\n",
      "\n",
      "           0       0.99      0.99      0.99      2970\n",
      "           1       1.00      1.00      1.00     44883\n",
      "\n",
      "    accuracy                           1.00     47853\n",
      "   macro avg       1.00      1.00      1.00     47853\n",
      "weighted avg       1.00      1.00      1.00     47853\n",
      "\n",
      "TPR =  99.96 %\n",
      "TNR =  99.394 %\n",
      "FPR =  0.606 %\n"
     ]
    }
   ],
   "source": [
    "acc_decision_tree = round(clf.score(X_train, y_train) * 100, 2)\n",
    "acc_decision_tree\n",
    "cm = confusion_matrix(clf.predict(X_train),y_train)\n",
    "print(cm)\n",
    "\n",
    "print(classification_report(clf.predict(X_train),y_train))\n",
    "\n",
    "tnr = np.round(cm[0][0]/(cm[0][0] + cm[1][0]) * 100,3)\n",
    "tpr = np.round(cm[1][1]/(cm[1][1] + cm[0][1]) * 100,3)\n",
    "fpr = np.round(cm[1][0] / (cm[1][0] + cm[0][0]) * 100,3)\n",
    "print('TPR = ',tpr,'%')\n",
    "print('TNR = ',tnr,'%')\n",
    "print('FPR = ',fpr,'%')"
   ]
  },
  {
   "cell_type": "markdown",
   "id": "closed-shooting",
   "metadata": {},
   "source": [
    "# 17/05/1996"
   ]
  },
  {
   "cell_type": "markdown",
   "id": "romantic-anime",
   "metadata": {},
   "source": [
    "# For Test Data"
   ]
  },
  {
   "cell_type": "code",
   "execution_count": 599,
   "id": "constitutional-cabinet",
   "metadata": {},
   "outputs": [],
   "source": [
    "test.loc[ test['age'] <= 37.4, 'age'] = 0\n",
    "test.loc[(test['age'] > 37.4) & (test['age'] <= 53.8), 'age'] = 1\n",
    "test.loc[(test['age'] > 53.8) & (test['age'] <= 70.2), 'age'] = 2\n",
    "test.loc[(test['age'] > 70.2) & (test['age'] <= 86.6), 'age'] = 3\n",
    "test.loc[ test['age'] > 86.6, 'age'] = 4\n",
    "#test.drop('AgeBands', axis = 1, inplace = True)"
   ]
  },
  {
   "cell_type": "code",
   "execution_count": 600,
   "id": "copyrighted-cabinet",
   "metadata": {},
   "outputs": [],
   "source": [
    "test['residence_area_type'] = test['residence_area_type'].map( {'Urban' : 1, 'Rural' : 0} )"
   ]
  },
  {
   "cell_type": "code",
   "execution_count": 601,
   "id": "right-kernel",
   "metadata": {},
   "outputs": [],
   "source": [
    "test['sourcing_channel'] = test['sourcing_channel'].map( {'A' : 0, 'B' : 1, 'C' : 2, 'D' : 3, 'E' : 4} )"
   ]
  },
  {
   "cell_type": "code",
   "execution_count": 602,
   "id": "horizontal-coach",
   "metadata": {},
   "outputs": [
    {
     "name": "stdout",
     "output_type": "stream",
     "text": [
      "0.10000    71573.00000\n",
      "0.95000   435100.00000\n",
      "Name: Income, dtype: float64\n"
     ]
    }
   ],
   "source": [
    "upper_bound = 0.95\n",
    "lower_bound = 0.1\n",
    "res = test['Income'].quantile([lower_bound, upper_bound])\n",
    "print(res)"
   ]
  },
  {
   "cell_type": "code",
   "execution_count": 603,
   "id": "continuous-display",
   "metadata": {},
   "outputs": [
    {
     "data": {
      "text/plain": [
       "0        True\n",
       "1        True\n",
       "2        True\n",
       "3        True\n",
       "4        True\n",
       "         ... \n",
       "34219    True\n",
       "34220    True\n",
       "34221    True\n",
       "34222    True\n",
       "34223    True\n",
       "Name: Income, Length: 34224, dtype: bool"
      ]
     },
     "execution_count": 603,
     "metadata": {},
     "output_type": "execute_result"
    }
   ],
   "source": [
    "true_index = (test['Income'] < res.loc[upper_bound])\n",
    "true_index"
   ]
  },
  {
   "cell_type": "code",
   "execution_count": 604,
   "id": "flexible-karma",
   "metadata": {},
   "outputs": [],
   "source": [
    "false_index = ~true_index"
   ]
  },
  {
   "cell_type": "code",
   "execution_count": 605,
   "id": "several-portugal",
   "metadata": {},
   "outputs": [
    {
     "data": {
      "text/html": [
       "<div>\n",
       "<style scoped>\n",
       "    .dataframe tbody tr th:only-of-type {\n",
       "        vertical-align: middle;\n",
       "    }\n",
       "\n",
       "    .dataframe tbody tr th {\n",
       "        vertical-align: top;\n",
       "    }\n",
       "\n",
       "    .dataframe thead th {\n",
       "        text-align: right;\n",
       "    }\n",
       "</style>\n",
       "<table border=\"1\" class=\"dataframe\">\n",
       "  <thead>\n",
       "    <tr style=\"text-align: right;\">\n",
       "      <th></th>\n",
       "      <th>id</th>\n",
       "      <th>perc_premium_paid_by_cash_credit</th>\n",
       "      <th>Income</th>\n",
       "      <th>Count_3-6_months_late</th>\n",
       "      <th>Count_6-12_months_late</th>\n",
       "      <th>Count_more_than_12_months_late</th>\n",
       "      <th>application_underwriting_score</th>\n",
       "      <th>no_of_premiums_paid</th>\n",
       "      <th>sourcing_channel</th>\n",
       "      <th>residence_area_type</th>\n",
       "      <th>age</th>\n",
       "    </tr>\n",
       "  </thead>\n",
       "  <tbody>\n",
       "    <tr>\n",
       "      <th>0</th>\n",
       "      <td>649</td>\n",
       "      <td>0.00100</td>\n",
       "      <td>51150</td>\n",
       "      <td>0.00000</td>\n",
       "      <td>0.00000</td>\n",
       "      <td>0.00000</td>\n",
       "      <td>99.89000</td>\n",
       "      <td>7</td>\n",
       "      <td>0</td>\n",
       "      <td>0</td>\n",
       "      <td>3</td>\n",
       "    </tr>\n",
       "    <tr>\n",
       "      <th>1</th>\n",
       "      <td>81136</td>\n",
       "      <td>0.12400</td>\n",
       "      <td>285140</td>\n",
       "      <td>0.00000</td>\n",
       "      <td>0.00000</td>\n",
       "      <td>0.00000</td>\n",
       "      <td>98.93000</td>\n",
       "      <td>19</td>\n",
       "      <td>0</td>\n",
       "      <td>1</td>\n",
       "      <td>2</td>\n",
       "    </tr>\n",
       "    <tr>\n",
       "      <th>2</th>\n",
       "      <td>70762</td>\n",
       "      <td>1.00000</td>\n",
       "      <td>186030</td>\n",
       "      <td>0.00000</td>\n",
       "      <td>0.00000</td>\n",
       "      <td>0.00000</td>\n",
       "      <td>NaN</td>\n",
       "      <td>2</td>\n",
       "      <td>1</td>\n",
       "      <td>1</td>\n",
       "      <td>1</td>\n",
       "    </tr>\n",
       "    <tr>\n",
       "      <th>3</th>\n",
       "      <td>53935</td>\n",
       "      <td>0.19800</td>\n",
       "      <td>123540</td>\n",
       "      <td>0.00000</td>\n",
       "      <td>0.00000</td>\n",
       "      <td>0.00000</td>\n",
       "      <td>99.00000</td>\n",
       "      <td>11</td>\n",
       "      <td>1</td>\n",
       "      <td>0</td>\n",
       "      <td>1</td>\n",
       "    </tr>\n",
       "    <tr>\n",
       "      <th>4</th>\n",
       "      <td>15476</td>\n",
       "      <td>0.04100</td>\n",
       "      <td>200020</td>\n",
       "      <td>1.00000</td>\n",
       "      <td>0.00000</td>\n",
       "      <td>0.00000</td>\n",
       "      <td>99.17000</td>\n",
       "      <td>14</td>\n",
       "      <td>0</td>\n",
       "      <td>0</td>\n",
       "      <td>0</td>\n",
       "    </tr>\n",
       "  </tbody>\n",
       "</table>\n",
       "</div>"
      ],
      "text/plain": [
       "      id  perc_premium_paid_by_cash_credit  Income  Count_3-6_months_late  \\\n",
       "0    649                           0.00100   51150                0.00000   \n",
       "1  81136                           0.12400  285140                0.00000   \n",
       "2  70762                           1.00000  186030                0.00000   \n",
       "3  53935                           0.19800  123540                0.00000   \n",
       "4  15476                           0.04100  200020                1.00000   \n",
       "\n",
       "   Count_6-12_months_late  Count_more_than_12_months_late  \\\n",
       "0                 0.00000                         0.00000   \n",
       "1                 0.00000                         0.00000   \n",
       "2                 0.00000                         0.00000   \n",
       "3                 0.00000                         0.00000   \n",
       "4                 0.00000                         0.00000   \n",
       "\n",
       "   application_underwriting_score  no_of_premiums_paid  sourcing_channel  \\\n",
       "0                        99.89000                    7                 0   \n",
       "1                        98.93000                   19                 0   \n",
       "2                             NaN                    2                 1   \n",
       "3                        99.00000                   11                 1   \n",
       "4                        99.17000                   14                 0   \n",
       "\n",
       "   residence_area_type  age  \n",
       "0                    0    3  \n",
       "1                    1    2  \n",
       "2                    1    1  \n",
       "3                    0    1  \n",
       "4                    0    0  "
      ]
     },
     "execution_count": 605,
     "metadata": {},
     "output_type": "execute_result"
    }
   ],
   "source": [
    "no_outlier_data = test[true_index].copy()\n",
    "no_outlier_data.head()"
   ]
  },
  {
   "cell_type": "code",
   "execution_count": 606,
   "id": "mounted-patient",
   "metadata": {},
   "outputs": [],
   "source": [
    "no_outlier_data['IncomeBands'] = pd.cut(no_outlier_data['Income'], 5)\n",
    "#no_outlier_data[['IncomeBands', 'target']].groupby('IncomeBands', as_index = False).count()"
   ]
  },
  {
   "cell_type": "code",
   "execution_count": 607,
   "id": "alleged-account",
   "metadata": {},
   "outputs": [],
   "source": [
    "test.loc[ test['Income'] <= 23603.99, 'Income'] = 0\n",
    "test.loc[(test['Income'] > 23603.99) & (test['Income'] <= 109232.0), 'Income'] = 1\n",
    "test.loc[(test['Income'] > 109232.0) & (test['Income'] <= 194434.0), 'Income'] = 2\n",
    "test.loc[(test['Income'] > 194434.0) & (test['Income'] <= 279636.0), 'Income'] = 3\n",
    "test.loc[(test['Income'] > 279636.0) & (test['Income'] <= 364838.0), 'Income'] = 4\n",
    "test.loc[(test['Income'] > 364838.0) & (test['Income'] <= 450040.0), 'Income'] = 5\n",
    "test.loc[ test['Income'] > 450040.0, 'Income'] = 6"
   ]
  },
  {
   "cell_type": "code",
   "execution_count": 608,
   "id": "micro-supervisor",
   "metadata": {},
   "outputs": [],
   "source": [
    "test.loc[false_index, 'Income'] = 5"
   ]
  },
  {
   "cell_type": "code",
   "execution_count": 609,
   "id": "becoming-lotus",
   "metadata": {},
   "outputs": [],
   "source": [
    "for dataset in [test]: \n",
    "    mask1 = dataset['application_underwriting_score'].isnull()\n",
    "    for source in [0, 1, 2, 3, 4,5,6,7]:\n",
    "        mask2 = (dataset['Income'] == source)\n",
    "        source_mean = dataset[dataset['Income'] == source]['application_underwriting_score'].mean()\n",
    "        dataset.loc[mask1 & mask2, 'application_underwriting_score'] = source_mean\n"
   ]
  },
  {
   "cell_type": "code",
   "execution_count": 610,
   "id": "affected-bicycle",
   "metadata": {},
   "outputs": [
    {
     "data": {
      "text/plain": [
       "id                                   0\n",
       "perc_premium_paid_by_cash_credit     0\n",
       "Income                               0\n",
       "Count_3-6_months_late               31\n",
       "Count_6-12_months_late              31\n",
       "Count_more_than_12_months_late      31\n",
       "application_underwriting_score       0\n",
       "no_of_premiums_paid                  0\n",
       "sourcing_channel                     0\n",
       "residence_area_type                  0\n",
       "age                                  0\n",
       "dtype: int64"
      ]
     },
     "execution_count": 610,
     "metadata": {},
     "output_type": "execute_result"
    }
   ],
   "source": [
    "test.isnull().sum()"
   ]
  },
  {
   "cell_type": "code",
   "execution_count": 611,
   "id": "undefined-tattoo",
   "metadata": {},
   "outputs": [],
   "source": [
    "#null_data_test = test[test.isnull().any(axis=1)]"
   ]
  },
  {
   "cell_type": "code",
   "execution_count": 612,
   "id": "acquired-decade",
   "metadata": {},
   "outputs": [],
   "source": [
    "#df_test=  test.dropna(axis=0,how='any')"
   ]
  },
  {
   "cell_type": "code",
   "execution_count": 613,
   "id": "fatty-going",
   "metadata": {},
   "outputs": [],
   "source": [
    "test['Count_3-6_months_late'] = test['Count_3-6_months_late'].fillna(0)\n",
    "test['Count_6-12_months_late'] = test['Count_6-12_months_late'].fillna(0)\n",
    "test['Count_more_than_12_months_late'] = test['Count_more_than_12_months_late'].fillna(0) "
   ]
  },
  {
   "cell_type": "code",
   "execution_count": 614,
   "id": "robust-consideration",
   "metadata": {},
   "outputs": [
    {
     "data": {
      "text/plain": [
       "(34224, 11)"
      ]
     },
     "execution_count": 614,
     "metadata": {},
     "output_type": "execute_result"
    }
   ],
   "source": [
    "test.shape"
   ]
  },
  {
   "cell_type": "code",
   "execution_count": null,
   "id": "seeing-honor",
   "metadata": {},
   "outputs": [],
   "source": []
  },
  {
   "cell_type": "code",
   "execution_count": null,
   "id": "joint-ultimate",
   "metadata": {},
   "outputs": [],
   "source": []
  },
  {
   "cell_type": "code",
   "execution_count": 615,
   "id": "published-meter",
   "metadata": {},
   "outputs": [],
   "source": [
    "test_id = test['id'].copy()"
   ]
  },
  {
   "cell_type": "code",
   "execution_count": 616,
   "id": "characteristic-floor",
   "metadata": {},
   "outputs": [],
   "source": [
    "test.drop(['id'],axis=1,inplace=True)"
   ]
  },
  {
   "cell_type": "code",
   "execution_count": 617,
   "id": "fabulous-remainder",
   "metadata": {},
   "outputs": [
    {
     "data": {
      "text/plain": [
       "0          649\n",
       "1        81136\n",
       "2        70762\n",
       "3        53935\n",
       "4        15476\n",
       "         ...  \n",
       "34219    81988\n",
       "34220    30326\n",
       "34221    65749\n",
       "34222    65686\n",
       "34223    93826\n",
       "Name: id, Length: 34224, dtype: int64"
      ]
     },
     "execution_count": 617,
     "metadata": {},
     "output_type": "execute_result"
    }
   ],
   "source": [
    "test_id"
   ]
  },
  {
   "cell_type": "code",
   "execution_count": 618,
   "id": "animated-parts",
   "metadata": {},
   "outputs": [],
   "source": [
    "x_test = test[['perc_premium_paid_by_cash_credit','Income','Count_3-6_months_late','Count_6-12_months_late','Count_more_than_12_months_late','application_underwriting_score','no_of_premiums_paid','sourcing_channel','residence_area_type','age']]"
   ]
  },
  {
   "cell_type": "markdown",
   "id": "increased-complaint",
   "metadata": {},
   "source": [
    "Logict"
   ]
  },
  {
   "cell_type": "code",
   "execution_count": 619,
   "id": "matched-canada",
   "metadata": {},
   "outputs": [],
   "source": [
    "y_pred = lr.predict(x_test)"
   ]
  },
  {
   "cell_type": "code",
   "execution_count": null,
   "id": "official-adapter",
   "metadata": {},
   "outputs": [],
   "source": []
  },
  {
   "cell_type": "code",
   "execution_count": null,
   "id": "impossible-volunteer",
   "metadata": {},
   "outputs": [],
   "source": []
  },
  {
   "cell_type": "markdown",
   "id": "modular-edgar",
   "metadata": {},
   "source": [
    "# Decision Tree"
   ]
  },
  {
   "cell_type": "code",
   "execution_count": 620,
   "id": "norman-supplement",
   "metadata": {},
   "outputs": [],
   "source": [
    "result = clf.predict(x_test)"
   ]
  },
  {
   "cell_type": "code",
   "execution_count": 621,
   "id": "ordinary-complaint",
   "metadata": {},
   "outputs": [
    {
     "data": {
      "text/plain": [
       "array([1, 1, 0, ..., 1, 0, 1], dtype=int64)"
      ]
     },
     "execution_count": 621,
     "metadata": {},
     "output_type": "execute_result"
    }
   ],
   "source": [
    "result"
   ]
  },
  {
   "cell_type": "code",
   "execution_count": 622,
   "id": "rapid-insertion",
   "metadata": {},
   "outputs": [
    {
     "data": {
      "text/plain": [
       "(array([0, 1], dtype=int64), array([ 2489, 31735], dtype=int64))"
      ]
     },
     "execution_count": 622,
     "metadata": {},
     "output_type": "execute_result"
    }
   ],
   "source": [
    "np.unique(result, return_counts=True)"
   ]
  },
  {
   "cell_type": "code",
   "execution_count": null,
   "id": "competent-funeral",
   "metadata": {},
   "outputs": [],
   "source": []
  },
  {
   "cell_type": "code",
   "execution_count": 623,
   "id": "interested-gambling",
   "metadata": {},
   "outputs": [],
   "source": [
    "dict = {'id':test_id ,'target':result}"
   ]
  },
  {
   "cell_type": "code",
   "execution_count": 624,
   "id": "political-sitting",
   "metadata": {},
   "outputs": [],
   "source": [
    "sample = pd.DataFrame(dict)"
   ]
  },
  {
   "cell_type": "code",
   "execution_count": 625,
   "id": "boolean-coordination",
   "metadata": {},
   "outputs": [],
   "source": [
    "#sample.to_csv('Sample.csv',index=False)"
   ]
  },
  {
   "cell_type": "code",
   "execution_count": null,
   "id": "starting-marble",
   "metadata": {},
   "outputs": [],
   "source": []
  }
 ],
 "metadata": {
  "kernelspec": {
   "display_name": "Python 3",
   "language": "python",
   "name": "python3"
  },
  "language_info": {
   "codemirror_mode": {
    "name": "ipython",
    "version": 3
   },
   "file_extension": ".py",
   "mimetype": "text/x-python",
   "name": "python",
   "nbconvert_exporter": "python",
   "pygments_lexer": "ipython3",
   "version": "3.7.10"
  }
 },
 "nbformat": 4,
 "nbformat_minor": 5
}
